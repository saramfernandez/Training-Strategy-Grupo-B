{
 "cells": [
  {
   "cell_type": "markdown",
   "id": "859d38e7-11c0-48bc-978a-d0e907f19ed1",
   "metadata": {
    "id": "859d38e7-11c0-48bc-978a-d0e907f19ed1"
   },
   "source": [
    "# 9 WorkFlow Analista Jr"
   ]
  },
  {
   "cell_type": "markdown",
   "id": "29c586e3-ed7d-44b2-92a0-f19669f06940",
   "metadata": {
    "id": "29c586e3-ed7d-44b2-92a0-f19669f06940"
   },
   "source": [
    "### 9.1 Objetivo"
   ]
  },
  {
   "cell_type": "markdown",
   "id": "6fff8327-10ed-4b11-bbee-f1c3f357d123",
   "metadata": {
    "id": "6fff8327-10ed-4b11-bbee-f1c3f357d123"
   },
   "source": [
    "Presentar un workflow/pipeline completo al que los estudiantes deberán\n",
    "<br>El Analista Jr corre sus scripts en la virtual manchine **desktop-jr** que tiene estas características\n",
    "\n",
    "\n",
    "*   Normal, paga tarifa completa, nunca es apagada por Google\n",
    "*   reside en el datacenter de Sao Paulo, Brasil\n",
    "*   64 GB de memoria RAM\n",
    "*   8 vCPU\n",
    "\n"
   ]
  },
  {
   "cell_type": "markdown",
   "id": "oSKhZRToy2F7",
   "metadata": {
    "id": "oSKhZRToy2F7"
   },
   "source": [
    "## 9.3  Workflow"
   ]
  },
  {
   "cell_type": "markdown",
   "id": "85171302-a2d6-48cb-b9b2-8d839a276859",
   "metadata": {
    "id": "85171302-a2d6-48cb-b9b2-8d839a276859"
   },
   "source": [
    "## Inicializacion"
   ]
  },
  {
   "cell_type": "markdown",
   "id": "eSU5vi00CPRS",
   "metadata": {
    "id": "eSU5vi00CPRS"
   },
   "source": [
    "Esta parte se debe correr con el runtime en lenguaje **R** Ir al menu, Runtime -> Change Runtime Type -> Runtime type -> R"
   ]
  },
  {
   "cell_type": "markdown",
   "id": "Zq8dySimCPRT",
   "metadata": {
    "id": "Zq8dySimCPRT"
   },
   "source": [
    "limpio el ambiente de R"
   ]
  },
  {
   "cell_type": "code",
   "execution_count": 3,
   "id": "EL8wdHaUs59K",
   "metadata": {
    "id": "EL8wdHaUs59K",
    "vscode": {
     "languageId": "r"
    }
   },
   "outputs": [
    {
     "data": {
      "text/html": [
       "'Sat Aug 16 02:59:03 2025'"
      ],
      "text/latex": [
       "'Sat Aug 16 02:59:03 2025'"
      ],
      "text/markdown": [
       "'Sat Aug 16 02:59:03 2025'"
      ],
      "text/plain": [
       "[1] \"Sat Aug 16 02:59:03 2025\""
      ]
     },
     "metadata": {},
     "output_type": "display_data"
    }
   ],
   "source": [
    "format(Sys.time(), \"%a %b %d %X %Y\")"
   ]
  },
  {
   "cell_type": "code",
   "execution_count": 4,
   "id": "1iE0U4_WCPRT",
   "metadata": {
    "id": "1iE0U4_WCPRT",
    "vscode": {
     "languageId": "r"
    }
   },
   "outputs": [
    {
     "data": {
      "text/html": [
       "<table class=\"dataframe\">\n",
       "<caption>A matrix: 2 × 6 of type dbl</caption>\n",
       "<thead>\n",
       "\t<tr><th></th><th scope=col>used</th><th scope=col>(Mb)</th><th scope=col>gc trigger</th><th scope=col>(Mb)</th><th scope=col>max used</th><th scope=col>(Mb)</th></tr>\n",
       "</thead>\n",
       "<tbody>\n",
       "\t<tr><th scope=row>Ncells</th><td> 658462</td><td>35.2</td><td>1439374</td><td>76.9</td><td>1439374</td><td>76.9</td></tr>\n",
       "\t<tr><th scope=row>Vcells</th><td>1228544</td><td> 9.4</td><td>8388608</td><td>64.0</td><td>1924955</td><td>14.7</td></tr>\n",
       "</tbody>\n",
       "</table>\n"
      ],
      "text/latex": [
       "A matrix: 2 × 6 of type dbl\n",
       "\\begin{tabular}{r|llllll}\n",
       "  & used & (Mb) & gc trigger & (Mb) & max used & (Mb)\\\\\n",
       "\\hline\n",
       "\tNcells &  658462 & 35.2 & 1439374 & 76.9 & 1439374 & 76.9\\\\\n",
       "\tVcells & 1228544 &  9.4 & 8388608 & 64.0 & 1924955 & 14.7\\\\\n",
       "\\end{tabular}\n"
      ],
      "text/markdown": [
       "\n",
       "A matrix: 2 × 6 of type dbl\n",
       "\n",
       "| <!--/--> | used | (Mb) | gc trigger | (Mb) | max used | (Mb) |\n",
       "|---|---|---|---|---|---|---|\n",
       "| Ncells |  658462 | 35.2 | 1439374 | 76.9 | 1439374 | 76.9 |\n",
       "| Vcells | 1228544 |  9.4 | 8388608 | 64.0 | 1924955 | 14.7 |\n",
       "\n"
      ],
      "text/plain": [
       "       used    (Mb) gc trigger (Mb) max used (Mb)\n",
       "Ncells  658462 35.2 1439374    76.9 1439374  76.9\n",
       "Vcells 1228544  9.4 8388608    64.0 1924955  14.7"
      ]
     },
     "metadata": {},
     "output_type": "display_data"
    }
   ],
   "source": [
    "# limpio la memoria\n",
    "rm(list=ls(all.names=TRUE)) # remove all objects\n",
    "gc(full=TRUE, verbose=FALSE) # garbage collection"
   ]
  },
  {
   "cell_type": "code",
   "execution_count": 5,
   "id": "atmIUEUNUrK5",
   "metadata": {
    "id": "atmIUEUNUrK5",
    "vscode": {
     "languageId": "r"
    }
   },
   "outputs": [
    {
     "name": "stderr",
     "output_type": "stream",
     "text": [
      "Loading required package: data.table\n",
      "\n",
      "Loading required package: R.utils\n",
      "\n",
      "Loading required package: R.oo\n",
      "\n",
      "Loading required package: R.methodsS3\n",
      "\n",
      "R.methodsS3 v1.8.2 (2022-06-13 22:00:14 UTC) successfully loaded. See ?R.methodsS3 for help.\n",
      "\n",
      "R.oo v1.27.1 (2025-05-02 21:00:05 UTC) successfully loaded. See ?R.oo for help.\n",
      "\n",
      "\n",
      "Attaching package: ‘R.oo’\n",
      "\n",
      "\n",
      "The following object is masked from ‘package:R.methodsS3’:\n",
      "\n",
      "    throw\n",
      "\n",
      "\n",
      "The following objects are masked from ‘package:methods’:\n",
      "\n",
      "    getClasses, getMethods\n",
      "\n",
      "\n",
      "The following objects are masked from ‘package:base’:\n",
      "\n",
      "    attach, detach, load, save\n",
      "\n",
      "\n",
      "R.utils v2.13.0 (2025-02-24 21:20:02 UTC) successfully loaded. See ?R.utils for help.\n",
      "\n",
      "\n",
      "Attaching package: ‘R.utils’\n",
      "\n",
      "\n",
      "The following object is masked from ‘package:utils’:\n",
      "\n",
      "    timestamp\n",
      "\n",
      "\n",
      "The following objects are masked from ‘package:base’:\n",
      "\n",
      "    cat, commandArgs, getOption, isOpen, nullfile, parse, use, warnings\n",
      "\n",
      "\n"
     ]
    }
   ],
   "source": [
    "require(\"data.table\")\n",
    "\n",
    "if( !require(\"R.utils\")) install.packages(\"R.utils\")\n",
    "require(\"R.utils\")"
   ]
  },
  {
   "cell_type": "markdown",
   "id": "BsxZ_ONyj9L_",
   "metadata": {
    "id": "BsxZ_ONyj9L_"
   },
   "source": [
    "#### Parametros"
   ]
  },
  {
   "cell_type": "code",
   "execution_count": 6,
   "id": "peRH7ySLCPRV",
   "metadata": {
    "id": "peRH7ySLCPRV",
    "vscode": {
     "languageId": "r"
    }
   },
   "outputs": [],
   "source": [
    "#Semillas: 100183, 250007, 500009, 750011, 999979\n",
    "\n",
    "PARAM <- list()\n",
    "\n",
    "PARAM$semilla_primigenia <- 100183\n",
    "\n",
    "PARAM$experimento <- \"Colaborativo_S5\"\n",
    "PARAM$dataset <- \"analistajr_competencia_2025.csv.gz\""
   ]
  },
  {
   "cell_type": "markdown",
   "id": "NoJbKo_4NG8A",
   "metadata": {
    "id": "NoJbKo_4NG8A"
   },
   "source": [
    "#### Carpeta del Experimento"
   ]
  },
  {
   "cell_type": "code",
   "execution_count": 7,
   "id": "1gZD6ZMvCPRV",
   "metadata": {
    "id": "1gZD6ZMvCPRV",
    "vscode": {
     "languageId": "r"
    }
   },
   "outputs": [],
   "source": [
    "# carpeta de trabajo\n",
    "\n",
    "setwd(\"/content/buckets/b1/exp\")\n",
    "experimento_folder <- paste0(\"WF\", PARAM$experimento)\n",
    "dir.create(experimento_folder, showWarnings=FALSE)\n",
    "setwd( paste0(\"/content/buckets/b1/exp/\", experimento_folder ))"
   ]
  },
  {
   "cell_type": "markdown",
   "id": "YVKBfLtkR8SO",
   "metadata": {
    "id": "YVKBfLtkR8SO"
   },
   "source": [
    "### 9.3.1   Preprocesamiento del dataset"
   ]
  },
  {
   "cell_type": "markdown",
   "id": "cr3K0RPVRjq6",
   "metadata": {
    "id": "cr3K0RPVRjq6"
   },
   "source": [
    "#### 9.3.1.1  DT incorporar dataset"
   ]
  },
  {
   "cell_type": "code",
   "execution_count": 8,
   "id": "Xi0emX2ECPRV",
   "metadata": {
    "id": "Xi0emX2ECPRV",
    "vscode": {
     "languageId": "r"
    }
   },
   "outputs": [],
   "source": [
    "# lectura del dataset\n",
    "dataset <- fread(paste0(\"/content/datasets/\", PARAM$dataset))"
   ]
  },
  {
   "cell_type": "markdown",
   "id": "MWuPzK3nSLY3",
   "metadata": {
    "id": "MWuPzK3nSLY3"
   },
   "source": [
    "#### 9.3.1.2  CA  Catastrophe Analysis\n",
    "Se intentan reparar las variables que para un mes están con todos los valores en cero."
   ]
  },
  {
   "cell_type": "markdown",
   "id": "UAI16-yCVcBS",
   "metadata": {
    "id": "UAI16-yCVcBS"
   },
   "source": [
    "El método que se utiliza es **Machine Learning** se asigna NA also valores, si ha leido bien, es la \"anti imputación de valores faltantes\"\n",
    "<br> Usted podrá aplicar aquí otros métodos"
   ]
  },
  {
   "cell_type": "code",
   "execution_count": 9,
   "id": "JB9nRyNKNBzy",
   "metadata": {
    "id": "JB9nRyNKNBzy",
    "vscode": {
     "languageId": "r"
    }
   },
   "outputs": [
    {
     "name": "stderr",
     "output_type": "stream",
     "text": [
      "Loading required package: mice\n",
      "\n",
      "\n",
      "Attaching package: ‘mice’\n",
      "\n",
      "\n",
      "The following object is masked from ‘package:stats’:\n",
      "\n",
      "    filter\n",
      "\n",
      "\n",
      "The following objects are masked from ‘package:base’:\n",
      "\n",
      "    cbind, rbind\n",
      "\n",
      "\n"
     ]
    }
   ],
   "source": [
    "if( !require(\"mice\")) install.packages(\"mice\", repos = \"http://cran.us.r-project.org\")\n",
    "require(\"mice\")"
   ]
  },
  {
   "cell_type": "code",
   "execution_count": 10,
   "id": "QuraTbvTMmpf",
   "metadata": {
    "id": "QuraTbvTMmpf",
    "vscode": {
     "languageId": "r"
    }
   },
   "outputs": [],
   "source": [
    "# Escrito por alumnos de  Universidad Austral  Rosario\n",
    "\n",
    "Corregir_MICE <- function(pcampo, pmeses) {\n",
    "\n",
    "  meth <- rep(\"\", ncol(dataset))\n",
    "  names(meth) <- colnames(dataset)\n",
    "  meth[names(meth) == pcampo] <- \"sample\"\n",
    "\n",
    "  # llamada a mice  !\n",
    "  imputacion <- mice(dataset,\n",
    "    method = meth,\n",
    "    maxit = 5,\n",
    "    m = 1,\n",
    "    seed = 7)\n",
    "\n",
    "  tbl <- mice::complete(dataset)\n",
    "\n",
    "  dataset[, paste0(pcampo) := ifelse(foto_mes %in% pmeses, tbl[, get(pcampo)], get(pcampo))]\n",
    "\n",
    "}\n"
   ]
  },
  {
   "cell_type": "code",
   "execution_count": 11,
   "id": "mUDX04VTJz3M",
   "metadata": {
    "id": "mUDX04VTJz3M",
    "vscode": {
     "languageId": "r"
    }
   },
   "outputs": [],
   "source": [
    "Corregir_interpolar <- function(pcampo, pmeses) {\n",
    "\n",
    "  tbl <- dataset[, list(\n",
    "    \"v1\" = shift(get(pcampo), 1, type = \"lag\"),\n",
    "    \"v2\" = shift(get(pcampo), 1, type = \"lead\")\n",
    "  ),\n",
    "  by = eval(envg$PARAM$dataset_metadata$entity_id)\n",
    "  ]\n",
    "\n",
    "  tbl[, paste0(envg$PARAM$dataset_metadata$entity_id) := NULL]\n",
    "  tbl[, promedio := rowMeans(tbl, na.rm = TRUE)]\n",
    "\n",
    "  dataset[\n",
    "    ,\n",
    "    paste0(pcampo) := ifelse(!(foto_mes %in% pmeses),\n",
    "      get(pcampo),\n",
    "      tbl$promedio\n",
    "    )\n",
    "  ]\n",
    "}"
   ]
  },
  {
   "cell_type": "code",
   "execution_count": 12,
   "id": "Yyt2YmrbJ1zf",
   "metadata": {
    "id": "Yyt2YmrbJ1zf",
    "vscode": {
     "languageId": "r"
    }
   },
   "outputs": [],
   "source": [
    "AsignarNA_campomeses <- function(pcampo, pmeses) {\n",
    "\n",
    "  if( pcampo %in% colnames( dataset ) ) {\n",
    "\n",
    "    dataset[ foto_mes %in% pmeses, paste0(pcampo) := NA ]\n",
    "  }\n",
    "}"
   ]
  },
  {
   "cell_type": "code",
   "execution_count": 13,
   "id": "aFBlFw7hJ4EW",
   "metadata": {
    "id": "aFBlFw7hJ4EW",
    "vscode": {
     "languageId": "r"
    }
   },
   "outputs": [],
   "source": [
    "\n",
    "Corregir_atributo <- function(pcampo, pmeses, pmetodo)\n",
    "{\n",
    "  # si el campo no existe en el dataset, Afuera !\n",
    "  if( !(pcampo %in% colnames( dataset )) )\n",
    "    return( 1 )\n",
    "\n",
    "  # llamo a la funcion especializada que corresponde\n",
    "  switch( pmetodo,\n",
    "    \"MachineLearning\"     = AsignarNA_campomeses(pcampo, pmeses),\n",
    "    \"EstadisticaClasica\"  = Corregir_interpolar(pcampo, pmeses),\n",
    "    \"MICE\"                = Corregir_MICE(pcampo, pmeses),\n",
    "  )\n",
    "\n",
    "  return( 0 )\n",
    "}"
   ]
  },
  {
   "cell_type": "code",
   "execution_count": 14,
   "id": "krkr3JCxJ9Px",
   "metadata": {
    "id": "krkr3JCxJ9Px",
    "vscode": {
     "languageId": "r"
    }
   },
   "outputs": [],
   "source": [
    "\n",
    "Corregir_Rotas <- function(dataset, pmetodo) {\n",
    "  gc(verbose= FALSE)\n",
    "  cat( \"inicio Corregir_Rotas()\\n\")\n",
    "  # acomodo los errores del dataset\n",
    "\n",
    "  Corregir_atributo(\"active_quarter\", c(202006), pmetodo) # 1\n",
    "  Corregir_atributo(\"internet\", c(202006), pmetodo) # 2\n",
    "\n",
    "  Corregir_atributo(\"mrentabilidad\", c(201905, 201910, 202006), pmetodo) # 3\n",
    "  Corregir_atributo(\"mrentabilidad_annual\", c(201905, 201910, 202006), pmetodo) # 4\n",
    "\n",
    "  Corregir_atributo(\"mcomisiones\", c(201905, 201910, 202006), pmetodo) # 5\n",
    "\n",
    "  Corregir_atributo(\"mactivos_margen\", c(201905, 201910, 202006), pmetodo) # 6\n",
    "  Corregir_atributo(\"mpasivos_margen\", c(201905, 201910, 202006), pmetodo) # 7\n",
    "\n",
    "  Corregir_atributo(\"mcuentas_saldo\", c(202006), pmetodo) # 8\n",
    "\n",
    "  Corregir_atributo(\"ctarjeta_debito_transacciones\", c(202006), pmetodo) # 9\n",
    "\n",
    "  Corregir_atributo(\"mautoservicio\", c(202006), pmetodo) # 10\n",
    "\n",
    "  Corregir_atributo(\"ctarjeta_visa_transacciones\", c(202006), pmetodo) # 11\n",
    "  Corregir_atributo(\"mtarjeta_visa_consumo\", c(202006), pmetodo) # 12\n",
    "\n",
    "  Corregir_atributo(\"ctarjeta_master_transacciones\", c(202006), pmetodo) # 13\n",
    "  Corregir_atributo(\"mtarjeta_master_consumo\", c(202006), pmetodo) # 14\n",
    "\n",
    "  Corregir_atributo(\"ctarjeta_visa_debitos_automaticos\", c(201904), pmetodo) # 15\n",
    "  Corregir_atributo(\"mttarjeta_visa_debitos_automaticos\", c(201904), pmetodo) # 16\n",
    "\n",
    "  Corregir_atributo(\"ccajeros_propios_descuentos\",\n",
    "    c(201910, 202002, 202006, 202009, 202010, 202102), pmetodo) # 17\n",
    "\n",
    "  Corregir_atributo(\"mcajeros_propios_descuentos\",\n",
    "    c(201910, 202002, 202006, 202009, 202010, 202102), pmetodo) # 18\n",
    "\n",
    "  Corregir_atributo(\"ctarjeta_visa_descuentos\",\n",
    "    c(201910, 202002, 202006, 202009, 202010, 202102), pmetodo) # 19\n",
    "\n",
    "  Corregir_atributo(\"mtarjeta_visa_descuentos\",\n",
    "    c(201910, 202002, 202006, 202009, 202010, 202102), pmetodo) # 20\n",
    "\n",
    "  Corregir_atributo(\"ctarjeta_master_descuentos\",\n",
    "    c(201910, 202002, 202006, 202009, 202010, 202102), pmetodo) # 21\n",
    "\n",
    "  Corregir_atributo(\"mtarjeta_master_descuentos\",\n",
    "    c(201910, 202002, 202006, 202009, 202010, 202102), pmetodo) # 22\n",
    "\n",
    "  Corregir_atributo(\"ccomisiones_otras\", c(201905, 201910, 202006), pmetodo) # 23\n",
    "  Corregir_atributo(\"mcomisiones_otras\", c(201905, 201910, 202006), pmetodo) # 24\n",
    "\n",
    "  Corregir_atributo(\"cextraccion_autoservicio\", c(202006), pmetodo) # 25\n",
    "  Corregir_atributo(\"mextraccion_autoservicio\", c(202006), pmetodo) # 26\n",
    "\n",
    "  Corregir_atributo(\"ccheques_depositados\", c(202006), pmetodo) # 27\n",
    "  Corregir_atributo(\"mcheques_depositados\", c(202006), pmetodo) # 28\n",
    "  Corregir_atributo(\"ccheques_emitidos\", c(202006), pmetodo) # 29\n",
    "  Corregir_atributo(\"mcheques_emitidos\", c(202006), pmetodo) # 30\n",
    "  Corregir_atributo(\"ccheques_depositados_rechazados\", c(202006), pmetodo) # 31\n",
    "  Corregir_atributo(\"mcheques_depositados_rechazados\", c(202006), pmetodo) # 32\n",
    "  Corregir_atributo(\"ccheques_emitidos_rechazados\", c(202006), pmetodo) # 33\n",
    "  Corregir_atributo(\"mcheques_emitidos_rechazados\", c(202006), pmetodo) # 34\n",
    "\n",
    "  Corregir_atributo(\"tcallcenter\", c(202006), pmetodo) # 35\n",
    "  Corregir_atributo(\"ccallcenter_transacciones\", c(202006), pmetodo) # 36\n",
    "\n",
    "  Corregir_atributo(\"thomebanking\", c(202006), pmetodo) # 37\n",
    "  Corregir_atributo(\"chomebanking_transacciones\", c(201910, 202006), pmetodo) # 38\n",
    "\n",
    "  Corregir_atributo(\"ccajas_transacciones\", c(202006), pmetodo) # 39\n",
    "  Corregir_atributo(\"ccajas_consultas\", c(202006), pmetodo) # 40\n",
    "\n",
    "  Corregir_atributo(\"ccajas_depositos\", c(202006, 202105), pmetodo) # 41\n",
    "\n",
    "  Corregir_atributo(\"ccajas_extracciones\", c(202006), pmetodo) # 41\n",
    "  Corregir_atributo(\"ccajas_otras\", c(202006), pmetodo) # 43\n",
    "\n",
    "  Corregir_atributo(\"catm_trx\", c(202006), pmetodo) # 44\n",
    "  Corregir_atributo(\"matm\", c(202006), pmetodo) # 45\n",
    "  Corregir_atributo(\"catm_trx_other\", c(202006), pmetodo) # 46\n",
    "  Corregir_atributo(\"matm_other\", c(202006), pmetodo) # 47\n",
    "\n",
    "  cat( \"fin Corregir_rotas()\\n\")\n",
    "}\n"
   ]
  },
  {
   "cell_type": "code",
   "execution_count": 15,
   "id": "HaW4TeBIMxTn",
   "metadata": {
    "id": "HaW4TeBIMxTn",
    "vscode": {
     "languageId": "r"
    }
   },
   "outputs": [
    {
     "name": "stdout",
     "output_type": "stream",
     "text": [
      "inicio Corregir_Rotas()\n",
      "fin Corregir_rotas()\n"
     ]
    }
   ],
   "source": [
    "# resuelvo el Catastrophe Analysis\n",
    "\n",
    "setorder( dataset, numero_de_cliente, foto_mes )\n",
    "\n",
    "PARAM$CA$metodo= \"MachineLearning\"\n",
    "\n",
    "if( PARAM$CA$metodo %in% c(\"MachineLearning\", \"EstadisticaClasica\", \"MICE\") )\n",
    "  Corregir_Rotas(dataset, PARAM$CA$metodo)"
   ]
  },
  {
   "cell_type": "markdown",
   "id": "-4NiANYFSYHG",
   "metadata": {
    "id": "-4NiANYFSYHG"
   },
   "source": [
    "#### 9.3.1.3  DR  Data Drifting\n",
    "Se intenta corregir el data drifting, ajustando por algunos indices financieros"
   ]
  },
  {
   "cell_type": "code",
   "execution_count": 16,
   "id": "XXPLxqc1ShLN",
   "metadata": {
    "id": "XXPLxqc1ShLN",
    "vscode": {
     "languageId": "r"
    }
   },
   "outputs": [],
   "source": [
    "# meses que me interesan para el ajuste de variables monetarias\n",
    "vfoto_mes <- c(\n",
    "  201901, 201902, 201903, 201904, 201905, 201906,\n",
    "  201907, 201908, 201909, 201910, 201911, 201912,\n",
    "  202001, 202002, 202003, 202004, 202005, 202006,\n",
    "  202007, 202008, 202009, 202010, 202011, 202012,\n",
    "  202101, 202102, 202103, 202104, 202105, 202106,\n",
    "  202107, 202108, 202109\n",
    ")\n"
   ]
  },
  {
   "cell_type": "code",
   "execution_count": 17,
   "id": "sjjUe3waSh8D",
   "metadata": {
    "id": "sjjUe3waSh8D",
    "vscode": {
     "languageId": "r"
    }
   },
   "outputs": [],
   "source": [
    "# los valores que siguen fueron calculados por alumnos\n",
    "\n",
    "# momento 1.0  31-dic-2020 a las 23:59\n",
    "vIPC <- c(\n",
    "  1.9903030878, 1.9174403544, 1.8296186587,\n",
    "  1.7728862972, 1.7212488323, 1.6776304408,\n",
    "  1.6431248196, 1.5814483345, 1.4947526791,\n",
    "  1.4484037589, 1.3913580777, 1.3404220402,\n",
    "  1.3154288912, 1.2921698342, 1.2472681797,\n",
    "  1.2300475145, 1.2118694724, 1.1881073259,\n",
    "  1.1693969743, 1.1375456949, 1.1065619600,\n",
    "  1.0681100000, 1.0370000000, 1.0000000000,\n",
    "  0.9680542110, 0.9344152616, 0.8882274350,\n",
    "  0.8532444140, 0.8251880213, 0.8003763543,\n",
    "  0.7763107219, 0.7566381305, 0.7289384687\n",
    ")\n",
    "\n",
    "vdolar_blue <- c(\n",
    "   39.045455,  38.402500,  41.639474,\n",
    "   44.274737,  46.095455,  45.063333,\n",
    "   43.983333,  54.842857,  61.059524,\n",
    "   65.545455,  66.750000,  72.368421,\n",
    "   77.477273,  78.191667,  82.434211,\n",
    "  101.087500, 126.236842, 125.857143,\n",
    "  130.782609, 133.400000, 137.954545,\n",
    "  170.619048, 160.400000, 153.052632,\n",
    "  157.900000, 149.380952, 143.615385,\n",
    "  146.250000, 153.550000, 162.000000,\n",
    "  178.478261, 180.878788, 184.357143\n",
    ")\n",
    "\n",
    "vdolar_oficial <- c(\n",
    "   38.430000,  39.428000,  42.542105,\n",
    "   44.354211,  46.088636,  44.955000,\n",
    "   43.751429,  54.650476,  58.790000,\n",
    "   61.403182,  63.012632,  63.011579,\n",
    "   62.983636,  63.580556,  65.200000,\n",
    "   67.872000,  70.047895,  72.520952,\n",
    "   75.324286,  77.488500,  79.430909,\n",
    "   83.134762,  85.484737,  88.181667,\n",
    "   91.474000,  93.997778,  96.635909,\n",
    "   98.526000,  99.613158, 100.619048,\n",
    "  101.619048, 102.569048, 103.781818\n",
    ")\n",
    "\n",
    "vUVA <- c(\n",
    "  2.001408838932958,  1.950325472789153,  1.89323032351521,\n",
    "  1.8247220405493787, 1.746027787673673,  1.6871348409529485,\n",
    "  1.6361678865622313, 1.5927529755859773, 1.5549162794128493,\n",
    "  1.4949100586391746, 1.4197729500774545, 1.3678188186372326,\n",
    "  1.3136508617223726, 1.2690535173062818, 1.2381595983200178,\n",
    "  1.211656735577568,  1.1770808941405335, 1.1570338657445522,\n",
    "  1.1388769475653255, 1.1156993751209352, 1.093638313080772,\n",
    "  1.0657171590878205, 1.0362173587708712, 1.0,\n",
    "  0.9669867858358365, 0.9323750098728378, 0.8958202912590305,\n",
    "  0.8631993702994263, 0.8253893405524657, 0.7928918905364516,\n",
    "  0.7666323845128089, 0.7428976357662823, 0.721615762047849\n",
    ")\n"
   ]
  },
  {
   "cell_type": "code",
   "execution_count": 18,
   "id": "RSF9i9nyWwKs",
   "metadata": {
    "id": "RSF9i9nyWwKs",
    "vscode": {
     "languageId": "r"
    }
   },
   "outputs": [
    {
     "data": {
      "text/html": [
       "<table class=\"dataframe\">\n",
       "<caption>A data.table: 33 × 5</caption>\n",
       "<thead>\n",
       "\t<tr><th scope=col>IPC</th><th scope=col>dolar_blue</th><th scope=col>dolar_oficial</th><th scope=col>UVA</th><th scope=col>foto_mes</th></tr>\n",
       "\t<tr><th scope=col>&lt;dbl&gt;</th><th scope=col>&lt;dbl&gt;</th><th scope=col>&lt;dbl&gt;</th><th scope=col>&lt;dbl&gt;</th><th scope=col>&lt;dbl&gt;</th></tr>\n",
       "</thead>\n",
       "<tbody>\n",
       "\t<tr><td>1.9903031</td><td> 39.04545</td><td> 38.43000</td><td>2.0014088</td><td>201901</td></tr>\n",
       "\t<tr><td>1.9174404</td><td> 38.40250</td><td> 39.42800</td><td>1.9503255</td><td>201902</td></tr>\n",
       "\t<tr><td>1.8296187</td><td> 41.63947</td><td> 42.54210</td><td>1.8932303</td><td>201903</td></tr>\n",
       "\t<tr><td>1.7728863</td><td> 44.27474</td><td> 44.35421</td><td>1.8247220</td><td>201904</td></tr>\n",
       "\t<tr><td>1.7212488</td><td> 46.09546</td><td> 46.08864</td><td>1.7460278</td><td>201905</td></tr>\n",
       "\t<tr><td>1.6776304</td><td> 45.06333</td><td> 44.95500</td><td>1.6871348</td><td>201906</td></tr>\n",
       "\t<tr><td>1.6431248</td><td> 43.98333</td><td> 43.75143</td><td>1.6361679</td><td>201907</td></tr>\n",
       "\t<tr><td>1.5814483</td><td> 54.84286</td><td> 54.65048</td><td>1.5927530</td><td>201908</td></tr>\n",
       "\t<tr><td>1.4947527</td><td> 61.05952</td><td> 58.79000</td><td>1.5549163</td><td>201909</td></tr>\n",
       "\t<tr><td>1.4484038</td><td> 65.54546</td><td> 61.40318</td><td>1.4949101</td><td>201910</td></tr>\n",
       "\t<tr><td>1.3913581</td><td> 66.75000</td><td> 63.01263</td><td>1.4197730</td><td>201911</td></tr>\n",
       "\t<tr><td>1.3404220</td><td> 72.36842</td><td> 63.01158</td><td>1.3678188</td><td>201912</td></tr>\n",
       "\t<tr><td>1.3154289</td><td> 77.47727</td><td> 62.98364</td><td>1.3136509</td><td>202001</td></tr>\n",
       "\t<tr><td>1.2921698</td><td> 78.19167</td><td> 63.58056</td><td>1.2690535</td><td>202002</td></tr>\n",
       "\t<tr><td>1.2472682</td><td> 82.43421</td><td> 65.20000</td><td>1.2381596</td><td>202003</td></tr>\n",
       "\t<tr><td>1.2300475</td><td>101.08750</td><td> 67.87200</td><td>1.2116567</td><td>202004</td></tr>\n",
       "\t<tr><td>1.2118695</td><td>126.23684</td><td> 70.04789</td><td>1.1770809</td><td>202005</td></tr>\n",
       "\t<tr><td>1.1881073</td><td>125.85714</td><td> 72.52095</td><td>1.1570339</td><td>202006</td></tr>\n",
       "\t<tr><td>1.1693970</td><td>130.78261</td><td> 75.32429</td><td>1.1388769</td><td>202007</td></tr>\n",
       "\t<tr><td>1.1375457</td><td>133.40000</td><td> 77.48850</td><td>1.1156994</td><td>202008</td></tr>\n",
       "\t<tr><td>1.1065620</td><td>137.95454</td><td> 79.43091</td><td>1.0936383</td><td>202009</td></tr>\n",
       "\t<tr><td>1.0681100</td><td>170.61905</td><td> 83.13476</td><td>1.0657172</td><td>202010</td></tr>\n",
       "\t<tr><td>1.0370000</td><td>160.40000</td><td> 85.48474</td><td>1.0362174</td><td>202011</td></tr>\n",
       "\t<tr><td>1.0000000</td><td>153.05263</td><td> 88.18167</td><td>1.0000000</td><td>202012</td></tr>\n",
       "\t<tr><td>0.9680542</td><td>157.90000</td><td> 91.47400</td><td>0.9669868</td><td>202101</td></tr>\n",
       "\t<tr><td>0.9344153</td><td>149.38095</td><td> 93.99778</td><td>0.9323750</td><td>202102</td></tr>\n",
       "\t<tr><td>0.8882274</td><td>143.61539</td><td> 96.63591</td><td>0.8958203</td><td>202103</td></tr>\n",
       "\t<tr><td>0.8532444</td><td>146.25000</td><td> 98.52600</td><td>0.8631994</td><td>202104</td></tr>\n",
       "\t<tr><td>0.8251880</td><td>153.55000</td><td> 99.61316</td><td>0.8253893</td><td>202105</td></tr>\n",
       "\t<tr><td>0.8003764</td><td>162.00000</td><td>100.61905</td><td>0.7928919</td><td>202106</td></tr>\n",
       "\t<tr><td>0.7763107</td><td>178.47826</td><td>101.61905</td><td>0.7666324</td><td>202107</td></tr>\n",
       "\t<tr><td>0.7566381</td><td>180.87879</td><td>102.56905</td><td>0.7428976</td><td>202108</td></tr>\n",
       "\t<tr><td>0.7289385</td><td>184.35714</td><td>103.78182</td><td>0.7216158</td><td>202109</td></tr>\n",
       "</tbody>\n",
       "</table>\n"
      ],
      "text/latex": [
       "A data.table: 33 × 5\n",
       "\\begin{tabular}{lllll}\n",
       " IPC & dolar\\_blue & dolar\\_oficial & UVA & foto\\_mes\\\\\n",
       " <dbl> & <dbl> & <dbl> & <dbl> & <dbl>\\\\\n",
       "\\hline\n",
       "\t 1.9903031 &  39.04545 &  38.43000 & 2.0014088 & 201901\\\\\n",
       "\t 1.9174404 &  38.40250 &  39.42800 & 1.9503255 & 201902\\\\\n",
       "\t 1.8296187 &  41.63947 &  42.54210 & 1.8932303 & 201903\\\\\n",
       "\t 1.7728863 &  44.27474 &  44.35421 & 1.8247220 & 201904\\\\\n",
       "\t 1.7212488 &  46.09546 &  46.08864 & 1.7460278 & 201905\\\\\n",
       "\t 1.6776304 &  45.06333 &  44.95500 & 1.6871348 & 201906\\\\\n",
       "\t 1.6431248 &  43.98333 &  43.75143 & 1.6361679 & 201907\\\\\n",
       "\t 1.5814483 &  54.84286 &  54.65048 & 1.5927530 & 201908\\\\\n",
       "\t 1.4947527 &  61.05952 &  58.79000 & 1.5549163 & 201909\\\\\n",
       "\t 1.4484038 &  65.54546 &  61.40318 & 1.4949101 & 201910\\\\\n",
       "\t 1.3913581 &  66.75000 &  63.01263 & 1.4197730 & 201911\\\\\n",
       "\t 1.3404220 &  72.36842 &  63.01158 & 1.3678188 & 201912\\\\\n",
       "\t 1.3154289 &  77.47727 &  62.98364 & 1.3136509 & 202001\\\\\n",
       "\t 1.2921698 &  78.19167 &  63.58056 & 1.2690535 & 202002\\\\\n",
       "\t 1.2472682 &  82.43421 &  65.20000 & 1.2381596 & 202003\\\\\n",
       "\t 1.2300475 & 101.08750 &  67.87200 & 1.2116567 & 202004\\\\\n",
       "\t 1.2118695 & 126.23684 &  70.04789 & 1.1770809 & 202005\\\\\n",
       "\t 1.1881073 & 125.85714 &  72.52095 & 1.1570339 & 202006\\\\\n",
       "\t 1.1693970 & 130.78261 &  75.32429 & 1.1388769 & 202007\\\\\n",
       "\t 1.1375457 & 133.40000 &  77.48850 & 1.1156994 & 202008\\\\\n",
       "\t 1.1065620 & 137.95454 &  79.43091 & 1.0936383 & 202009\\\\\n",
       "\t 1.0681100 & 170.61905 &  83.13476 & 1.0657172 & 202010\\\\\n",
       "\t 1.0370000 & 160.40000 &  85.48474 & 1.0362174 & 202011\\\\\n",
       "\t 1.0000000 & 153.05263 &  88.18167 & 1.0000000 & 202012\\\\\n",
       "\t 0.9680542 & 157.90000 &  91.47400 & 0.9669868 & 202101\\\\\n",
       "\t 0.9344153 & 149.38095 &  93.99778 & 0.9323750 & 202102\\\\\n",
       "\t 0.8882274 & 143.61539 &  96.63591 & 0.8958203 & 202103\\\\\n",
       "\t 0.8532444 & 146.25000 &  98.52600 & 0.8631994 & 202104\\\\\n",
       "\t 0.8251880 & 153.55000 &  99.61316 & 0.8253893 & 202105\\\\\n",
       "\t 0.8003764 & 162.00000 & 100.61905 & 0.7928919 & 202106\\\\\n",
       "\t 0.7763107 & 178.47826 & 101.61905 & 0.7666324 & 202107\\\\\n",
       "\t 0.7566381 & 180.87879 & 102.56905 & 0.7428976 & 202108\\\\\n",
       "\t 0.7289385 & 184.35714 & 103.78182 & 0.7216158 & 202109\\\\\n",
       "\\end{tabular}\n"
      ],
      "text/markdown": [
       "\n",
       "A data.table: 33 × 5\n",
       "\n",
       "| IPC &lt;dbl&gt; | dolar_blue &lt;dbl&gt; | dolar_oficial &lt;dbl&gt; | UVA &lt;dbl&gt; | foto_mes &lt;dbl&gt; |\n",
       "|---|---|---|---|---|\n",
       "| 1.9903031 |  39.04545 |  38.43000 | 2.0014088 | 201901 |\n",
       "| 1.9174404 |  38.40250 |  39.42800 | 1.9503255 | 201902 |\n",
       "| 1.8296187 |  41.63947 |  42.54210 | 1.8932303 | 201903 |\n",
       "| 1.7728863 |  44.27474 |  44.35421 | 1.8247220 | 201904 |\n",
       "| 1.7212488 |  46.09546 |  46.08864 | 1.7460278 | 201905 |\n",
       "| 1.6776304 |  45.06333 |  44.95500 | 1.6871348 | 201906 |\n",
       "| 1.6431248 |  43.98333 |  43.75143 | 1.6361679 | 201907 |\n",
       "| 1.5814483 |  54.84286 |  54.65048 | 1.5927530 | 201908 |\n",
       "| 1.4947527 |  61.05952 |  58.79000 | 1.5549163 | 201909 |\n",
       "| 1.4484038 |  65.54546 |  61.40318 | 1.4949101 | 201910 |\n",
       "| 1.3913581 |  66.75000 |  63.01263 | 1.4197730 | 201911 |\n",
       "| 1.3404220 |  72.36842 |  63.01158 | 1.3678188 | 201912 |\n",
       "| 1.3154289 |  77.47727 |  62.98364 | 1.3136509 | 202001 |\n",
       "| 1.2921698 |  78.19167 |  63.58056 | 1.2690535 | 202002 |\n",
       "| 1.2472682 |  82.43421 |  65.20000 | 1.2381596 | 202003 |\n",
       "| 1.2300475 | 101.08750 |  67.87200 | 1.2116567 | 202004 |\n",
       "| 1.2118695 | 126.23684 |  70.04789 | 1.1770809 | 202005 |\n",
       "| 1.1881073 | 125.85714 |  72.52095 | 1.1570339 | 202006 |\n",
       "| 1.1693970 | 130.78261 |  75.32429 | 1.1388769 | 202007 |\n",
       "| 1.1375457 | 133.40000 |  77.48850 | 1.1156994 | 202008 |\n",
       "| 1.1065620 | 137.95454 |  79.43091 | 1.0936383 | 202009 |\n",
       "| 1.0681100 | 170.61905 |  83.13476 | 1.0657172 | 202010 |\n",
       "| 1.0370000 | 160.40000 |  85.48474 | 1.0362174 | 202011 |\n",
       "| 1.0000000 | 153.05263 |  88.18167 | 1.0000000 | 202012 |\n",
       "| 0.9680542 | 157.90000 |  91.47400 | 0.9669868 | 202101 |\n",
       "| 0.9344153 | 149.38095 |  93.99778 | 0.9323750 | 202102 |\n",
       "| 0.8882274 | 143.61539 |  96.63591 | 0.8958203 | 202103 |\n",
       "| 0.8532444 | 146.25000 |  98.52600 | 0.8631994 | 202104 |\n",
       "| 0.8251880 | 153.55000 |  99.61316 | 0.8253893 | 202105 |\n",
       "| 0.8003764 | 162.00000 | 100.61905 | 0.7928919 | 202106 |\n",
       "| 0.7763107 | 178.47826 | 101.61905 | 0.7666324 | 202107 |\n",
       "| 0.7566381 | 180.87879 | 102.56905 | 0.7428976 | 202108 |\n",
       "| 0.7289385 | 184.35714 | 103.78182 | 0.7216158 | 202109 |\n",
       "\n"
      ],
      "text/plain": [
       "   IPC       dolar_blue dolar_oficial UVA       foto_mes\n",
       "1  1.9903031  39.04545   38.43000     2.0014088 201901  \n",
       "2  1.9174404  38.40250   39.42800     1.9503255 201902  \n",
       "3  1.8296187  41.63947   42.54210     1.8932303 201903  \n",
       "4  1.7728863  44.27474   44.35421     1.8247220 201904  \n",
       "5  1.7212488  46.09546   46.08864     1.7460278 201905  \n",
       "6  1.6776304  45.06333   44.95500     1.6871348 201906  \n",
       "7  1.6431248  43.98333   43.75143     1.6361679 201907  \n",
       "8  1.5814483  54.84286   54.65048     1.5927530 201908  \n",
       "9  1.4947527  61.05952   58.79000     1.5549163 201909  \n",
       "10 1.4484038  65.54546   61.40318     1.4949101 201910  \n",
       "11 1.3913581  66.75000   63.01263     1.4197730 201911  \n",
       "12 1.3404220  72.36842   63.01158     1.3678188 201912  \n",
       "13 1.3154289  77.47727   62.98364     1.3136509 202001  \n",
       "14 1.2921698  78.19167   63.58056     1.2690535 202002  \n",
       "15 1.2472682  82.43421   65.20000     1.2381596 202003  \n",
       "16 1.2300475 101.08750   67.87200     1.2116567 202004  \n",
       "17 1.2118695 126.23684   70.04789     1.1770809 202005  \n",
       "18 1.1881073 125.85714   72.52095     1.1570339 202006  \n",
       "19 1.1693970 130.78261   75.32429     1.1388769 202007  \n",
       "20 1.1375457 133.40000   77.48850     1.1156994 202008  \n",
       "21 1.1065620 137.95454   79.43091     1.0936383 202009  \n",
       "22 1.0681100 170.61905   83.13476     1.0657172 202010  \n",
       "23 1.0370000 160.40000   85.48474     1.0362174 202011  \n",
       "24 1.0000000 153.05263   88.18167     1.0000000 202012  \n",
       "25 0.9680542 157.90000   91.47400     0.9669868 202101  \n",
       "26 0.9344153 149.38095   93.99778     0.9323750 202102  \n",
       "27 0.8882274 143.61539   96.63591     0.8958203 202103  \n",
       "28 0.8532444 146.25000   98.52600     0.8631994 202104  \n",
       "29 0.8251880 153.55000   99.61316     0.8253893 202105  \n",
       "30 0.8003764 162.00000  100.61905     0.7928919 202106  \n",
       "31 0.7763107 178.47826  101.61905     0.7666324 202107  \n",
       "32 0.7566381 180.87879  102.56905     0.7428976 202108  \n",
       "33 0.7289385 184.35714  103.78182     0.7216158 202109  "
      ]
     },
     "metadata": {},
     "output_type": "display_data"
    }
   ],
   "source": [
    "tb_indices <- as.data.table( list(\n",
    "  \"IPC\" = vIPC,\n",
    "  \"dolar_blue\" = vdolar_blue,\n",
    "  \"dolar_oficial\" = vdolar_oficial,\n",
    "  \"UVA\" = vUVA\n",
    "  )\n",
    ")\n",
    "\n",
    "tb_indices[[ 'foto_mes' ]] <- vfoto_mes\n",
    "\n",
    "tb_indices"
   ]
  },
  {
   "cell_type": "code",
   "execution_count": 19,
   "id": "oq2zlvpkSmAU",
   "metadata": {
    "id": "oq2zlvpkSmAU",
    "vscode": {
     "languageId": "r"
    }
   },
   "outputs": [],
   "source": [
    "drift_UVA <- function(campos_monetarios) {\n",
    "  cat( \"inicio drift_UVA()\\n\")\n",
    "\n",
    "  dataset[tb_indices,\n",
    "    on = c(\"foto_mes\"),\n",
    "    (campos_monetarios) := .SD * i.UVA,\n",
    "    .SDcols = campos_monetarios\n",
    "  ]\n",
    "\n",
    "  cat( \"fin drift_UVA()\\n\")\n",
    "}\n"
   ]
  },
  {
   "cell_type": "code",
   "execution_count": 20,
   "id": "h2QbqSn8Sojj",
   "metadata": {
    "id": "h2QbqSn8Sojj",
    "vscode": {
     "languageId": "r"
    }
   },
   "outputs": [],
   "source": [
    "drift_dolar_oficial <- function(campos_monetarios) {\n",
    "  cat( \"inicio drift_dolar_oficial()\\n\")\n",
    "\n",
    "  dataset[tb_indices,\n",
    "    on = c(\"foto_mes\"),\n",
    "    (campos_monetarios) := .SD / i.dolar_oficial,\n",
    "    .SDcols = campos_monetarios\n",
    "  ]\n",
    "\n",
    "  cat( \"fin drift_dolar_oficial()\\n\")\n",
    "}\n"
   ]
  },
  {
   "cell_type": "code",
   "execution_count": 21,
   "id": "DMTgpq9VSqqM",
   "metadata": {
    "id": "DMTgpq9VSqqM",
    "vscode": {
     "languageId": "r"
    }
   },
   "outputs": [],
   "source": [
    "drift_dolar_blue <- function(campos_monetarios) {\n",
    "  cat( \"inicio drift_dolar_blue()\\n\")\n",
    "\n",
    "  dataset[tb_indices,\n",
    "    on = c(\"foto_mes\"),\n",
    "    (campos_monetarios) := .SD / i.dolar_blue,\n",
    "    .SDcols = campos_monetarios\n",
    "  ]\n",
    "\n",
    "  cat( \"fin drift_dolar_blue()\\n\")\n",
    "}\n"
   ]
  },
  {
   "cell_type": "code",
   "execution_count": 22,
   "id": "7n171_BoStAj",
   "metadata": {
    "id": "7n171_BoStAj",
    "vscode": {
     "languageId": "r"
    }
   },
   "outputs": [],
   "source": [
    "drift_deflacion <- function(campos_monetarios) {\n",
    "  cat( \"inicio drift_deflacion()\\n\")\n",
    "\n",
    "  dataset[tb_indices,\n",
    "    on = c(\"foto_mes\"),\n",
    "    (campos_monetarios) := .SD * i.IPC,\n",
    "    .SDcols = campos_monetarios\n",
    "  ]\n",
    "\n",
    "  cat( \"fin drift_deflacion()\\n\")\n",
    "}\n"
   ]
  },
  {
   "cell_type": "code",
   "execution_count": 23,
   "id": "Z94UizNySv0m",
   "metadata": {
    "id": "Z94UizNySv0m",
    "vscode": {
     "languageId": "r"
    }
   },
   "outputs": [],
   "source": [
    "drift_rank_simple <- function(campos_drift) {\n",
    "\n",
    "  cat( \"inicio drift_rank_simple()\\n\")\n",
    "  for (campo in campos_drift)\n",
    "  {\n",
    "    cat(campo, \" \")\n",
    "    dataset[, paste0(campo, \"_rank\") :=\n",
    "      (frank(get(campo), ties.method = \"random\") - 1) / (.N - 1), by = list(foto_mes)]\n",
    "    dataset[, (campo) := NULL]\n",
    "  }\n",
    "  cat( \"fin drift_rank_simple()\\n\")\n",
    "}\n"
   ]
  },
  {
   "cell_type": "code",
   "execution_count": 24,
   "id": "GnbUIXeWSyQm",
   "metadata": {
    "id": "GnbUIXeWSyQm",
    "vscode": {
     "languageId": "r"
    }
   },
   "outputs": [],
   "source": [
    "# El cero se transforma en cero\n",
    "# los positivos se rankean por su lado\n",
    "# los negativos se rankean por su lado\n",
    "\n",
    "drift_rank_cero_fijo <- function(campos_drift) {\n",
    "\n",
    "  cat( \"inicio drift_rank_cero_fijo()\\n\")\n",
    "  for (campo in campos_drift)\n",
    "  {\n",
    "    cat(campo, \" \")\n",
    "    dataset[get(campo) == 0, paste0(campo, \"_rank\") := 0]\n",
    "    dataset[get(campo) > 0, paste0(campo, \"_rank\") :=\n",
    "      frank(get(campo), ties.method = \"random\") / .N, by = list(foto_mes)]\n",
    "\n",
    "    dataset[get(campo) < 0, paste0(campo, \"_rank\") :=\n",
    "      -frank(-get(campo), ties.method = \"random\") / .N, by = list(foto_mes)]\n",
    "    dataset[, (campo) := NULL]\n",
    "  }\n",
    "  cat(\"\\n\")\n",
    "  cat( \"fin drift_rank_cero_fijo()\\n\")\n",
    "}\n"
   ]
  },
  {
   "cell_type": "code",
   "execution_count": 25,
   "id": "dhlyk-WxS040",
   "metadata": {
    "id": "dhlyk-WxS040",
    "vscode": {
     "languageId": "r"
    }
   },
   "outputs": [],
   "source": [
    "drift_estandarizar <- function(campos_drift) {\n",
    "\n",
    "  cat( \"inicio drift_estandarizar()\\n\")\n",
    "  for (campo in campos_drift)\n",
    "  {\n",
    "    cat(campo, \" \")\n",
    "    dataset[, paste0(campo, \"_normal\") :=\n",
    "      (get(campo) -mean(campo, na.rm=TRUE)) / sd(get(campo), na.rm=TRUE),\n",
    "      by = list(foto_mes)]\n",
    "\n",
    "    dataset[, (campo) := NULL]\n",
    "  }\n",
    "  cat( \"fin drift_estandarizar()\\n\")\n",
    "}\n"
   ]
  },
  {
   "cell_type": "code",
   "execution_count": 26,
   "id": "tlJjlN6PVanz",
   "metadata": {
    "id": "tlJjlN6PVanz",
    "vscode": {
     "languageId": "r"
    }
   },
   "outputs": [
    {
     "data": {
      "text/html": [
       "<style>\n",
       ".list-inline {list-style: none; margin:0; padding: 0}\n",
       ".list-inline>li {display: inline-block}\n",
       ".list-inline>li:not(:last-child)::after {content: \"\\00b7\"; padding: 0 .5ex}\n",
       "</style>\n",
       "<ol class=list-inline><li>'mrentabilidad'</li><li>'mrentabilidad_annual'</li><li>'mcomisiones'</li><li>'mactivos_margen'</li><li>'mpasivos_margen'</li><li>'mcuenta_corriente'</li><li>'mcaja_ahorro'</li><li>'mcuentas_saldo'</li><li>'mtarjeta_visa_consumo'</li><li>'mtarjeta_master_consumo'</li><li>'mprestamos_personales'</li><li>'mpayroll'</li><li>'mttarjeta_visa_debitos_automaticos'</li><li>'mcomisiones_mantenimiento'</li><li>'mtransferencias_recibidas'</li><li>'Master_mfinanciacion_limite'</li><li>'Master_msaldototal'</li><li>'Master_mlimitecompra'</li><li>'Master_mconsumototal'</li><li>'Master_mpagominimo'</li><li>'Visa_mfinanciacion_limite'</li><li>'Visa_msaldototal'</li><li>'Visa_mlimitecompra'</li><li>'Visa_mconsumototal'</li><li>'Visa_mpagominimo'</li></ol>\n"
      ],
      "text/latex": [
       "\\begin{enumerate*}\n",
       "\\item 'mrentabilidad'\n",
       "\\item 'mrentabilidad\\_annual'\n",
       "\\item 'mcomisiones'\n",
       "\\item 'mactivos\\_margen'\n",
       "\\item 'mpasivos\\_margen'\n",
       "\\item 'mcuenta\\_corriente'\n",
       "\\item 'mcaja\\_ahorro'\n",
       "\\item 'mcuentas\\_saldo'\n",
       "\\item 'mtarjeta\\_visa\\_consumo'\n",
       "\\item 'mtarjeta\\_master\\_consumo'\n",
       "\\item 'mprestamos\\_personales'\n",
       "\\item 'mpayroll'\n",
       "\\item 'mttarjeta\\_visa\\_debitos\\_automaticos'\n",
       "\\item 'mcomisiones\\_mantenimiento'\n",
       "\\item 'mtransferencias\\_recibidas'\n",
       "\\item 'Master\\_mfinanciacion\\_limite'\n",
       "\\item 'Master\\_msaldototal'\n",
       "\\item 'Master\\_mlimitecompra'\n",
       "\\item 'Master\\_mconsumototal'\n",
       "\\item 'Master\\_mpagominimo'\n",
       "\\item 'Visa\\_mfinanciacion\\_limite'\n",
       "\\item 'Visa\\_msaldototal'\n",
       "\\item 'Visa\\_mlimitecompra'\n",
       "\\item 'Visa\\_mconsumototal'\n",
       "\\item 'Visa\\_mpagominimo'\n",
       "\\end{enumerate*}\n"
      ],
      "text/markdown": [
       "1. 'mrentabilidad'\n",
       "2. 'mrentabilidad_annual'\n",
       "3. 'mcomisiones'\n",
       "4. 'mactivos_margen'\n",
       "5. 'mpasivos_margen'\n",
       "6. 'mcuenta_corriente'\n",
       "7. 'mcaja_ahorro'\n",
       "8. 'mcuentas_saldo'\n",
       "9. 'mtarjeta_visa_consumo'\n",
       "10. 'mtarjeta_master_consumo'\n",
       "11. 'mprestamos_personales'\n",
       "12. 'mpayroll'\n",
       "13. 'mttarjeta_visa_debitos_automaticos'\n",
       "14. 'mcomisiones_mantenimiento'\n",
       "15. 'mtransferencias_recibidas'\n",
       "16. 'Master_mfinanciacion_limite'\n",
       "17. 'Master_msaldototal'\n",
       "18. 'Master_mlimitecompra'\n",
       "19. 'Master_mconsumototal'\n",
       "20. 'Master_mpagominimo'\n",
       "21. 'Visa_mfinanciacion_limite'\n",
       "22. 'Visa_msaldototal'\n",
       "23. 'Visa_mlimitecompra'\n",
       "24. 'Visa_mconsumototal'\n",
       "25. 'Visa_mpagominimo'\n",
       "\n",
       "\n"
      ],
      "text/plain": [
       " [1] \"mrentabilidad\"                      \"mrentabilidad_annual\"              \n",
       " [3] \"mcomisiones\"                        \"mactivos_margen\"                   \n",
       " [5] \"mpasivos_margen\"                    \"mcuenta_corriente\"                 \n",
       " [7] \"mcaja_ahorro\"                       \"mcuentas_saldo\"                    \n",
       " [9] \"mtarjeta_visa_consumo\"              \"mtarjeta_master_consumo\"           \n",
       "[11] \"mprestamos_personales\"              \"mpayroll\"                          \n",
       "[13] \"mttarjeta_visa_debitos_automaticos\" \"mcomisiones_mantenimiento\"         \n",
       "[15] \"mtransferencias_recibidas\"          \"Master_mfinanciacion_limite\"       \n",
       "[17] \"Master_msaldototal\"                 \"Master_mlimitecompra\"              \n",
       "[19] \"Master_mconsumototal\"               \"Master_mpagominimo\"                \n",
       "[21] \"Visa_mfinanciacion_limite\"          \"Visa_msaldototal\"                  \n",
       "[23] \"Visa_mlimitecompra\"                 \"Visa_mconsumototal\"                \n",
       "[25] \"Visa_mpagominimo\"                  "
      ]
     },
     "metadata": {},
     "output_type": "display_data"
    }
   ],
   "source": [
    "# por como armé los nombres de campos,\n",
    "#  estos son los campos que expresan variables monetarias\n",
    "campos_monetarios <- colnames(dataset)\n",
    "campos_monetarios <- campos_monetarios[campos_monetarios %like%\n",
    "  \"^(m|Visa_m|Master_m|vm_m)\"]\n",
    "\n",
    "campos_monetarios"
   ]
  },
  {
   "cell_type": "code",
   "execution_count": 27,
   "id": "G_8BH82XS3uV",
   "metadata": {
    "id": "G_8BH82XS3uV",
    "vscode": {
     "languageId": "r"
    }
   },
   "outputs": [
    {
     "name": "stdout",
     "output_type": "stream",
     "text": [
      "inicio drift_deflacion()\n",
      "fin drift_deflacion()\n"
     ]
    }
   ],
   "source": [
    "# ejecuto el Data Drifting\n",
    "setorder( dataset, numero_de_cliente, foto_mes )\n",
    "\n",
    "\n",
    "PARAM$DR$metodo <- \"deflacion\"\n",
    "\n",
    "switch(PARAM$DR$metodo,\n",
    "  \"ninguno\"        = cat(\"No hay correccion del data drifting\"),\n",
    "  \"rank_simple\"    = drift_rank_simple(campos_monetarios),\n",
    "  \"rank_cero_fijo\" = drift_rank_cero_fijo(campos_monetarios),\n",
    "  \"deflacion\"      = drift_deflacion(campos_monetarios),\n",
    "  \"dolar_blue\"     = drift_dolarblue(campos_monetarios),\n",
    "  \"dolar_oficial\"  = drift_dolaroficial(campos_monetarios),\n",
    "  \"UVA\"            = drift_UVA(campos_monetarios),\n",
    "  \"estandarizar\"   = drift_estandarizar(campos_monetarios)\n",
    ")\n"
   ]
  },
  {
   "cell_type": "code",
   "execution_count": 28,
   "id": "-efBawbTWPKc",
   "metadata": {
    "id": "-efBawbTWPKc",
    "vscode": {
     "languageId": "r"
    }
   },
   "outputs": [
    {
     "data": {
      "text/html": [
       "<style>\n",
       ".list-inline {list-style: none; margin:0; padding: 0}\n",
       ".list-inline>li {display: inline-block}\n",
       ".list-inline>li:not(:last-child)::after {content: \"\\00b7\"; padding: 0 .5ex}\n",
       "</style>\n",
       "<ol class=list-inline><li>'numero_de_cliente'</li><li>'foto_mes'</li><li>'internet'</li><li>'cliente_edad'</li><li>'cliente_antiguedad'</li><li>'mrentabilidad'</li><li>'mrentabilidad_annual'</li><li>'mcomisiones'</li><li>'mactivos_margen'</li><li>'mpasivos_margen'</li><li>'cproductos'</li><li>'mcuenta_corriente'</li><li>'mcaja_ahorro'</li><li>'cdescubierto_preacordado'</li><li>'mcuentas_saldo'</li><li>'ctarjeta_visa'</li><li>'ctarjeta_visa_transacciones'</li><li>'mtarjeta_visa_consumo'</li><li>'ctarjeta_master'</li><li>'ctarjeta_master_transacciones'</li><li>'mtarjeta_master_consumo'</li><li>'cprestamos_personales'</li><li>'mprestamos_personales'</li><li>'cpayroll_trx'</li><li>'mpayroll'</li><li>'mttarjeta_visa_debitos_automaticos'</li><li>'ccomisiones_mantenimiento'</li><li>'mcomisiones_mantenimiento'</li><li>'ccomisiones_otras'</li><li>'mtransferencias_recibidas'</li><li>'ccallcenter_transacciones'</li><li>'thomebanking'</li><li>'chomebanking_transacciones'</li><li>'ctrx_quarter'</li><li>'Master_status'</li><li>'Master_mfinanciacion_limite'</li><li>'Master_Fvencimiento'</li><li>'Master_msaldototal'</li><li>'Master_mlimitecompra'</li><li>'Master_fultimo_cierre'</li><li>'Master_fechaalta'</li><li>'Master_mconsumototal'</li><li>'Master_cconsumos'</li><li>'Master_mpagominimo'</li><li>'Visa_status'</li><li>'Visa_mfinanciacion_limite'</li><li>'Visa_Fvencimiento'</li><li>'Visa_msaldototal'</li><li>'Visa_mlimitecompra'</li><li>'Visa_fultimo_cierre'</li><li>'Visa_fechaalta'</li><li>'Visa_mconsumototal'</li><li>'Visa_cconsumos'</li><li>'Visa_mpagominimo'</li><li>'clase_ternaria'</li></ol>\n"
      ],
      "text/latex": [
       "\\begin{enumerate*}\n",
       "\\item 'numero\\_de\\_cliente'\n",
       "\\item 'foto\\_mes'\n",
       "\\item 'internet'\n",
       "\\item 'cliente\\_edad'\n",
       "\\item 'cliente\\_antiguedad'\n",
       "\\item 'mrentabilidad'\n",
       "\\item 'mrentabilidad\\_annual'\n",
       "\\item 'mcomisiones'\n",
       "\\item 'mactivos\\_margen'\n",
       "\\item 'mpasivos\\_margen'\n",
       "\\item 'cproductos'\n",
       "\\item 'mcuenta\\_corriente'\n",
       "\\item 'mcaja\\_ahorro'\n",
       "\\item 'cdescubierto\\_preacordado'\n",
       "\\item 'mcuentas\\_saldo'\n",
       "\\item 'ctarjeta\\_visa'\n",
       "\\item 'ctarjeta\\_visa\\_transacciones'\n",
       "\\item 'mtarjeta\\_visa\\_consumo'\n",
       "\\item 'ctarjeta\\_master'\n",
       "\\item 'ctarjeta\\_master\\_transacciones'\n",
       "\\item 'mtarjeta\\_master\\_consumo'\n",
       "\\item 'cprestamos\\_personales'\n",
       "\\item 'mprestamos\\_personales'\n",
       "\\item 'cpayroll\\_trx'\n",
       "\\item 'mpayroll'\n",
       "\\item 'mttarjeta\\_visa\\_debitos\\_automaticos'\n",
       "\\item 'ccomisiones\\_mantenimiento'\n",
       "\\item 'mcomisiones\\_mantenimiento'\n",
       "\\item 'ccomisiones\\_otras'\n",
       "\\item 'mtransferencias\\_recibidas'\n",
       "\\item 'ccallcenter\\_transacciones'\n",
       "\\item 'thomebanking'\n",
       "\\item 'chomebanking\\_transacciones'\n",
       "\\item 'ctrx\\_quarter'\n",
       "\\item 'Master\\_status'\n",
       "\\item 'Master\\_mfinanciacion\\_limite'\n",
       "\\item 'Master\\_Fvencimiento'\n",
       "\\item 'Master\\_msaldototal'\n",
       "\\item 'Master\\_mlimitecompra'\n",
       "\\item 'Master\\_fultimo\\_cierre'\n",
       "\\item 'Master\\_fechaalta'\n",
       "\\item 'Master\\_mconsumototal'\n",
       "\\item 'Master\\_cconsumos'\n",
       "\\item 'Master\\_mpagominimo'\n",
       "\\item 'Visa\\_status'\n",
       "\\item 'Visa\\_mfinanciacion\\_limite'\n",
       "\\item 'Visa\\_Fvencimiento'\n",
       "\\item 'Visa\\_msaldototal'\n",
       "\\item 'Visa\\_mlimitecompra'\n",
       "\\item 'Visa\\_fultimo\\_cierre'\n",
       "\\item 'Visa\\_fechaalta'\n",
       "\\item 'Visa\\_mconsumototal'\n",
       "\\item 'Visa\\_cconsumos'\n",
       "\\item 'Visa\\_mpagominimo'\n",
       "\\item 'clase\\_ternaria'\n",
       "\\end{enumerate*}\n"
      ],
      "text/markdown": [
       "1. 'numero_de_cliente'\n",
       "2. 'foto_mes'\n",
       "3. 'internet'\n",
       "4. 'cliente_edad'\n",
       "5. 'cliente_antiguedad'\n",
       "6. 'mrentabilidad'\n",
       "7. 'mrentabilidad_annual'\n",
       "8. 'mcomisiones'\n",
       "9. 'mactivos_margen'\n",
       "10. 'mpasivos_margen'\n",
       "11. 'cproductos'\n",
       "12. 'mcuenta_corriente'\n",
       "13. 'mcaja_ahorro'\n",
       "14. 'cdescubierto_preacordado'\n",
       "15. 'mcuentas_saldo'\n",
       "16. 'ctarjeta_visa'\n",
       "17. 'ctarjeta_visa_transacciones'\n",
       "18. 'mtarjeta_visa_consumo'\n",
       "19. 'ctarjeta_master'\n",
       "20. 'ctarjeta_master_transacciones'\n",
       "21. 'mtarjeta_master_consumo'\n",
       "22. 'cprestamos_personales'\n",
       "23. 'mprestamos_personales'\n",
       "24. 'cpayroll_trx'\n",
       "25. 'mpayroll'\n",
       "26. 'mttarjeta_visa_debitos_automaticos'\n",
       "27. 'ccomisiones_mantenimiento'\n",
       "28. 'mcomisiones_mantenimiento'\n",
       "29. 'ccomisiones_otras'\n",
       "30. 'mtransferencias_recibidas'\n",
       "31. 'ccallcenter_transacciones'\n",
       "32. 'thomebanking'\n",
       "33. 'chomebanking_transacciones'\n",
       "34. 'ctrx_quarter'\n",
       "35. 'Master_status'\n",
       "36. 'Master_mfinanciacion_limite'\n",
       "37. 'Master_Fvencimiento'\n",
       "38. 'Master_msaldototal'\n",
       "39. 'Master_mlimitecompra'\n",
       "40. 'Master_fultimo_cierre'\n",
       "41. 'Master_fechaalta'\n",
       "42. 'Master_mconsumototal'\n",
       "43. 'Master_cconsumos'\n",
       "44. 'Master_mpagominimo'\n",
       "45. 'Visa_status'\n",
       "46. 'Visa_mfinanciacion_limite'\n",
       "47. 'Visa_Fvencimiento'\n",
       "48. 'Visa_msaldototal'\n",
       "49. 'Visa_mlimitecompra'\n",
       "50. 'Visa_fultimo_cierre'\n",
       "51. 'Visa_fechaalta'\n",
       "52. 'Visa_mconsumototal'\n",
       "53. 'Visa_cconsumos'\n",
       "54. 'Visa_mpagominimo'\n",
       "55. 'clase_ternaria'\n",
       "\n",
       "\n"
      ],
      "text/plain": [
       " [1] \"numero_de_cliente\"                  \"foto_mes\"                          \n",
       " [3] \"internet\"                           \"cliente_edad\"                      \n",
       " [5] \"cliente_antiguedad\"                 \"mrentabilidad\"                     \n",
       " [7] \"mrentabilidad_annual\"               \"mcomisiones\"                       \n",
       " [9] \"mactivos_margen\"                    \"mpasivos_margen\"                   \n",
       "[11] \"cproductos\"                         \"mcuenta_corriente\"                 \n",
       "[13] \"mcaja_ahorro\"                       \"cdescubierto_preacordado\"          \n",
       "[15] \"mcuentas_saldo\"                     \"ctarjeta_visa\"                     \n",
       "[17] \"ctarjeta_visa_transacciones\"        \"mtarjeta_visa_consumo\"             \n",
       "[19] \"ctarjeta_master\"                    \"ctarjeta_master_transacciones\"     \n",
       "[21] \"mtarjeta_master_consumo\"            \"cprestamos_personales\"             \n",
       "[23] \"mprestamos_personales\"              \"cpayroll_trx\"                      \n",
       "[25] \"mpayroll\"                           \"mttarjeta_visa_debitos_automaticos\"\n",
       "[27] \"ccomisiones_mantenimiento\"          \"mcomisiones_mantenimiento\"         \n",
       "[29] \"ccomisiones_otras\"                  \"mtransferencias_recibidas\"         \n",
       "[31] \"ccallcenter_transacciones\"          \"thomebanking\"                      \n",
       "[33] \"chomebanking_transacciones\"         \"ctrx_quarter\"                      \n",
       "[35] \"Master_status\"                      \"Master_mfinanciacion_limite\"       \n",
       "[37] \"Master_Fvencimiento\"                \"Master_msaldototal\"                \n",
       "[39] \"Master_mlimitecompra\"               \"Master_fultimo_cierre\"             \n",
       "[41] \"Master_fechaalta\"                   \"Master_mconsumototal\"              \n",
       "[43] \"Master_cconsumos\"                   \"Master_mpagominimo\"                \n",
       "[45] \"Visa_status\"                        \"Visa_mfinanciacion_limite\"         \n",
       "[47] \"Visa_Fvencimiento\"                  \"Visa_msaldototal\"                  \n",
       "[49] \"Visa_mlimitecompra\"                 \"Visa_fultimo_cierre\"               \n",
       "[51] \"Visa_fechaalta\"                     \"Visa_mconsumototal\"                \n",
       "[53] \"Visa_cconsumos\"                     \"Visa_mpagominimo\"                  \n",
       "[55] \"clase_ternaria\"                    "
      ]
     },
     "metadata": {},
     "output_type": "display_data"
    }
   ],
   "source": [
    "colnames(dataset)"
   ]
  },
  {
   "cell_type": "markdown",
   "id": "rZ11c9KcFoAp",
   "metadata": {
    "id": "rZ11c9KcFoAp"
   },
   "source": []
  },
  {
   "cell_type": "code",
   "execution_count": 29,
   "id": "L85A2lwKSe3k",
   "metadata": {
    "id": "L85A2lwKSe3k",
    "vscode": {
     "languageId": "r"
    }
   },
   "outputs": [],
   "source": [
    "# se intenta corregir el data drifting utilizando algunos indices financieros"
   ]
  },
  {
   "cell_type": "markdown",
   "id": "7sppIDYeSn5X",
   "metadata": {
    "id": "7sppIDYeSn5X"
   },
   "source": [
    "#### 9.3.1.3  FE_intra_manual Feature Engineering intra-mes\n",
    "\n",
    "Agrego campos nuevos dentro del mismo mes, SIN considerar la historia."
   ]
  },
  {
   "cell_type": "code",
   "execution_count": 30,
   "id": "qrqf3j3_St3p",
   "metadata": {
    "id": "qrqf3j3_St3p",
    "vscode": {
     "languageId": "r"
    }
   },
   "outputs": [],
   "source": [
    "# esta funcion atributos presentes existe debido a que las modalidades poseen datasets con distinta cantidad de campos\n",
    "atributos_presentes <- function( patributos )\n",
    "{\n",
    "  atributos <- unique( patributos )\n",
    "  comun <- intersect( atributos, colnames(dataset) )\n",
    "\n",
    "  return(  length( atributos ) == length( comun ) )\n",
    "}\n",
    "\n",
    "# el mes 1,2, ..12\n",
    "if( atributos_presentes( c(\"foto_mes\") ))\n",
    "  dataset[, kmes := foto_mes %% 100]\n",
    "\n",
    "# variable extraida de una tesis de maestria de Irlanda\n",
    "if( atributos_presentes( c(\"mpayroll\", \"cliente_edad\") ))\n",
    "  dataset[, mpayroll_sobre_edad := mpayroll / cliente_edad]\n"
   ]
  },
  {
   "cell_type": "code",
   "execution_count": 31,
   "id": "iC4viwOdY5Kp",
   "metadata": {
    "id": "iC4viwOdY5Kp",
    "vscode": {
     "languageId": "r"
    }
   },
   "outputs": [
    {
     "data": {
      "text/html": [
       "<style>\n",
       ".list-inline {list-style: none; margin:0; padding: 0}\n",
       ".list-inline>li {display: inline-block}\n",
       ".list-inline>li:not(:last-child)::after {content: \"\\00b7\"; padding: 0 .5ex}\n",
       "</style>\n",
       "<ol class=list-inline><li>'numero_de_cliente'</li><li>'foto_mes'</li><li>'internet'</li><li>'cliente_edad'</li><li>'cliente_antiguedad'</li><li>'mrentabilidad'</li><li>'mrentabilidad_annual'</li><li>'mcomisiones'</li><li>'mactivos_margen'</li><li>'mpasivos_margen'</li><li>'cproductos'</li><li>'mcuenta_corriente'</li><li>'mcaja_ahorro'</li><li>'cdescubierto_preacordado'</li><li>'mcuentas_saldo'</li><li>'ctarjeta_visa'</li><li>'ctarjeta_visa_transacciones'</li><li>'mtarjeta_visa_consumo'</li><li>'ctarjeta_master'</li><li>'ctarjeta_master_transacciones'</li><li>'mtarjeta_master_consumo'</li><li>'cprestamos_personales'</li><li>'mprestamos_personales'</li><li>'cpayroll_trx'</li><li>'mpayroll'</li><li>'mttarjeta_visa_debitos_automaticos'</li><li>'ccomisiones_mantenimiento'</li><li>'mcomisiones_mantenimiento'</li><li>'ccomisiones_otras'</li><li>'mtransferencias_recibidas'</li><li>'ccallcenter_transacciones'</li><li>'thomebanking'</li><li>'chomebanking_transacciones'</li><li>'ctrx_quarter'</li><li>'Master_status'</li><li>'Master_mfinanciacion_limite'</li><li>'Master_Fvencimiento'</li><li>'Master_msaldototal'</li><li>'Master_mlimitecompra'</li><li>'Master_fultimo_cierre'</li><li>'Master_fechaalta'</li><li>'Master_mconsumototal'</li><li>'Master_cconsumos'</li><li>'Master_mpagominimo'</li><li>'Visa_status'</li><li>'Visa_mfinanciacion_limite'</li><li>'Visa_Fvencimiento'</li><li>'Visa_msaldototal'</li><li>'Visa_mlimitecompra'</li><li>'Visa_fultimo_cierre'</li><li>'Visa_fechaalta'</li><li>'Visa_mconsumototal'</li><li>'Visa_cconsumos'</li><li>'Visa_mpagominimo'</li><li>'clase_ternaria'</li><li>'kmes'</li><li>'mpayroll_sobre_edad'</li></ol>\n"
      ],
      "text/latex": [
       "\\begin{enumerate*}\n",
       "\\item 'numero\\_de\\_cliente'\n",
       "\\item 'foto\\_mes'\n",
       "\\item 'internet'\n",
       "\\item 'cliente\\_edad'\n",
       "\\item 'cliente\\_antiguedad'\n",
       "\\item 'mrentabilidad'\n",
       "\\item 'mrentabilidad\\_annual'\n",
       "\\item 'mcomisiones'\n",
       "\\item 'mactivos\\_margen'\n",
       "\\item 'mpasivos\\_margen'\n",
       "\\item 'cproductos'\n",
       "\\item 'mcuenta\\_corriente'\n",
       "\\item 'mcaja\\_ahorro'\n",
       "\\item 'cdescubierto\\_preacordado'\n",
       "\\item 'mcuentas\\_saldo'\n",
       "\\item 'ctarjeta\\_visa'\n",
       "\\item 'ctarjeta\\_visa\\_transacciones'\n",
       "\\item 'mtarjeta\\_visa\\_consumo'\n",
       "\\item 'ctarjeta\\_master'\n",
       "\\item 'ctarjeta\\_master\\_transacciones'\n",
       "\\item 'mtarjeta\\_master\\_consumo'\n",
       "\\item 'cprestamos\\_personales'\n",
       "\\item 'mprestamos\\_personales'\n",
       "\\item 'cpayroll\\_trx'\n",
       "\\item 'mpayroll'\n",
       "\\item 'mttarjeta\\_visa\\_debitos\\_automaticos'\n",
       "\\item 'ccomisiones\\_mantenimiento'\n",
       "\\item 'mcomisiones\\_mantenimiento'\n",
       "\\item 'ccomisiones\\_otras'\n",
       "\\item 'mtransferencias\\_recibidas'\n",
       "\\item 'ccallcenter\\_transacciones'\n",
       "\\item 'thomebanking'\n",
       "\\item 'chomebanking\\_transacciones'\n",
       "\\item 'ctrx\\_quarter'\n",
       "\\item 'Master\\_status'\n",
       "\\item 'Master\\_mfinanciacion\\_limite'\n",
       "\\item 'Master\\_Fvencimiento'\n",
       "\\item 'Master\\_msaldototal'\n",
       "\\item 'Master\\_mlimitecompra'\n",
       "\\item 'Master\\_fultimo\\_cierre'\n",
       "\\item 'Master\\_fechaalta'\n",
       "\\item 'Master\\_mconsumototal'\n",
       "\\item 'Master\\_cconsumos'\n",
       "\\item 'Master\\_mpagominimo'\n",
       "\\item 'Visa\\_status'\n",
       "\\item 'Visa\\_mfinanciacion\\_limite'\n",
       "\\item 'Visa\\_Fvencimiento'\n",
       "\\item 'Visa\\_msaldototal'\n",
       "\\item 'Visa\\_mlimitecompra'\n",
       "\\item 'Visa\\_fultimo\\_cierre'\n",
       "\\item 'Visa\\_fechaalta'\n",
       "\\item 'Visa\\_mconsumototal'\n",
       "\\item 'Visa\\_cconsumos'\n",
       "\\item 'Visa\\_mpagominimo'\n",
       "\\item 'clase\\_ternaria'\n",
       "\\item 'kmes'\n",
       "\\item 'mpayroll\\_sobre\\_edad'\n",
       "\\end{enumerate*}\n"
      ],
      "text/markdown": [
       "1. 'numero_de_cliente'\n",
       "2. 'foto_mes'\n",
       "3. 'internet'\n",
       "4. 'cliente_edad'\n",
       "5. 'cliente_antiguedad'\n",
       "6. 'mrentabilidad'\n",
       "7. 'mrentabilidad_annual'\n",
       "8. 'mcomisiones'\n",
       "9. 'mactivos_margen'\n",
       "10. 'mpasivos_margen'\n",
       "11. 'cproductos'\n",
       "12. 'mcuenta_corriente'\n",
       "13. 'mcaja_ahorro'\n",
       "14. 'cdescubierto_preacordado'\n",
       "15. 'mcuentas_saldo'\n",
       "16. 'ctarjeta_visa'\n",
       "17. 'ctarjeta_visa_transacciones'\n",
       "18. 'mtarjeta_visa_consumo'\n",
       "19. 'ctarjeta_master'\n",
       "20. 'ctarjeta_master_transacciones'\n",
       "21. 'mtarjeta_master_consumo'\n",
       "22. 'cprestamos_personales'\n",
       "23. 'mprestamos_personales'\n",
       "24. 'cpayroll_trx'\n",
       "25. 'mpayroll'\n",
       "26. 'mttarjeta_visa_debitos_automaticos'\n",
       "27. 'ccomisiones_mantenimiento'\n",
       "28. 'mcomisiones_mantenimiento'\n",
       "29. 'ccomisiones_otras'\n",
       "30. 'mtransferencias_recibidas'\n",
       "31. 'ccallcenter_transacciones'\n",
       "32. 'thomebanking'\n",
       "33. 'chomebanking_transacciones'\n",
       "34. 'ctrx_quarter'\n",
       "35. 'Master_status'\n",
       "36. 'Master_mfinanciacion_limite'\n",
       "37. 'Master_Fvencimiento'\n",
       "38. 'Master_msaldototal'\n",
       "39. 'Master_mlimitecompra'\n",
       "40. 'Master_fultimo_cierre'\n",
       "41. 'Master_fechaalta'\n",
       "42. 'Master_mconsumototal'\n",
       "43. 'Master_cconsumos'\n",
       "44. 'Master_mpagominimo'\n",
       "45. 'Visa_status'\n",
       "46. 'Visa_mfinanciacion_limite'\n",
       "47. 'Visa_Fvencimiento'\n",
       "48. 'Visa_msaldototal'\n",
       "49. 'Visa_mlimitecompra'\n",
       "50. 'Visa_fultimo_cierre'\n",
       "51. 'Visa_fechaalta'\n",
       "52. 'Visa_mconsumototal'\n",
       "53. 'Visa_cconsumos'\n",
       "54. 'Visa_mpagominimo'\n",
       "55. 'clase_ternaria'\n",
       "56. 'kmes'\n",
       "57. 'mpayroll_sobre_edad'\n",
       "\n",
       "\n"
      ],
      "text/plain": [
       " [1] \"numero_de_cliente\"                  \"foto_mes\"                          \n",
       " [3] \"internet\"                           \"cliente_edad\"                      \n",
       " [5] \"cliente_antiguedad\"                 \"mrentabilidad\"                     \n",
       " [7] \"mrentabilidad_annual\"               \"mcomisiones\"                       \n",
       " [9] \"mactivos_margen\"                    \"mpasivos_margen\"                   \n",
       "[11] \"cproductos\"                         \"mcuenta_corriente\"                 \n",
       "[13] \"mcaja_ahorro\"                       \"cdescubierto_preacordado\"          \n",
       "[15] \"mcuentas_saldo\"                     \"ctarjeta_visa\"                     \n",
       "[17] \"ctarjeta_visa_transacciones\"        \"mtarjeta_visa_consumo\"             \n",
       "[19] \"ctarjeta_master\"                    \"ctarjeta_master_transacciones\"     \n",
       "[21] \"mtarjeta_master_consumo\"            \"cprestamos_personales\"             \n",
       "[23] \"mprestamos_personales\"              \"cpayroll_trx\"                      \n",
       "[25] \"mpayroll\"                           \"mttarjeta_visa_debitos_automaticos\"\n",
       "[27] \"ccomisiones_mantenimiento\"          \"mcomisiones_mantenimiento\"         \n",
       "[29] \"ccomisiones_otras\"                  \"mtransferencias_recibidas\"         \n",
       "[31] \"ccallcenter_transacciones\"          \"thomebanking\"                      \n",
       "[33] \"chomebanking_transacciones\"         \"ctrx_quarter\"                      \n",
       "[35] \"Master_status\"                      \"Master_mfinanciacion_limite\"       \n",
       "[37] \"Master_Fvencimiento\"                \"Master_msaldototal\"                \n",
       "[39] \"Master_mlimitecompra\"               \"Master_fultimo_cierre\"             \n",
       "[41] \"Master_fechaalta\"                   \"Master_mconsumototal\"              \n",
       "[43] \"Master_cconsumos\"                   \"Master_mpagominimo\"                \n",
       "[45] \"Visa_status\"                        \"Visa_mfinanciacion_limite\"         \n",
       "[47] \"Visa_Fvencimiento\"                  \"Visa_msaldototal\"                  \n",
       "[49] \"Visa_mlimitecompra\"                 \"Visa_fultimo_cierre\"               \n",
       "[51] \"Visa_fechaalta\"                     \"Visa_mconsumototal\"                \n",
       "[53] \"Visa_cconsumos\"                     \"Visa_mpagominimo\"                  \n",
       "[55] \"clase_ternaria\"                     \"kmes\"                              \n",
       "[57] \"mpayroll_sobre_edad\"               "
      ]
     },
     "metadata": {},
     "output_type": "display_data"
    }
   ],
   "source": [
    "# visualizo las columas del dataset a esta etapa\n",
    "colnames(dataset)"
   ]
  },
  {
   "cell_type": "markdown",
   "id": "9682b4ca-3ab3-4bbc-a36a-b185361e6b6b",
   "metadata": {
    "id": "9682b4ca-3ab3-4bbc-a36a-b185361e6b6b"
   },
   "source": [
    "#### 9.3.1.4  FE_rf Feature Engineering de nuevas variables a partir de hojas de Random Forest"
   ]
  },
  {
   "cell_type": "code",
   "execution_count": 32,
   "id": "Vd09ZaybfUeK",
   "metadata": {
    "id": "Vd09ZaybfUeK",
    "vscode": {
     "languageId": "r"
    }
   },
   "outputs": [
    {
     "name": "stderr",
     "output_type": "stream",
     "text": [
      "Loading required package: lightgbm\n",
      "\n"
     ]
    }
   ],
   "source": [
    "if( !require(\"lightgbm\")) install.packages(\"lightgbm\")\n",
    "require(\"lightgbm\")"
   ]
  },
  {
   "cell_type": "code",
   "execution_count": 33,
   "id": "JrsaXcQqcefM",
   "metadata": {
    "id": "JrsaXcQqcefM",
    "vscode": {
     "languageId": "r"
    }
   },
   "outputs": [],
   "source": [
    "AgregaVarRandomForest <- function() {\n",
    "\n",
    "  cat( \"inicio AgregaVarRandomForest()\\n\")\n",
    "  gc(verbose= FALSE)\n",
    "  dataset[, clase01 := 0L ]\n",
    "  dataset[ clase_ternaria %in% PARAM$FE_rf$train$clase01_valor1,\n",
    "      clase01 := 1L ]\n",
    "\n",
    "  campos_buenos <- setdiff(\n",
    "    colnames(dataset),\n",
    "    c( \"clase_ternaria\", \"clase01\")\n",
    "  )\n",
    "\n",
    "  dataset[, entrenamiento :=\n",
    "    as.integer( foto_mes %in% PARAM$FE_rf$train$training )]\n",
    "\n",
    "  dtrain <- lgb.Dataset(\n",
    "    data = data.matrix(dataset[entrenamiento == TRUE, campos_buenos, with = FALSE]),\n",
    "    label = dataset[entrenamiento == TRUE, clase01],\n",
    "    free_raw_data = FALSE\n",
    "  )\n",
    "\n",
    "  modelo <- lgb.train(\n",
    "     data = dtrain,\n",
    "     param = PARAM$FE_rf$lgb_param,\n",
    "     verbose = -100\n",
    "  )\n",
    "\n",
    "  cat( \"Fin construccion RandomForest\\n\" )\n",
    "  # grabo el modelo, achivo .model\n",
    "  lgb.save(modelo, file=\"modelo.model\" )\n",
    "\n",
    "  qarbolitos <- copy(PARAM$FE_rf$lgb_param$num_iterations)\n",
    "\n",
    "  periodos <- dataset[ , unique( foto_mes ) ]\n",
    "\n",
    "  for( periodo in  periodos )\n",
    "  {\n",
    "    cat( \"periodo = \", periodo, \"\\n\" )\n",
    "    datamatrix <- data.matrix(dataset[ foto_mes== periodo, campos_buenos, with = FALSE])\n",
    "\n",
    "    cat( \"Inicio prediccion\\n\" )\n",
    "    prediccion <- predict(\n",
    "        modelo,\n",
    "        datamatrix,\n",
    "        type = \"leaf\"\n",
    "    )\n",
    "    cat( \"Fin prediccion\\n\" )\n",
    "\n",
    "    for( arbolito in 1:qarbolitos )\n",
    "    {\n",
    "       cat( arbolito, \" \" )\n",
    "       hojas_arbol <- unique(prediccion[ , arbolito])\n",
    "\n",
    "       for (pos in 1:length(hojas_arbol)) {\n",
    "         # el numero de nodo de la hoja, estan salteados\n",
    "         nodo_id <- hojas_arbol[pos]\n",
    "         dataset[ foto_mes== periodo, paste0(\n",
    "            \"rf_\", sprintf(\"%03d\", arbolito),\n",
    "             \"_\", sprintf(\"%03d\", nodo_id)\n",
    "          ) :=  as.integer( nodo_id == prediccion[ , arbolito]) ]\n",
    "\n",
    "       }\n",
    "\n",
    "       rm( hojas_arbol )\n",
    "    }\n",
    "    cat( \"\\n\" )\n",
    "\n",
    "    rm( prediccion )\n",
    "    rm( datamatrix )\n",
    "    gc(verbose= FALSE)\n",
    "  }\n",
    "\n",
    "  gc(verbose= FALSE)\n",
    "\n",
    "  # borro clase01 , no debe ensuciar el dataset\n",
    "  dataset[ , clase01 := NULL ]\n",
    "\n",
    "}\n"
   ]
  },
  {
   "cell_type": "code",
   "execution_count": 34,
   "id": "i6vcLtXldMpz",
   "metadata": {
    "id": "i6vcLtXldMpz",
    "vscode": {
     "languageId": "r"
    }
   },
   "outputs": [],
   "source": [
    "# Parametros de Feature Engineering  a partir de hojas de Random Forest\n",
    "\n",
    "# Estos CUATRO parametros son los que se deben modificar\n",
    "PARAM$FE_rf$arbolitos= 20\n",
    "PARAM$FE_rf$hojas_por_arbol= 16\n",
    "PARAM$FE_rf$datos_por_hoja= 100\n",
    "PARAM$FE_rf$mtry_ratio= 0.2\n",
    "\n",
    "# Estos son quasi fijos\n",
    "PARAM$FE_rf$train$clase01_valor1 <- c( \"BAJA+2\", \"BAJA+1\")\n",
    "PARAM$FE_rf$train$training <- c( 202101, 202102, 202103)\n",
    "\n",
    "# Estos TAMBIEN son quasi fijos\n",
    "PARAM$FE_rf$lgb_param <-list(\n",
    "    # parametros que se pueden cambiar\n",
    "    num_iterations = PARAM$FE_rf$arbolitos,\n",
    "    num_leaves  = PARAM$FE_rf$hojas_por_arbol,\n",
    "    min_data_in_leaf = PARAM$FE_rf$datos_por_hoja,\n",
    "    feature_fraction_bynode  = PARAM$FE_rf$mtry_ratio,\n",
    "\n",
    "    # para que LightGBM emule Random Forest\n",
    "    boosting = \"rf\",\n",
    "    bagging_fraction = ( 1.0 - 1.0/exp(1.0) ),\n",
    "    bagging_freq = 1.0,\n",
    "    feature_fraction = 1.0,\n",
    "\n",
    "    # genericos de LightGBM\n",
    "    max_bin = 31L,\n",
    "    objective = \"binary\",\n",
    "    first_metric_only = TRUE,\n",
    "    boost_from_average = TRUE,\n",
    "    feature_pre_filter = FALSE,\n",
    "    force_row_wise = TRUE,\n",
    "    verbosity = -100,\n",
    "    max_depth = -1L,\n",
    "    min_gain_to_split = 0.0,\n",
    "    min_sum_hessian_in_leaf = 0.001,\n",
    "    lambda_l1 = 0.0,\n",
    "    lambda_l2 = 0.0,\n",
    "\n",
    "    pos_bagging_fraction = 1.0,\n",
    "    neg_bagging_fraction = 1.0,\n",
    "    is_unbalance = FALSE,\n",
    "    scale_pos_weight = 1.0,\n",
    "\n",
    "    drop_rate = 0.1,\n",
    "    max_drop = 50,\n",
    "    skip_drop = 0.5,\n",
    "\n",
    "    extra_trees = FALSE\n",
    "  )"
   ]
  },
  {
   "cell_type": "code",
   "execution_count": 35,
   "id": "GTTj4VdBezcE",
   "metadata": {
    "id": "GTTj4VdBezcE",
    "vscode": {
     "languageId": "r"
    }
   },
   "outputs": [],
   "source": [
    "# Feature Engineering agregando variables de Random Forest\n",
    "AgregaVarRandomForest()"
   ]
  },
  {
   "cell_type": "code",
   "execution_count": null,
   "id": "bs2vXYFuiXGu",
   "metadata": {
    "id": "bs2vXYFuiXGu",
    "vscode": {
     "languageId": "r"
    }
   },
   "outputs": [],
   "source": [
    "ncol(dataset)\n",
    "colnames(dataset)"
   ]
  },
  {
   "cell_type": "code",
   "execution_count": null,
   "id": "ljA3h0jOcciP",
   "metadata": {
    "id": "ljA3h0jOcciP",
    "vscode": {
     "languageId": "r"
    }
   },
   "outputs": [],
   "source": [
    "# No se implementa Feature Engineering a partir de Random Forest"
   ]
  },
  {
   "cell_type": "markdown",
   "id": "XaRBjQj8ZRUZ",
   "metadata": {
    "id": "XaRBjQj8ZRUZ"
   },
   "source": [
    "#### 9.3.1.5  FEhist Feature Engineering historico\n",
    "\n",
    "El Fature Engineering Histórico es la etapa que más aporta a la ganancia final, ya que enriquece cada registro del dataset con su historia."
   ]
  },
  {
   "cell_type": "markdown",
   "id": "cfe3b8cf-0707-4512-92e7-c1407bb3f73b",
   "metadata": {
    "id": "cfe3b8cf-0707-4512-92e7-c1407bb3f73b"
   },
   "source": [
    "Para cada campo del dataset original (*)\n",
    "se crean lo siguientes campos de a partir de la historia\n",
    "* lag1  lags de orden 1\n",
    "* delta1  =  valor actual - lag1\n",
    "* lag2  lags de orden 2\n",
    "* delta2  = valor actual - lag2\n",
    "\n",
    "\n",
    "(*) Excepto para los campos  <numero_de_cliente,  foto_mes,  clase_ternaria>"
   ]
  },
  {
   "cell_type": "code",
   "execution_count": null,
   "id": "7850b948-827d-4a2a-b4d3-a5e459b47c11",
   "metadata": {
    "id": "7850b948-827d-4a2a-b4d3-a5e459b47c11",
    "vscode": {
     "languageId": "r"
    }
   },
   "outputs": [],
   "source": [
    "# Feature Engineering Historico\n",
    "\n",
    "# todo es lagueable, menos la primary key y la clase\n",
    "cols_lagueables <- copy( setdiff(\n",
    "    colnames(dataset),\n",
    "    c(\"numero_de_cliente\", \"foto_mes\", \"clase_ternaria\")\n",
    ") )\n",
    "\n",
    "# https://rdrr.io/cran/data.table/man/shift.html\n",
    "\n",
    "# lags de orden 1\n",
    "dataset[,\n",
    "    paste0(cols_lagueables, \"_lag1\") := shift(.SD, 1, NA, \"lag\"),\n",
    "    by = numero_de_cliente,\n",
    "    .SDcols = cols_lagueables\n",
    "]\n",
    "\n",
    "# lags de orden 2\n",
    "dataset[,\n",
    "    paste0(cols_lagueables, \"_lag2\") := shift(.SD, 2, NA, \"lag\"),\n",
    "    by = numero_de_cliente,\n",
    "    .SDcols = cols_lagueables\n",
    "]\n",
    "\n",
    "# agrego los delta lags\n",
    "for (vcol in cols_lagueables)\n",
    "{\n",
    "    dataset[, paste0(vcol, \"_delta1\") := get(vcol) - get(paste0(vcol, \"_lag1\"))]\n",
    "    dataset[, paste0(vcol, \"_delta2\") := get(vcol) - get(paste0(vcol, \"_lag2\"))]\n",
    "}\n"
   ]
  },
  {
   "cell_type": "markdown",
   "id": "cea690d9-ece9-4852-a5e2-f337c31b6721",
   "metadata": {
    "id": "cea690d9-ece9-4852-a5e2-f337c31b6721"
   },
   "source": [
    "Verificacion de los campos recien creados"
   ]
  },
  {
   "cell_type": "code",
   "execution_count": null,
   "id": "f772896b-595a-47d4-8905-c15304ac9452",
   "metadata": {
    "id": "f772896b-595a-47d4-8905-c15304ac9452",
    "vscode": {
     "languageId": "r"
    }
   },
   "outputs": [],
   "source": [
    "ncol(dataset)\n",
    "colnames(dataset)"
   ]
  },
  {
   "cell_type": "markdown",
   "id": "l8mKij0XaDY0",
   "metadata": {
    "id": "l8mKij0XaDY0"
   },
   "source": [
    "#### 9.3.1.6  FEhist Reduccion dimensionalidad con canaritos\n",
    "\n",
    "Esta etapa solo se mostrará a la *modalidad Anlista Sr* por algun canal secreto de forma de no confundir a los *Analista Jr*  nni distraer con detalles operativos a la estratégica *Modalidad Gerencial*"
   ]
  },
  {
   "cell_type": "code",
   "execution_count": null,
   "id": "QrmnPtlBcEgx",
   "metadata": {
    "id": "QrmnPtlBcEgx",
    "vscode": {
     "languageId": "r"
    }
   },
   "outputs": [],
   "source": [
    "# No se implementa la reduccion de la dimensionalidad con canaritos"
   ]
  },
  {
   "cell_type": "markdown",
   "id": "cf91ea5e-3341-4afb-8d05-cc4923d3d1e1",
   "metadata": {
    "id": "cf91ea5e-3341-4afb-8d05-cc4923d3d1e1"
   },
   "source": [
    "### 9.3.2 Modelado"
   ]
  },
  {
   "cell_type": "markdown",
   "id": "526048e4-8cf2-4023-bd2d-a70e4e9ff157",
   "metadata": {
    "id": "526048e4-8cf2-4023-bd2d-a70e4e9ff157"
   },
   "source": [
    "#### 9.3.2.1 Training Strategy"
   ]
  },
  {
   "cell_type": "markdown",
   "id": "f16bc1c1-b3ea-43ca-9d3c-53f8f9ab8ec1",
   "metadata": {
    "id": "f16bc1c1-b3ea-43ca-9d3c-53f8f9ab8ec1"
   },
   "source": [
    "Se hace una estrategia de entrenamiento muy sencilla, tomando todos los meses posibles, SIN eliminar nada x pandemia ni por ningun otro motivo\n",
    "\n",
    "* future = 202109  obviamente completo\n",
    "\n",
    "* final_train =  [ 201901, 202107 ]  SIN undersampling\n",
    "\n",
    "* training\n",
    "   * testing = NO HAY\n",
    "   * validation =  202107   completo, sin undersampling\n",
    "   * training = [ 201901, 202105 ]  donde se consideran el 100% de los CONTINUA"
   ]
  },
  {
   "cell_type": "code",
   "execution_count": null,
   "id": "2c9c0a42-ba58-4264-8566-091a6161716f",
   "metadata": {
    "id": "2c9c0a42-ba58-4264-8566-091a6161716f",
    "vscode": {
     "languageId": "r"
    }
   },
   "outputs": [],
   "source": [
    "PARAM$trainingstrategy$validate <- c(202101,202102,202103,202104,202105,202106,202107)\n",
    "\n",
    "PARAM$trainingstrategy$training <- c(\n",
    "  201901, 201902, 201903, 201904, 201905, 201906,\n",
    "  201907, 201908, 201909, 201910, 201911, 201912,\n",
    "  202001, 202002, 202003, 202004, 202005, 202006,\n",
    "  202007, 202008, 202009, 202010, 202011, 202012\n",
    ")\n",
    "\n",
    "PARAM$trainingstrategy$training_pct <- 1.0\n",
    "\n",
    "PARAM$trainingstrategy$positivos <- c( \"BAJA+1\", \"BAJA+2\")"
   ]
  },
  {
   "cell_type": "code",
   "execution_count": null,
   "id": "tv_trHWAj4a8",
   "metadata": {
    "id": "tv_trHWAj4a8",
    "vscode": {
     "languageId": "r"
    }
   },
   "outputs": [],
   "source": [
    "# seteo la clase01   1={BAJA+1, BAJA+2}   0={CONTINUA}\n",
    "dataset[, clase01 := ifelse( clase_ternaria %in% PARAM$trainingstrategy$positivos, 1, 0 )]"
   ]
  },
  {
   "cell_type": "code",
   "execution_count": null,
   "id": "Ud_XDKSIj8f_",
   "metadata": {
    "id": "Ud_XDKSIj8f_",
    "vscode": {
     "languageId": "r"
    }
   },
   "outputs": [],
   "source": [
    "# los campos en los que se entrena\n",
    "campos_buenos <- copy( setdiff(\n",
    "    colnames(dataset), c(\"clase_ternaria\",\"clase01\",\"azar\"))\n",
    ")"
   ]
  },
  {
   "cell_type": "code",
   "execution_count": null,
   "id": "rFKgZZPSj_Pa",
   "metadata": {
    "id": "rFKgZZPSj_Pa",
    "vscode": {
     "languageId": "r"
    }
   },
   "outputs": [],
   "source": [
    "# preparo para que se puede hacer undersampling de los CONTINUA\n",
    "#  solamente por un tema de VELOCIDAD\n",
    "set.seed(PARAM$semilla_primigenia, kind = \"L'Ecuyer-CMRG\")\n",
    "dataset[, azar:=runif(nrow(dataset))]\n",
    "\n",
    "# undersampling de los CONTINUA\n",
    "dataset[, fold_train :=  foto_mes %in%  PARAM$trainingstrategy$training &\n",
    "    (clase_ternaria %in% c(\"BAJA+1\", \"BAJA+2\") |\n",
    "     azar < PARAM$trainingstrategy$training_pct ) ]\n",
    "\n",
    "\n",
    "if( !require(\"lightgbm\")) install.packages(\"lightgbm\")\n",
    "require(\"lightgbm\")\n",
    "\n",
    "dtrain <- lgb.Dataset(\n",
    "  data= data.matrix(dataset[fold_train == TRUE, campos_buenos, with = FALSE]),\n",
    "  label= dataset[fold_train == TRUE, clase01],\n",
    "  free_raw_data= TRUE\n",
    ")"
   ]
  },
  {
   "cell_type": "code",
   "execution_count": null,
   "id": "B3yo98kQkHcP",
   "metadata": {
    "id": "B3yo98kQkHcP",
    "vscode": {
     "languageId": "r"
    }
   },
   "outputs": [],
   "source": [
    "# datos de validation\n",
    "dvalidate <- lgb.Dataset(\n",
    "  data= data.matrix(dataset[foto_mes %in% PARAM$trainingstrategy$validate, campos_buenos, with = FALSE]),\n",
    "  label= dataset[foto_mes %in% PARAM$trainingstrategy$validate, clase01],\n",
    "  free_raw_data= TRUE\n",
    ")\n",
    "\n",
    "nrow(dvalidate)"
   ]
  },
  {
   "cell_type": "markdown",
   "id": "28e8f788-551c-4e50-9029-302ac0834287",
   "metadata": {
    "id": "28e8f788-551c-4e50-9029-302ac0834287"
   },
   "source": [
    "####  9.3.2.2. Hyperparameter Tuning"
   ]
  },
  {
   "cell_type": "markdown",
   "id": "bf5fc836-e222-4aeb-a6a8-157346895ef7",
   "metadata": {
    "id": "bf5fc836-e222-4aeb-a6a8-157346895ef7"
   },
   "source": [
    "* Clase binaria que se optimiza :  positivos = [ BAJA+1, BAJA+2 ]"
   ]
  },
  {
   "cell_type": "markdown",
   "id": "885c03b5-77bc-4510-a930-0d1f14b52ffb",
   "metadata": {
    "id": "885c03b5-77bc-4510-a930-0d1f14b52ffb"
   },
   "source": [
    "* Metrica que se optimiza **AUC** Area Under Curve de la  ROC Curve\n",
    "\n",
    "es muy importante notar que intencionalmente  **NO** se está optimizando la funcion de ganancia del problema"
   ]
  },
  {
   "cell_type": "markdown",
   "id": "b7e6f95c-66ef-4ab9-9ba3-fcc099816704",
   "metadata": {
    "id": "b7e6f95c-66ef-4ab9-9ba3-fcc099816704"
   },
   "source": [
    "* Cantidad de iteraciones inteligentes de la Optimizacion Bayesiana = **10**"
   ]
  },
  {
   "cell_type": "markdown",
   "id": "fe047a87-e2d0-4418-97dd-0a881e66d73a",
   "metadata": {
    "id": "fe047a87-e2d0-4418-97dd-0a881e66d73a"
   },
   "source": [
    "* Parametros no default, fijos de LightGBM que no se optimizan\n",
    "  * max_bin = 31 , Alienigenas Ancestrales contruyeron las pirámides y dejaron a la humanidad en un jeroglifico  *max_bin=31*\n",
    "  * feature_fraction = 0.5  para poner algo que generalmente no falla\n",
    "  * learning_rate = 0.03  para que aprenda lento\n"
   ]
  },
  {
   "cell_type": "markdown",
   "id": "1e7da08e-fe57-4681-beff-11fe963116bd",
   "metadata": {
    "id": "1e7da08e-fe57-4681-beff-11fe963116bd"
   },
   "source": [
    "* Parametros que se optimizan en la Bayesian Optimization\n",
    "  * num_leaves  [8, 256]\n",
    "  * min_data_in_leaf  [8, 8192]"
   ]
  },
  {
   "cell_type": "code",
   "execution_count": null,
   "id": "34V6y4GetKq_",
   "metadata": {
    "id": "34V6y4GetKq_",
    "vscode": {
     "languageId": "r"
    }
   },
   "outputs": [],
   "source": [
    "# paquetes necesarios para la Bayesian Optimization\n",
    "if(!require(\"DiceKriging\")) install.packages(\"DiceKriging\")\n",
    "require(\"DiceKriging\")\n",
    "\n",
    "if(!require(\"mlrMBO\")) install.packages(\"mlrMBO\")\n",
    "require(\"mlrMBO\")"
   ]
  },
  {
   "cell_type": "markdown",
   "id": "UFbDSYtH0TTT",
   "metadata": {
    "id": "UFbDSYtH0TTT"
   },
   "source": [
    "Definición de la Bayesian Optimization\n",
    "<br> Si se desea optimizar un hiperparámetro que esta como fijo, debe QUITARSE de param_fijos y agregarse a PARAM$hipeparametertuning$hs"
   ]
  },
  {
   "cell_type": "code",
   "execution_count": null,
   "id": "5Uag3XGHqrfZ",
   "metadata": {
    "id": "5Uag3XGHqrfZ",
    "vscode": {
     "languageId": "r"
    }
   },
   "outputs": [],
   "source": [
    "# un Analista Jr  debe poder animarse a hacer 100 iteraciones\n",
    "PARAM$hipeparametertuning$num_interations <- 100\n",
    "\n",
    "# parametros fijos del LightGBM\n",
    "PARAM$lgbm$param_fijos <- list(\n",
    "  objective= \"binary\",\n",
    "  metric= \"auc\",\n",
    "  first_metric_only= TRUE,\n",
    "  boost_from_average= TRUE,\n",
    "  feature_pre_filter= FALSE,\n",
    "  verbosity= -100,\n",
    "  force_row_wise= TRUE, # para evitar warning\n",
    "  seed= PARAM$semilla_primigenia,\n",
    "  max_bin= 31,\n",
    "    \n",
    "\n",
    "  num_iterations= 9999,  # valor grande, lo limita early_stopping_rounds\n",
    "  early_stopping_rounds= 400\n",
    ")\n",
    "\n",
    "PARAM$hipeparametertuning$hs <- makeParamSet(\n",
    "  makeIntegerParam(\"num_leaves\", lower= 2L, upper= 256L),\n",
    "  makeIntegerParam(\"min_data_in_leaf\", lower= 2L, upper= 8192L),\n",
    "  makeNumericParam(\"feature_fraction\", lower= 0.1, upper= 0.9),\n",
    "  makeNumericParam(\"learning_rate\", lower= 0.01, upper= 0.5)\n",
    ")"
   ]
  },
  {
   "cell_type": "markdown",
   "id": "FEa1UuuAz4yj",
   "metadata": {
    "id": "FEa1UuuAz4yj"
   },
   "source": [
    "Función \"señora caja negra\"  que es llamada para verificar la realidad por la Bayesian Optimization"
   ]
  },
  {
   "cell_type": "code",
   "execution_count": null,
   "id": "2c10f535-8d90-47d1-ac3d-9b4c24ec21d2",
   "metadata": {
    "id": "2c10f535-8d90-47d1-ac3d-9b4c24ec21d2",
    "vscode": {
     "languageId": "r"
    }
   },
   "outputs": [],
   "source": [
    "# En  x llegan los parmaetros de la bayesiana\n",
    "#  devuelve la AUC en validate del modelo entrenado\n",
    "#  en el parametro x llegan los hiperparámetros que se estan optimizando\n",
    "\n",
    "EstimarGanancia_AUC_lightgbm <- function(x) {\n",
    "\n",
    "  # x pisa (o agrega) a param_fijos\n",
    "  param_completo <- modifyList(PARAM$lgbm$param_fijos, x)\n",
    "\n",
    "  # entreno LightGBM\n",
    "  modelo_train <- lgb.train(\n",
    "    data= dtrain,\n",
    "    valids= list(valid = dvalidate),\n",
    "    eval= \"auc\",\n",
    "    param= param_completo,\n",
    "    verbose= -100\n",
    "  )\n",
    "\n",
    "  # recupero la AUC en validation\n",
    "  AUC <- modelo_train$record_evals$valid$auc$eval[[modelo_train$best_iter]]\n",
    "\n",
    "  # esta es la forma de devolver un parametro extra\n",
    "  attr(AUC, \"extras\") <- list(\"num_iterations\"= modelo_train$best_iter)\n",
    "\n",
    "  # hago espacio en la memoria\n",
    "  rm(modelo_train)\n",
    "  gc(full= TRUE, verbose= FALSE)\n",
    "\n",
    "  message(format(Sys.time(), \"%a %b %d %X %Y\"), \" AUC \", AUC)\n",
    "\n",
    "  return(AUC)\n",
    "}"
   ]
  },
  {
   "cell_type": "markdown",
   "id": "267a35d4-adaf-4271-a875-3864111333b7",
   "metadata": {
    "id": "267a35d4-adaf-4271-a875-3864111333b7"
   },
   "source": [
    "seteo de la Bayesian Optimization (complejo)\n",
    "<br> copiado y pegado de la documentación de la librería"
   ]
  },
  {
   "cell_type": "code",
   "execution_count": null,
   "id": "43c2a92d-1041-46b8-bff2-47297f209ed2",
   "metadata": {
    "id": "43c2a92d-1041-46b8-bff2-47297f209ed2",
    "vscode": {
     "languageId": "r"
    }
   },
   "outputs": [],
   "source": [
    "configureMlr(show.learner.output = FALSE)\n",
    "\n",
    "# configuro la busqueda bayesiana,  los hiperparametros que se van a optimizar\n",
    "# por favor, no desesperarse por lo complejo\n",
    "obj.fun <- makeSingleObjectiveFunction(\n",
    "    fn= EstimarGanancia_AUC_lightgbm, # la funcion que voy a maximizar\n",
    "    minimize= FALSE, # estoy Maximizando AUC\n",
    "    noisy= FALSE,\n",
    "    par.set= PARAM$hipeparametertuning$hs,\n",
    "    has.simple.signature= FALSE # paso los parametros en una lista\n",
    ")\n",
    "\n",
    "# cada 600 segundos guardo el resultado intermedio\n",
    "ctrl <- makeMBOControl(\n",
    "    save.on.disk.at.time= 600,\n",
    "    save.file.path= \"HT.RDATA\"\n",
    ")\n",
    "\n",
    "# indico la cantidad de iteraciones que va a tener la Bayesian Optimization\n",
    "ctrl <- setMBOControlTermination(\n",
    "    ctrl,\n",
    "    iters= PARAM$hipeparametertuning$num_interations  # cantidad de iteraciones inteligentes\n",
    ")\n",
    "\n",
    "# defino el método estandar para la creacion de los puntos iniciales\n",
    "#   los \"No Inteligentes\"\n",
    "ctrl <- setMBOControlInfill(ctrl, crit = makeMBOInfillCritEI())\n",
    "\n",
    "# mas configuraciones\n",
    "surr.km <- makeLearner(\n",
    "    \"regr.km\",\n",
    "    predict.type= \"se\",\n",
    "    covtype= \"matern3_2\",\n",
    "    control= list(trace = TRUE)\n",
    ")"
   ]
  },
  {
   "cell_type": "markdown",
   "id": "6c1e5645-d26f-4923-a53f-f30471a4c4e8",
   "metadata": {
    "id": "6c1e5645-d26f-4923-a53f-f30471a4c4e8"
   },
   "source": [
    "Corrida de la Bayesian Optimization,  aqui se hace el trabajo pesado\n",
    "<br> por favor no se asuste con los warnings que pudieran aparecer\n",
    "\n",
    "Si corrío a medias y llegó a las iteraciones inteligentes, en el archivo binario HT.RDATA quedó lo ya procesado y es utilizado para retomar la corrida desde lo último que llegó a grabar."
   ]
  },
  {
   "cell_type": "code",
   "execution_count": null,
   "id": "e505dd4f-0c44-4df0-9684-7d2c9c3dddec",
   "metadata": {
    "id": "1f8cab3f-c7e2-4802-bfd1-5ad509922a4e",
    "vscode": {
     "languageId": "r"
    }
   },
   "outputs": [],
   "source": [
    "### inicio la optimizacion bayesiana\n",
    "\n",
    "if (!file.exists(\"HT.RDATA\")) {\n",
    "  bayesiana_salida <- mbo(obj.fun, learner= surr.km, control= ctrl)\n",
    "} else {\n",
    "  bayesiana_salida <- mboContinue(\"HT.RDATA\") # retomo en caso que ya exista\n",
    "}"
   ]
  },
  {
   "cell_type": "markdown",
   "id": "36307612-964f-4df3-907a-1bc3c095f178",
   "metadata": {
    "id": "36307612-964f-4df3-907a-1bc3c095f178"
   },
   "source": [
    "la bayesian optimization ha corrido, extraigo los mejores hiperparametros"
   ]
  },
  {
   "cell_type": "code",
   "execution_count": null,
   "id": "8c061a2a-3341-4006-a154-c95bb6cfd407",
   "metadata": {
    "id": "8c061a2a-3341-4006-a154-c95bb6cfd407",
    "vscode": {
     "languageId": "r"
    }
   },
   "outputs": [],
   "source": [
    "# almaceno los resultados de la Bayesian Optimization\n",
    "# y capturo los mejores hiperparametros encontrados\n",
    "\n",
    "tb_bayesiana <- as.data.table(bayesiana_salida$opt.path)\n",
    "\n",
    "# ordeno en forma descendente por AUC = y\n",
    "setorder(tb_bayesiana, -y, -num_iterations)\n",
    "\n",
    "# grabo para eventualmente poder utilizarlos en OTRA corrida\n",
    "fwrite( tb_bayesiana,\n",
    "  file=\"BO_log.txt\",\n",
    "  sep=\"\\t\"\n",
    ")\n",
    "\n",
    "# los mejores hiperparámetros son los que quedaron en el registro 1 de la tabla\n",
    "PARAM$out$lgbm$mejores_hiperparametros <- tb_bayesiana[\n",
    "  1, # el primero es el de mejor AUC\n",
    "  list(num_leaves, min_data_in_leaf, num_iterations,feature_fraction,learning_rate,num_iterations,y)\n",
    "]\n",
    "\n",
    "print(PARAM$out$lgbm$mejores_hiperparametros)"
   ]
  },
  {
   "cell_type": "code",
   "execution_count": null,
   "id": "1ab75a5a-b2b3-451f-9117-ec9e8a0ad035",
   "metadata": {
    "vscode": {
     "languageId": "r"
    }
   },
   "outputs": [],
   "source": []
  },
  {
   "cell_type": "code",
   "execution_count": null,
   "id": "d3c6aa95-14f8-4fb9-a4fb-29f15a2d253e",
   "metadata": {
    "vscode": {
     "languageId": "r"
    }
   },
   "outputs": [],
   "source": [
    "print(tb_bayesiana)"
   ]
  },
  {
   "cell_type": "markdown",
   "id": "ddb554cb-1d96-4f6b-ae1c-c9a076f8dbdc",
   "metadata": {
    "id": "ddb554cb-1d96-4f6b-ae1c-c9a076f8dbdc"
   },
   "source": [
    "### 9.3.3 Produccion"
   ]
  },
  {
   "cell_type": "markdown",
   "id": "c39492c3-756f-47a5-8747-93ade8275306",
   "metadata": {
    "id": "c39492c3-756f-47a5-8747-93ade8275306"
   },
   "source": [
    "#### Final Training\n",
    "Construyo el modelo final, que es uno solo, no hace ningun tipo de particion < training, validation, testing>]"
   ]
  },
  {
   "cell_type": "markdown",
   "id": "xhKi_G_sYQqq",
   "metadata": {
    "id": "xhKi_G_sYQqq"
   },
   "source": [
    "##### Final Training Dataset\n",
    "\n",
    "Aqui esta la gran decision de en qué meses hago el Final Training\n",
    "<br> debo utilizar los mejores hiperparámetros que encontré en la optimización bayesiana"
   ]
  },
  {
   "cell_type": "code",
   "execution_count": null,
   "id": "qyHfS_X0zd7o",
   "metadata": {
    "id": "qyHfS_X0zd7o",
    "vscode": {
     "languageId": "r"
    }
   },
   "outputs": [],
   "source": [
    "PARAM$trainingstrategy$final_train <- c(\n",
    "  201901, 201902, 201903, 201904, 201905, 201906,\n",
    "  201907, 201908, 201909, 201910, 201911, 201912,\n",
    "  202001, 202002, 202003, 202004, 202005, 202006,\n",
    "  202007, 202008, 202009, 202010, 202011, 202012,\n",
    "  202101, 202102, 202103, 202104, 202105, 202106,\n",
    "  202107\n",
    ")\n",
    "\n",
    "\n",
    "dataset[, fold_final_train := foto_mes %in% PARAM$trainingstrategy$final_train ]\n",
    "\n",
    "# creo el dfinal_train en formato  LightGBM\n",
    "dfinal_train <- lgb.Dataset(\n",
    "  data= data.matrix(dataset[fold_final_train == TRUE, campos_buenos, with= FALSE]),\n",
    "  label= dataset[fold_final_train == TRUE, clase01],\n",
    "  free_raw_data= TRUE\n",
    ")\n",
    "\n",
    "nrow( dfinal_train) # verifico el tamaño"
   ]
  },
  {
   "cell_type": "markdown",
   "id": "HATRyklxYUpT",
   "metadata": {
    "id": "HATRyklxYUpT"
   },
   "source": [
    "##### Final Training Hyperparameters"
   ]
  },
  {
   "cell_type": "code",
   "execution_count": null,
   "id": "d6b9f33c-e0a0-4ea6-8169-4a6180cc5d01",
   "metadata": {
    "id": "d6b9f33c-e0a0-4ea6-8169-4a6180cc5d01",
    "vscode": {
     "languageId": "r"
    }
   },
   "outputs": [],
   "source": [
    "# uno los parametros fijos y los mejores encontrados de los variables\n",
    "fijos <- copy(PARAM$lgbm$param_fijos)\n",
    "\n",
    "# quito lo que optimice en la Bayesian Optimization\n",
    "fijos$num_iterations <- NULL\n",
    "fijos$early_stopping_rounds <- NULL\n",
    "\n",
    "# agrego a los hiperparametros fijos los que encontre con la Bayesian Optimization\n",
    "param_final <- c(fijos, PARAM$out$lgbm$mejores_hiperparametros)"
   ]
  },
  {
   "cell_type": "markdown",
   "id": "05d3494f-0401-4f3e-9b69-f488a737879d",
   "metadata": {
    "id": "05d3494f-0401-4f3e-9b69-f488a737879d"
   },
   "source": [
    "##### Training\n"
   ]
  },
  {
   "cell_type": "markdown",
   "id": "73df2f61-d189-49d0-a407-236d5b4e241d",
   "metadata": {},
   "source": [
    "Genero el modelo final, siempre sobre TODOS los datos de  final_train, sin hacer ningun tipo de undersampling de la clase mayoritaria"
   ]
  },
  {
   "cell_type": "markdown",
   "id": "8aee1409-cce4-4e2b-969a-5f131fce5f44",
   "metadata": {},
   "source": [
    "##### Original"
   ]
  },
  {
   "cell_type": "code",
   "execution_count": null,
   "id": "fa239848-1c28-4ee5-984a-073903b4b279",
   "metadata": {
    "id": "fa239848-1c28-4ee5-984a-073903b4b279",
    "vscode": {
     "languageId": "r"
    }
   },
   "outputs": [],
   "source": [
    "final_model <- lgb.train(\n",
    "  data= dfinal_train,\n",
    "  param= param_final,\n",
    "  verbose= -100\n",
    ")"
   ]
  },
  {
   "cell_type": "code",
   "execution_count": 62,
   "id": "RC1ju-5MZN5s",
   "metadata": {
    "id": "RC1ju-5MZN5s",
    "vscode": {
     "languageId": "r"
    }
   },
   "outputs": [],
   "source": [
    "# grabo a disco el modelo en un formato para seres humanos ... ponele ...\n",
    "\n",
    "lgb.save(final_model, \"modelo.txt\")"
   ]
  },
  {
   "cell_type": "code",
   "execution_count": 63,
   "id": "VEpv4RYOZHTU",
   "metadata": {
    "id": "VEpv4RYOZHTU",
    "vscode": {
     "languageId": "r"
    }
   },
   "outputs": [],
   "source": [
    "# ahora imprimo la importancia de variables\n",
    "\n",
    "tb_importancia <- as.data.table(lgb.importance(final_model))\n",
    "archivo_importancia <- \"impo.txt\"\n",
    "\n",
    "fwrite( tb_importancia,\n",
    "  file= archivo_importancia,\n",
    "  sep= \"\\t\"\n",
    ")"
   ]
  },
  {
   "cell_type": "markdown",
   "id": "7ea225b3-ce02-42e2-8330-b10ed250d172",
   "metadata": {
    "id": "7ea225b3-ce02-42e2-8330-b10ed250d172"
   },
   "source": [
    "#### Scoring"
   ]
  },
  {
   "cell_type": "markdown",
   "id": "164981bb-f4c1-4228-8bc9-32e58a383c05",
   "metadata": {
    "id": "164981bb-f4c1-4228-8bc9-32e58a383c05"
   },
   "source": [
    "Aplico el modelo final a los datos del futuro"
   ]
  },
  {
   "cell_type": "code",
   "execution_count": 64,
   "id": "eJ7RbT271v-R",
   "metadata": {
    "id": "eJ7RbT271v-R",
    "vscode": {
     "languageId": "r"
    }
   },
   "outputs": [],
   "source": [
    "#Bloque\n",
    "PARAM$trainingstrategy$future <- c(202109)\n",
    "\n",
    "dfuture <- dataset[ foto_mes %in% PARAM$trainingstrategy$future ]"
   ]
  },
  {
   "cell_type": "code",
   "execution_count": 65,
   "id": "4bb01a66-e530-4462-8197-6b09d8f62703",
   "metadata": {
    "vscode": {
     "languageId": "r"
    }
   },
   "outputs": [],
   "source": [
    "# aplico final_model   a dfuture\n",
    "\n",
    "prediccion <- predict(\n",
    "  final_model,\n",
    "  data.matrix(dfuture[, campos_buenos, with= FALSE])\n",
    ")"
   ]
  },
  {
   "cell_type": "code",
   "execution_count": null,
   "id": "cbea0d7b-6ffa-4ac7-9a0f-cde798d09702",
   "metadata": {
    "vscode": {
     "languageId": "r"
    }
   },
   "outputs": [],
   "source": []
  },
  {
   "cell_type": "markdown",
   "id": "79u0ZvjJZblE",
   "metadata": {
    "id": "79u0ZvjJZblE"
   },
   "source": [
    "##### Tabla Prediccion"
   ]
  },
  {
   "cell_type": "code",
   "execution_count": 66,
   "id": "TB6aerGDZeTo",
   "metadata": {
    "id": "TB6aerGDZeTo",
    "vscode": {
     "languageId": "r"
    }
   },
   "outputs": [],
   "source": [
    "tb_prediccion <- dfuture[, list(numero_de_cliente)]\n",
    "tb_prediccion[, prob := prediccion]\n",
    "\n",
    "# grabo las probabilidad del modelo\n",
    "#  me va a ser util para hacer Ensembles de modelos\n",
    "fwrite(tb_prediccion,\n",
    "  file= \"prediccion.txt\",\n",
    "  sep= \"\\t\"\n",
    ")\n"
   ]
  },
  {
   "cell_type": "code",
   "execution_count": 67,
   "id": "5f85d832-9780-4b9e-9d47-257c7597cf69",
   "metadata": {
    "vscode": {
     "languageId": "r"
    }
   },
   "outputs": [
    {
     "data": {
      "text/html": [
       "<table class=\"dataframe\">\n",
       "<caption>A data.table: 33094 × 2</caption>\n",
       "<thead>\n",
       "\t<tr><th scope=col>numero_de_cliente</th><th scope=col>prob</th></tr>\n",
       "\t<tr><th scope=col>&lt;int&gt;</th><th scope=col>&lt;dbl&gt;</th></tr>\n",
       "</thead>\n",
       "<tbody>\n",
       "\t<tr><td>29186441</td><td>0.0016497384</td></tr>\n",
       "\t<tr><td>29187730</td><td>0.0003004764</td></tr>\n",
       "\t<tr><td>29187961</td><td>0.0013586247</td></tr>\n",
       "\t<tr><td>29193101</td><td>0.0003898605</td></tr>\n",
       "\t<tr><td>29193281</td><td>0.0006411095</td></tr>\n",
       "\t<tr><td>29198891</td><td>0.0009682844</td></tr>\n",
       "\t<tr><td>29200651</td><td>0.0118108214</td></tr>\n",
       "\t<tr><td>29200770</td><td>0.0001454802</td></tr>\n",
       "\t<tr><td>29201701</td><td>0.0006340252</td></tr>\n",
       "\t<tr><td>29205441</td><td>0.1771445423</td></tr>\n",
       "\t<tr><td>29207790</td><td>0.0008714415</td></tr>\n",
       "\t<tr><td>29207901</td><td>0.0070123628</td></tr>\n",
       "\t<tr><td>29215330</td><td>0.0001025948</td></tr>\n",
       "\t<tr><td>29217500</td><td>0.0019398344</td></tr>\n",
       "\t<tr><td>29218080</td><td>0.0005639719</td></tr>\n",
       "\t<tr><td>29219250</td><td>0.0004616167</td></tr>\n",
       "\t<tr><td>29226090</td><td>0.0011856865</td></tr>\n",
       "\t<tr><td>29229250</td><td>0.0065483131</td></tr>\n",
       "\t<tr><td>29236620</td><td>0.0003007297</td></tr>\n",
       "\t<tr><td>29243631</td><td>0.0003082786</td></tr>\n",
       "\t<tr><td>29247850</td><td>0.0054234550</td></tr>\n",
       "\t<tr><td>29251231</td><td>0.0060432765</td></tr>\n",
       "\t<tr><td>29255740</td><td>0.0002372950</td></tr>\n",
       "\t<tr><td>29257551</td><td>0.0002833811</td></tr>\n",
       "\t<tr><td>29257790</td><td>0.0002668893</td></tr>\n",
       "\t<tr><td>29267141</td><td>0.0011294002</td></tr>\n",
       "\t<tr><td>29274460</td><td>0.0045369585</td></tr>\n",
       "\t<tr><td>29277081</td><td>0.0032954613</td></tr>\n",
       "\t<tr><td>29280480</td><td>0.0113413938</td></tr>\n",
       "\t<tr><td>29280890</td><td>0.3387266295</td></tr>\n",
       "\t<tr><td>⋮</td><td>⋮</td></tr>\n",
       "\t<tr><td>187531190</td><td>0.022389820</td></tr>\n",
       "\t<tr><td>187562010</td><td>0.001998014</td></tr>\n",
       "\t<tr><td>187564290</td><td>0.009362167</td></tr>\n",
       "\t<tr><td>187565870</td><td>0.001318032</td></tr>\n",
       "\t<tr><td>187577510</td><td>0.008428771</td></tr>\n",
       "\t<tr><td>187594641</td><td>0.005017050</td></tr>\n",
       "\t<tr><td>187604521</td><td>0.010299465</td></tr>\n",
       "\t<tr><td>187626041</td><td>0.013151024</td></tr>\n",
       "\t<tr><td>187634060</td><td>0.001283576</td></tr>\n",
       "\t<tr><td>187636041</td><td>0.004746007</td></tr>\n",
       "\t<tr><td>187733830</td><td>0.005112122</td></tr>\n",
       "\t<tr><td>187766810</td><td>0.001626689</td></tr>\n",
       "\t<tr><td>187768040</td><td>0.016745188</td></tr>\n",
       "\t<tr><td>187774590</td><td>0.008218517</td></tr>\n",
       "\t<tr><td>187775060</td><td>0.003757317</td></tr>\n",
       "\t<tr><td>187816050</td><td>0.012322531</td></tr>\n",
       "\t<tr><td>187827511</td><td>0.006834333</td></tr>\n",
       "\t<tr><td>187828510</td><td>0.018315122</td></tr>\n",
       "\t<tr><td>187838971</td><td>0.017061519</td></tr>\n",
       "\t<tr><td>187845820</td><td>0.023729400</td></tr>\n",
       "\t<tr><td>187902361</td><td>0.026654109</td></tr>\n",
       "\t<tr><td>187903010</td><td>0.021046030</td></tr>\n",
       "\t<tr><td>187956461</td><td>0.035390083</td></tr>\n",
       "\t<tr><td>187964701</td><td>0.022194642</td></tr>\n",
       "\t<tr><td>187969270</td><td>0.017817052</td></tr>\n",
       "\t<tr><td>187989740</td><td>0.021658148</td></tr>\n",
       "\t<tr><td>188009390</td><td>0.020578276</td></tr>\n",
       "\t<tr><td>188042080</td><td>0.019597466</td></tr>\n",
       "\t<tr><td>188115120</td><td>0.018667920</td></tr>\n",
       "\t<tr><td>188116871</td><td>0.001622499</td></tr>\n",
       "</tbody>\n",
       "</table>\n"
      ],
      "text/latex": [
       "A data.table: 33094 × 2\n",
       "\\begin{tabular}{ll}\n",
       " numero\\_de\\_cliente & prob\\\\\n",
       " <int> & <dbl>\\\\\n",
       "\\hline\n",
       "\t 29186441 & 0.0016497384\\\\\n",
       "\t 29187730 & 0.0003004764\\\\\n",
       "\t 29187961 & 0.0013586247\\\\\n",
       "\t 29193101 & 0.0003898605\\\\\n",
       "\t 29193281 & 0.0006411095\\\\\n",
       "\t 29198891 & 0.0009682844\\\\\n",
       "\t 29200651 & 0.0118108214\\\\\n",
       "\t 29200770 & 0.0001454802\\\\\n",
       "\t 29201701 & 0.0006340252\\\\\n",
       "\t 29205441 & 0.1771445423\\\\\n",
       "\t 29207790 & 0.0008714415\\\\\n",
       "\t 29207901 & 0.0070123628\\\\\n",
       "\t 29215330 & 0.0001025948\\\\\n",
       "\t 29217500 & 0.0019398344\\\\\n",
       "\t 29218080 & 0.0005639719\\\\\n",
       "\t 29219250 & 0.0004616167\\\\\n",
       "\t 29226090 & 0.0011856865\\\\\n",
       "\t 29229250 & 0.0065483131\\\\\n",
       "\t 29236620 & 0.0003007297\\\\\n",
       "\t 29243631 & 0.0003082786\\\\\n",
       "\t 29247850 & 0.0054234550\\\\\n",
       "\t 29251231 & 0.0060432765\\\\\n",
       "\t 29255740 & 0.0002372950\\\\\n",
       "\t 29257551 & 0.0002833811\\\\\n",
       "\t 29257790 & 0.0002668893\\\\\n",
       "\t 29267141 & 0.0011294002\\\\\n",
       "\t 29274460 & 0.0045369585\\\\\n",
       "\t 29277081 & 0.0032954613\\\\\n",
       "\t 29280480 & 0.0113413938\\\\\n",
       "\t 29280890 & 0.3387266295\\\\\n",
       "\t ⋮ & ⋮\\\\\n",
       "\t 187531190 & 0.022389820\\\\\n",
       "\t 187562010 & 0.001998014\\\\\n",
       "\t 187564290 & 0.009362167\\\\\n",
       "\t 187565870 & 0.001318032\\\\\n",
       "\t 187577510 & 0.008428771\\\\\n",
       "\t 187594641 & 0.005017050\\\\\n",
       "\t 187604521 & 0.010299465\\\\\n",
       "\t 187626041 & 0.013151024\\\\\n",
       "\t 187634060 & 0.001283576\\\\\n",
       "\t 187636041 & 0.004746007\\\\\n",
       "\t 187733830 & 0.005112122\\\\\n",
       "\t 187766810 & 0.001626689\\\\\n",
       "\t 187768040 & 0.016745188\\\\\n",
       "\t 187774590 & 0.008218517\\\\\n",
       "\t 187775060 & 0.003757317\\\\\n",
       "\t 187816050 & 0.012322531\\\\\n",
       "\t 187827511 & 0.006834333\\\\\n",
       "\t 187828510 & 0.018315122\\\\\n",
       "\t 187838971 & 0.017061519\\\\\n",
       "\t 187845820 & 0.023729400\\\\\n",
       "\t 187902361 & 0.026654109\\\\\n",
       "\t 187903010 & 0.021046030\\\\\n",
       "\t 187956461 & 0.035390083\\\\\n",
       "\t 187964701 & 0.022194642\\\\\n",
       "\t 187969270 & 0.017817052\\\\\n",
       "\t 187989740 & 0.021658148\\\\\n",
       "\t 188009390 & 0.020578276\\\\\n",
       "\t 188042080 & 0.019597466\\\\\n",
       "\t 188115120 & 0.018667920\\\\\n",
       "\t 188116871 & 0.001622499\\\\\n",
       "\\end{tabular}\n"
      ],
      "text/markdown": [
       "\n",
       "A data.table: 33094 × 2\n",
       "\n",
       "| numero_de_cliente &lt;int&gt; | prob &lt;dbl&gt; |\n",
       "|---|---|\n",
       "| 29186441 | 0.0016497384 |\n",
       "| 29187730 | 0.0003004764 |\n",
       "| 29187961 | 0.0013586247 |\n",
       "| 29193101 | 0.0003898605 |\n",
       "| 29193281 | 0.0006411095 |\n",
       "| 29198891 | 0.0009682844 |\n",
       "| 29200651 | 0.0118108214 |\n",
       "| 29200770 | 0.0001454802 |\n",
       "| 29201701 | 0.0006340252 |\n",
       "| 29205441 | 0.1771445423 |\n",
       "| 29207790 | 0.0008714415 |\n",
       "| 29207901 | 0.0070123628 |\n",
       "| 29215330 | 0.0001025948 |\n",
       "| 29217500 | 0.0019398344 |\n",
       "| 29218080 | 0.0005639719 |\n",
       "| 29219250 | 0.0004616167 |\n",
       "| 29226090 | 0.0011856865 |\n",
       "| 29229250 | 0.0065483131 |\n",
       "| 29236620 | 0.0003007297 |\n",
       "| 29243631 | 0.0003082786 |\n",
       "| 29247850 | 0.0054234550 |\n",
       "| 29251231 | 0.0060432765 |\n",
       "| 29255740 | 0.0002372950 |\n",
       "| 29257551 | 0.0002833811 |\n",
       "| 29257790 | 0.0002668893 |\n",
       "| 29267141 | 0.0011294002 |\n",
       "| 29274460 | 0.0045369585 |\n",
       "| 29277081 | 0.0032954613 |\n",
       "| 29280480 | 0.0113413938 |\n",
       "| 29280890 | 0.3387266295 |\n",
       "| ⋮ | ⋮ |\n",
       "| 187531190 | 0.022389820 |\n",
       "| 187562010 | 0.001998014 |\n",
       "| 187564290 | 0.009362167 |\n",
       "| 187565870 | 0.001318032 |\n",
       "| 187577510 | 0.008428771 |\n",
       "| 187594641 | 0.005017050 |\n",
       "| 187604521 | 0.010299465 |\n",
       "| 187626041 | 0.013151024 |\n",
       "| 187634060 | 0.001283576 |\n",
       "| 187636041 | 0.004746007 |\n",
       "| 187733830 | 0.005112122 |\n",
       "| 187766810 | 0.001626689 |\n",
       "| 187768040 | 0.016745188 |\n",
       "| 187774590 | 0.008218517 |\n",
       "| 187775060 | 0.003757317 |\n",
       "| 187816050 | 0.012322531 |\n",
       "| 187827511 | 0.006834333 |\n",
       "| 187828510 | 0.018315122 |\n",
       "| 187838971 | 0.017061519 |\n",
       "| 187845820 | 0.023729400 |\n",
       "| 187902361 | 0.026654109 |\n",
       "| 187903010 | 0.021046030 |\n",
       "| 187956461 | 0.035390083 |\n",
       "| 187964701 | 0.022194642 |\n",
       "| 187969270 | 0.017817052 |\n",
       "| 187989740 | 0.021658148 |\n",
       "| 188009390 | 0.020578276 |\n",
       "| 188042080 | 0.019597466 |\n",
       "| 188115120 | 0.018667920 |\n",
       "| 188116871 | 0.001622499 |\n",
       "\n"
      ],
      "text/plain": [
       "      numero_de_cliente prob        \n",
       "1     29186441          0.0016497384\n",
       "2     29187730          0.0003004764\n",
       "3     29187961          0.0013586247\n",
       "4     29193101          0.0003898605\n",
       "5     29193281          0.0006411095\n",
       "6     29198891          0.0009682844\n",
       "7     29200651          0.0118108214\n",
       "8     29200770          0.0001454802\n",
       "9     29201701          0.0006340252\n",
       "10    29205441          0.1771445423\n",
       "11    29207790          0.0008714415\n",
       "12    29207901          0.0070123628\n",
       "13    29215330          0.0001025948\n",
       "14    29217500          0.0019398344\n",
       "15    29218080          0.0005639719\n",
       "16    29219250          0.0004616167\n",
       "17    29226090          0.0011856865\n",
       "18    29229250          0.0065483131\n",
       "19    29236620          0.0003007297\n",
       "20    29243631          0.0003082786\n",
       "21    29247850          0.0054234550\n",
       "22    29251231          0.0060432765\n",
       "23    29255740          0.0002372950\n",
       "24    29257551          0.0002833811\n",
       "25    29257790          0.0002668893\n",
       "26    29267141          0.0011294002\n",
       "27    29274460          0.0045369585\n",
       "28    29277081          0.0032954613\n",
       "29    29280480          0.0113413938\n",
       "30    29280890          0.3387266295\n",
       "⋮     ⋮                 ⋮           \n",
       "33065 187531190         0.022389820 \n",
       "33066 187562010         0.001998014 \n",
       "33067 187564290         0.009362167 \n",
       "33068 187565870         0.001318032 \n",
       "33069 187577510         0.008428771 \n",
       "33070 187594641         0.005017050 \n",
       "33071 187604521         0.010299465 \n",
       "33072 187626041         0.013151024 \n",
       "33073 187634060         0.001283576 \n",
       "33074 187636041         0.004746007 \n",
       "33075 187733830         0.005112122 \n",
       "33076 187766810         0.001626689 \n",
       "33077 187768040         0.016745188 \n",
       "33078 187774590         0.008218517 \n",
       "33079 187775060         0.003757317 \n",
       "33080 187816050         0.012322531 \n",
       "33081 187827511         0.006834333 \n",
       "33082 187828510         0.018315122 \n",
       "33083 187838971         0.017061519 \n",
       "33084 187845820         0.023729400 \n",
       "33085 187902361         0.026654109 \n",
       "33086 187903010         0.021046030 \n",
       "33087 187956461         0.035390083 \n",
       "33088 187964701         0.022194642 \n",
       "33089 187969270         0.017817052 \n",
       "33090 187989740         0.021658148 \n",
       "33091 188009390         0.020578276 \n",
       "33092 188042080         0.019597466 \n",
       "33093 188115120         0.018667920 \n",
       "33094 188116871         0.001622499 "
      ]
     },
     "metadata": {},
     "output_type": "display_data"
    }
   ],
   "source": [
    "tb_prediccion"
   ]
  },
  {
   "cell_type": "markdown",
   "id": "8412d838-5bd5-454e-b3a9-5eaa18d80a50",
   "metadata": {
    "id": "8412d838-5bd5-454e-b3a9-5eaa18d80a50"
   },
   "source": [
    "#### Kaggle Competition Submit"
   ]
  },
  {
   "cell_type": "markdown",
   "id": "55970cb6-856a-46e3-a893-7f36b8352b8e",
   "metadata": {
    "id": "55970cb6-856a-46e3-a893-7f36b8352b8e"
   },
   "source": [
    "Genero las salidas y hago los submits a Kaggle"
   ]
  },
  {
   "cell_type": "code",
   "execution_count": 68,
   "id": "e5fa2439-b0e9-49e0-a861-71d7315d6e1c",
   "metadata": {
    "id": "e5fa2439-b0e9-49e0-a861-71d7315d6e1c",
    "vscode": {
     "languageId": "r"
    }
   },
   "outputs": [
    {
     "name": "stdout",
     "output_type": "stream",
     "text": [
      "Successfully submitted to Data Mining, Analista Jr 2025A \n",
      "Successfully submitted to Data Mining, Analista Jr 2025A \n",
      "Successfully submitted to Data Mining, Analista Jr 2025A \n",
      "Successfully submitted to Data Mining, Analista Jr 2025A \n",
      "Successfully submitted to Data Mining, Analista Jr 2025A \n",
      "Successfully submitted to Data Mining, Analista Jr 2025A \n",
      "Successfully submitted to Data Mining, Analista Jr 2025A \n"
     ]
    }
   ],
   "source": [
    "# genero archivos con los  \"envios\" mejores\n",
    "# suba TODOS los archivos a Kaggle\n",
    "\n",
    "PARAM$kaggle$competencia <- \"data-mining-analista-jr-2025-a\"\n",
    "PARAM$kaggle$cortes <- seq(1800, 2400, by = 100)\n",
    "\n",
    "# ordeno por probabilidad descendente\n",
    "setorder(tb_prediccion, -prob)\n",
    "\n",
    "dir.create(\"kaggle\")\n",
    "\n",
    "for (envios in PARAM$kaggle$cortes) {\n",
    "\n",
    "  tb_prediccion[, Predicted := 0L] # seteo inicial a 0\n",
    "  tb_prediccion[1:envios, Predicted := 1L] # marclo los primeros\n",
    "\n",
    "  #archivo_kaggle <- paste0(\"./kaggle/KA\", PARAM$experimento, \"_\", envios, \".csv\")\n",
    "\n",
    "  archivo_kaggle <- paste0(\n",
    "    \"./kaggle/KA\",\n",
    "    PARAM$experimento, \"_\",\n",
    "    \"S\", length(PARAM$semilla_primigenia), \"_\",\n",
    "    envios, \".csv\")\n",
    "\n",
    "  # grabo el archivo\n",
    "  fwrite(tb_prediccion[, list(numero_de_cliente, Predicted)],\n",
    "    file= archivo_kaggle,\n",
    "    sep= \",\"\n",
    "  )\n",
    "\n",
    "  # subida a Kaggle, armo la linea de comando\n",
    "  comando <- \"kaggle competitions submit\"\n",
    "  competencia <- paste(\"-c\", PARAM$kaggle$competencia)\n",
    "  arch <- paste( \"-f\", archivo_kaggle)\n",
    "\n",
    "  mensaje <- paste0(\"-m 'envios=\", envios,\n",
    "  \"  semilla=\", PARAM$semilla_primigenia,\n",
    "    \"'\" )\n",
    "\n",
    "  linea <- paste( comando, competencia, arch, mensaje)\n",
    "\n",
    "  salida <- system(linea, intern=TRUE) # el submit a Kaggle\n",
    "  cat(salida, \"\\n\")\n",
    "}"
   ]
  },
  {
   "cell_type": "code",
   "execution_count": 69,
   "id": "C94tK-xid6p2",
   "metadata": {
    "id": "C94tK-xid6p2",
    "vscode": {
     "languageId": "r"
    }
   },
   "outputs": [
    {
     "name": "stderr",
     "output_type": "stream",
     "text": [
      "Loading required package: yaml\n",
      "\n"
     ]
    }
   ],
   "source": [
    "# grabo los parametros\n",
    "if( !require(\"yaml\")) install.packages(\"yaml\")\n",
    "require(\"yaml\")\n",
    "\n",
    "write_yaml( PARAM, file=\"PARAM.yml\")"
   ]
  },
  {
   "cell_type": "code",
   "execution_count": 70,
   "id": "1b615a62-20cc-4e95-9af2-6b6db38d5efb",
   "metadata": {
    "id": "1b615a62-20cc-4e95-9af2-6b6db38d5efb",
    "vscode": {
     "languageId": "r"
    }
   },
   "outputs": [
    {
     "data": {
      "text/html": [
       "'Fri Aug 15 18:09:52 2025'"
      ],
      "text/latex": [
       "'Fri Aug 15 18:09:52 2025'"
      ],
      "text/markdown": [
       "'Fri Aug 15 18:09:52 2025'"
      ],
      "text/plain": [
       "[1] \"Fri Aug 15 18:09:52 2025\""
      ]
     },
     "metadata": {},
     "output_type": "display_data"
    }
   ],
   "source": [
    "format(Sys.time(), \"%a %b %d %X %Y\")"
   ]
  },
  {
   "cell_type": "markdown",
   "id": "93736537-4d44-49ca-acbb-462c46914f86",
   "metadata": {},
   "source": [
    "#### Semillerio"
   ]
  },
  {
   "cell_type": "code",
   "execution_count": 129,
   "id": "585f9b0d-dbfe-428b-bfbf-e4e828243d4b",
   "metadata": {
    "vscode": {
     "languageId": "r"
    }
   },
   "outputs": [],
   "source": [
    "PARAM$FT$semillerio <- 20   # cantidad de semillas"
   ]
  },
  {
   "cell_type": "code",
   "execution_count": 130,
   "id": "543e52dd-13b8-4445-8ec8-3a268f0cfd4a",
   "metadata": {
    "vscode": {
     "languageId": "r"
    }
   },
   "outputs": [],
   "source": [
    "if(!require(\"primes\")) install.packages(\"primes\")\n",
    "require(\"primes\")\n"
   ]
  },
  {
   "cell_type": "code",
   "execution_count": 131,
   "id": "bb364600-03ac-4606-895e-472cd032960c",
   "metadata": {
    "vscode": {
     "languageId": "r"
    }
   },
   "outputs": [
    {
     "name": "stdout",
     "output_type": "stream",
     "text": [
      "602621 398969 446197 533593 975691 790649 465743 473741 598487 216421 625181 681607 681049 680203 354247 597581 332467 350453 495973 770447"
     ]
    }
   ],
   "source": [
    "primos <- generate_primes(min = 100000, max = 1000000)\n",
    "set.seed(PARAM$semilla_primigenia, kind = \"L'Ecuyer-CMRG\")\n",
    "# me quedo con PARAM$semillerio  primos al azar\n",
    "PARAM$FT$semillas <- sample(primos)[seq(PARAM$FT$semillerio)]\n",
    "\n",
    "cat(PARAM$FT$semillas)\n",
    "\n",
    "#Si queremos usar nuestras poropias semillas:\n",
    "\n",
    "#PARAM$FT$semillas <- c(100183, 250007, 500009, 750011, 999979) \n",
    "\n",
    "#PARAM$FT$semillas <- c(100183, 250007) "
   ]
  },
  {
   "cell_type": "code",
   "execution_count": 132,
   "id": "e30308b9-4373-42f2-ba6c-056bc7d3a2f0",
   "metadata": {
    "vscode": {
     "languageId": "r"
    }
   },
   "outputs": [
    {
     "name": "stdout",
     "output_type": "stream",
     "text": [
      "[1] 602621\n",
      "[1] 398969\n",
      "[1] 446197\n",
      "[1] 533593\n",
      "[1] 975691\n",
      "[1] 790649\n",
      "[1] 465743\n",
      "[1] 473741\n",
      "[1] 598487\n",
      "[1] 216421\n",
      "[1] 625181\n",
      "[1] 681607\n",
      "[1] 681049\n",
      "[1] 680203\n",
      "[1] 354247\n",
      "[1] 597581\n",
      "[1] 332467\n",
      "[1] 350453\n",
      "[1] 495973\n",
      "[1] 770447\n"
     ]
    }
   ],
   "source": [
    "dir.create(\"modelos\", showWarnings =FALSE)\n",
    "\n",
    "primero <- TRUE\n",
    "for( sem in PARAM$FT$semillas)\n",
    "{ print(sem)\n",
    "  nombre_arch <- paste0( \"./modelos/modelo_\", sem, \".txt\")\n",
    "  if( !file.exists(nombre_arch) )\n",
    "  {\n",
    "    param_final$seed <- sem\n",
    "\n",
    "    set.seed(sem, kind = \"L'Ecuyer-CMRG\")\n",
    "    final_model <- lgb.train(\n",
    "      data= dfinal_train,\n",
    "      param= param_final,\n",
    "      verbose= -100\n",
    "    )\n",
    "\n",
    "    lgb.save(final_model, nombre_arch) # grabo el modelo\"\n",
    "\n",
    "    if( primero)\n",
    "      \n",
    "    {\n",
    "      primero <- FALSE\n",
    "      tb_importancia <- as.data.table(lgb.importance(final_model))\n",
    "      archivo_importancia <- \"impo.txt\"\n",
    "\n",
    "      fwrite( tb_importancia,\n",
    "        file= archivo_importancia,\n",
    "        sep= \"\\t\"\n",
    "      )\n",
    "    }\n",
    " }\n",
    "}"
   ]
  },
  {
   "cell_type": "markdown",
   "id": "eb1e87fe-b45d-4afe-8436-c030868b754c",
   "metadata": {},
   "source": [
    "#### Scoring Semillerio"
   ]
  },
  {
   "cell_type": "code",
   "execution_count": 2,
   "id": "6244045d-796c-4dc2-a2ac-555572448271",
   "metadata": {
    "vscode": {
     "languageId": "r"
    }
   },
   "outputs": [
    {
     "ename": "ERROR",
     "evalue": "Error: object 'PARAM' not found\n",
     "output_type": "error",
     "traceback": [
      "Error: object 'PARAM' not found\nTraceback:\n"
     ]
    }
   ],
   "source": [
    "PARAM$trainingstrategy$future <- c(202109)\n",
    "\n",
    "dfuture <- dataset[ foto_mes %in% PARAM$trainingstrategy$future ]"
   ]
  },
  {
   "cell_type": "code",
   "execution_count": 1,
   "id": "47c6f7f3-2a9e-4bc8-b510-38a4acaa4bdd",
   "metadata": {
    "vscode": {
     "languageId": "r"
    }
   },
   "outputs": [
    {
     "ename": "ERROR",
     "evalue": "Error: object 'dfuture' not found\n",
     "output_type": "error",
     "traceback": [
      "Error: object 'dfuture' not found\nTraceback:\n"
     ]
    }
   ],
   "source": [
    "# aplico final_model   a dfuture \n",
    "\n",
    "tb_prediccion <- dfuture[, list(numero_de_cliente)]\n",
    "tb_prediccion[, prob := 0]\n",
    "\n",
    "datos_matrix <- data.matrix(dfuture[, campos_buenos, with= FALSE])\n",
    "\n",
    "\n",
    "for( isem in seq(length(PARAM$FT$semillas)) )\n",
    "{\n",
    "   sem <- PARAM$FT$semillas[ isem ]\n",
    "   nombre_arch <- paste0( \"./modelos/modelo_\", sem, \".txt\")\n",
    "   final_model <- lgb.load(nombre_arch)\n",
    "\n",
    "   prediccion <- predict(\n",
    "     final_model,\n",
    "     datos_matrix\n",
    "  )\n",
    "\n",
    "  tb_prediccion[, paste0(\"prob_\", isem) := prediccion]\n",
    "  tb_prediccion[, prob := prob + prediccion]\n",
    "\n",
    "  rm(final_model)\n",
    "  rm(prediccion)\n",
    "  gc(full = TRUE, verbose=FALSE)\n",
    "}\n",
    "\n",
    "rm( datos_matrix)\n",
    "gc(full = TRUE, verbose=FALSE)\n",
    "\n",
    "tb_prediccion[, prob := prob /length(PARAM$FT$semillas) ]\n",
    "\n"
   ]
  },
  {
   "cell_type": "code",
   "execution_count": 135,
   "id": "61f82cc5-dcfc-458e-87a5-239116543fdb",
   "metadata": {
    "vscode": {
     "languageId": "r"
    }
   },
   "outputs": [
    {
     "data": {
      "text/html": [
       "<table class=\"dataframe\">\n",
       "<caption>A data.table: 33094 × 22</caption>\n",
       "<thead>\n",
       "\t<tr><th scope=col>numero_de_cliente</th><th scope=col>prob</th><th scope=col>prob_1</th><th scope=col>prob_2</th><th scope=col>prob_3</th><th scope=col>prob_4</th><th scope=col>prob_5</th><th scope=col>prob_6</th><th scope=col>prob_7</th><th scope=col>prob_8</th><th scope=col>⋯</th><th scope=col>prob_11</th><th scope=col>prob_12</th><th scope=col>prob_13</th><th scope=col>prob_14</th><th scope=col>prob_15</th><th scope=col>prob_16</th><th scope=col>prob_17</th><th scope=col>prob_18</th><th scope=col>prob_19</th><th scope=col>prob_20</th></tr>\n",
       "\t<tr><th scope=col>&lt;int&gt;</th><th scope=col>&lt;dbl&gt;</th><th scope=col>&lt;dbl&gt;</th><th scope=col>&lt;dbl&gt;</th><th scope=col>&lt;dbl&gt;</th><th scope=col>&lt;dbl&gt;</th><th scope=col>&lt;dbl&gt;</th><th scope=col>&lt;dbl&gt;</th><th scope=col>&lt;dbl&gt;</th><th scope=col>&lt;dbl&gt;</th><th scope=col>⋯</th><th scope=col>&lt;dbl&gt;</th><th scope=col>&lt;dbl&gt;</th><th scope=col>&lt;dbl&gt;</th><th scope=col>&lt;dbl&gt;</th><th scope=col>&lt;dbl&gt;</th><th scope=col>&lt;dbl&gt;</th><th scope=col>&lt;dbl&gt;</th><th scope=col>&lt;dbl&gt;</th><th scope=col>&lt;dbl&gt;</th><th scope=col>&lt;dbl&gt;</th></tr>\n",
       "</thead>\n",
       "<tbody>\n",
       "\t<tr><td>29186441</td><td>0.0014399932</td><td>0.0013913343</td><td>0.0016599631</td><td>0.0011416735</td><td>0.0013012665</td><td>0.0015167213</td><td>0.0014476383</td><td>0.0014740846</td><td>0.0012759120</td><td>⋯</td><td>0.0018167931</td><td>0.0012599845</td><td>0.0012799865</td><td>0.0016630030</td><td>0.0015643806</td><td>0.0016625495</td><td>1.511279e-03</td><td>0.0015399344</td><td>1.564171e-03</td><td>0.0010772615</td></tr>\n",
       "\t<tr><td>29187730</td><td>0.0003225847</td><td>0.0003455120</td><td>0.0002708392</td><td>0.0003624873</td><td>0.0002516304</td><td>0.0002708674</td><td>0.0003509250</td><td>0.0003182133</td><td>0.0003184386</td><td>⋯</td><td>0.0002971863</td><td>0.0003088992</td><td>0.0003161094</td><td>0.0004408312</td><td>0.0003349258</td><td>0.0003556092</td><td>2.120765e-04</td><td>0.0003183228</td><td>3.560553e-04</td><td>0.0003211705</td></tr>\n",
       "\t<tr><td>29187961</td><td>0.0018245424</td><td>0.0018125185</td><td>0.0022524221</td><td>0.0022983995</td><td>0.0013149787</td><td>0.0014725475</td><td>0.0020650892</td><td>0.0019305962</td><td>0.0015667493</td><td>⋯</td><td>0.0017920075</td><td>0.0018495411</td><td>0.0016957570</td><td>0.0017865177</td><td>0.0021527256</td><td>0.0017737964</td><td>2.018330e-03</td><td>0.0018384441</td><td>1.742316e-03</td><td>0.0019531392</td></tr>\n",
       "\t<tr><td>29193101</td><td>0.0004787530</td><td>0.0004545528</td><td>0.0005400424</td><td>0.0006161813</td><td>0.0005250889</td><td>0.0004915197</td><td>0.0004307528</td><td>0.0005748957</td><td>0.0004412289</td><td>⋯</td><td>0.0004030491</td><td>0.0004754830</td><td>0.0004347346</td><td>0.0004381273</td><td>0.0005466449</td><td>0.0005115025</td><td>4.325808e-04</td><td>0.0004187798</td><td>4.419583e-04</td><td>0.0005215441</td></tr>\n",
       "\t<tr><td>29193281</td><td>0.0007251824</td><td>0.0006060588</td><td>0.0006437478</td><td>0.0006586358</td><td>0.0007205255</td><td>0.0008174601</td><td>0.0007082007</td><td>0.0006504329</td><td>0.0012871027</td><td>⋯</td><td>0.0006599756</td><td>0.0006241963</td><td>0.0007168716</td><td>0.0007865607</td><td>0.0008144867</td><td>0.0007319280</td><td>6.927174e-04</td><td>0.0006198003</td><td>8.024320e-04</td><td>0.0005314469</td></tr>\n",
       "\t<tr><td>29198891</td><td>0.0009268414</td><td>0.0012569776</td><td>0.0009895930</td><td>0.0007979259</td><td>0.0006811363</td><td>0.0010644189</td><td>0.0007278089</td><td>0.0007993632</td><td>0.0007351704</td><td>⋯</td><td>0.0008484317</td><td>0.0007869625</td><td>0.0011041526</td><td>0.0008428205</td><td>0.0010331952</td><td>0.0009051355</td><td>1.067672e-03</td><td>0.0008870254</td><td>1.042093e-03</td><td>0.0010031927</td></tr>\n",
       "\t<tr><td>29200651</td><td>0.0162376773</td><td>0.0161511969</td><td>0.0136231189</td><td>0.0141621262</td><td>0.0143693199</td><td>0.0183003763</td><td>0.0165067595</td><td>0.0217874191</td><td>0.0150976115</td><td>⋯</td><td>0.0147833250</td><td>0.0183511698</td><td>0.0162181329</td><td>0.0136912022</td><td>0.0166885860</td><td>0.0193372131</td><td>1.746140e-02</td><td>0.0128955432</td><td>1.599483e-02</td><td>0.0155028532</td></tr>\n",
       "\t<tr><td>29200770</td><td>0.0001439586</td><td>0.0001494687</td><td>0.0001347470</td><td>0.0001657924</td><td>0.0001224950</td><td>0.0001262426</td><td>0.0001445371</td><td>0.0001346464</td><td>0.0001388233</td><td>⋯</td><td>0.0001505826</td><td>0.0001569382</td><td>0.0001454611</td><td>0.0001411944</td><td>0.0001608207</td><td>0.0001242358</td><td>1.694988e-04</td><td>0.0001653810</td><td>1.394800e-04</td><td>0.0001288118</td></tr>\n",
       "\t<tr><td>29201701</td><td>0.0005924317</td><td>0.0005572752</td><td>0.0006525586</td><td>0.0005210445</td><td>0.0007248694</td><td>0.0006643767</td><td>0.0006041150</td><td>0.0005531619</td><td>0.0007917974</td><td>⋯</td><td>0.0005667980</td><td>0.0005406244</td><td>0.0005640574</td><td>0.0005533213</td><td>0.0005809204</td><td>0.0006451090</td><td>5.943579e-04</td><td>0.0005120577</td><td>6.171063e-04</td><td>0.0005359635</td></tr>\n",
       "\t<tr><td>29205441</td><td>0.1987500446</td><td>0.1797980557</td><td>0.2386330025</td><td>0.1886089446</td><td>0.1840692766</td><td>0.1889533432</td><td>0.2126067099</td><td>0.1744427074</td><td>0.2248465230</td><td>⋯</td><td>0.1694207679</td><td>0.1810124565</td><td>0.2235062902</td><td>0.2269210697</td><td>0.1961550508</td><td>0.1699855641</td><td>1.852834e-01</td><td>0.1901774613</td><td>2.071170e-01</td><td>0.2292918199</td></tr>\n",
       "\t<tr><td>29207790</td><td>0.0010699910</td><td>0.0010526838</td><td>0.0009495873</td><td>0.0010896368</td><td>0.0013772818</td><td>0.0010083247</td><td>0.0008026572</td><td>0.0013267825</td><td>0.0012825811</td><td>⋯</td><td>0.0009741795</td><td>0.0010533438</td><td>0.0013531345</td><td>0.0008477569</td><td>0.0012261631</td><td>0.0008127637</td><td>1.094136e-03</td><td>0.0008644713</td><td>1.351151e-03</td><td>0.0010083812</td></tr>\n",
       "\t<tr><td>29207901</td><td>0.0061462818</td><td>0.0068620430</td><td>0.0043745421</td><td>0.0068835415</td><td>0.0062813943</td><td>0.0062675000</td><td>0.0058789430</td><td>0.0061974317</td><td>0.0069793033</td><td>⋯</td><td>0.0050572323</td><td>0.0064288105</td><td>0.0085903566</td><td>0.0056797659</td><td>0.0077887755</td><td>0.0055504122</td><td>5.581396e-03</td><td>0.0064259582</td><td>5.669525e-03</td><td>0.0062529009</td></tr>\n",
       "\t<tr><td>29215330</td><td>0.0001191545</td><td>0.0001151436</td><td>0.0001039741</td><td>0.0001221315</td><td>0.0001291108</td><td>0.0001055285</td><td>0.0001525622</td><td>0.0001487107</td><td>0.0001211984</td><td>⋯</td><td>0.0001291960</td><td>0.0001177080</td><td>0.0001254041</td><td>0.0001442492</td><td>0.0001345308</td><td>0.0001159397</td><td>9.632669e-05</td><td>0.0001038189</td><td>8.925995e-05</td><td>0.0001045125</td></tr>\n",
       "\t<tr><td>29217500</td><td>0.0015921678</td><td>0.0015937283</td><td>0.0015187204</td><td>0.0014358066</td><td>0.0013983117</td><td>0.0016088388</td><td>0.0012203256</td><td>0.0015862199</td><td>0.0015564297</td><td>⋯</td><td>0.0017367344</td><td>0.0013909080</td><td>0.0015186875</td><td>0.0018695044</td><td>0.0019387182</td><td>0.0015336441</td><td>1.733782e-03</td><td>0.0014066857</td><td>1.654160e-03</td><td>0.0018347014</td></tr>\n",
       "\t<tr><td>29218080</td><td>0.0005071560</td><td>0.0005245619</td><td>0.0004443526</td><td>0.0005760295</td><td>0.0005003998</td><td>0.0004549376</td><td>0.0005441795</td><td>0.0005471427</td><td>0.0004878257</td><td>⋯</td><td>0.0006652047</td><td>0.0004126585</td><td>0.0004624554</td><td>0.0004485739</td><td>0.0004589844</td><td>0.0005470790</td><td>4.730627e-04</td><td>0.0005605599</td><td>5.377857e-04</td><td>0.0004377133</td></tr>\n",
       "\t<tr><td>29219250</td><td>0.0004844503</td><td>0.0004602622</td><td>0.0005300576</td><td>0.0005322738</td><td>0.0005284932</td><td>0.0004989226</td><td>0.0004110432</td><td>0.0004728332</td><td>0.0004812110</td><td>⋯</td><td>0.0005387920</td><td>0.0005028914</td><td>0.0004247748</td><td>0.0005056519</td><td>0.0004620590</td><td>0.0004947948</td><td>4.966184e-04</td><td>0.0004756725</td><td>5.050332e-04</td><td>0.0004460859</td></tr>\n",
       "\t<tr><td>29226090</td><td>0.0010677498</td><td>0.0008403901</td><td>0.0011281791</td><td>0.0009325908</td><td>0.0015226863</td><td>0.0009971564</td><td>0.0015401911</td><td>0.0012467010</td><td>0.0010698462</td><td>⋯</td><td>0.0007553333</td><td>0.0009122285</td><td>0.0008341099</td><td>0.0009778889</td><td>0.0014406557</td><td>0.0007635215</td><td>1.048320e-03</td><td>0.0008912614</td><td>1.444043e-03</td><td>0.0007098094</td></tr>\n",
       "\t<tr><td>29229250</td><td>0.0063722579</td><td>0.0071353228</td><td>0.0073331081</td><td>0.0049407703</td><td>0.0079212354</td><td>0.0069611152</td><td>0.0065887098</td><td>0.0068320925</td><td>0.0060479243</td><td>⋯</td><td>0.0069675984</td><td>0.0053693143</td><td>0.0060703604</td><td>0.0072971904</td><td>0.0062589397</td><td>0.0067783188</td><td>5.874588e-03</td><td>0.0067584466</td><td>4.376448e-03</td><td>0.0060225378</td></tr>\n",
       "\t<tr><td>29236620</td><td>0.0003241553</td><td>0.0003132857</td><td>0.0003181554</td><td>0.0003616684</td><td>0.0003997163</td><td>0.0003183354</td><td>0.0003492099</td><td>0.0003065631</td><td>0.0002764522</td><td>⋯</td><td>0.0003144077</td><td>0.0003501098</td><td>0.0003223892</td><td>0.0003102340</td><td>0.0003617667</td><td>0.0003167949</td><td>3.557767e-04</td><td>0.0003326600</td><td>3.208038e-04</td><td>0.0002731703</td></tr>\n",
       "\t<tr><td>29243631</td><td>0.0003282965</td><td>0.0002914949</td><td>0.0003929475</td><td>0.0003249147</td><td>0.0003461593</td><td>0.0003437015</td><td>0.0002725728</td><td>0.0002960093</td><td>0.0003172131</td><td>⋯</td><td>0.0003587444</td><td>0.0003660775</td><td>0.0003418081</td><td>0.0003056276</td><td>0.0003836920</td><td>0.0003453711</td><td>2.877058e-04</td><td>0.0003053008</td><td>3.224844e-04</td><td>0.0002921525</td></tr>\n",
       "\t<tr><td>29247850</td><td>0.0060085304</td><td>0.0067611882</td><td>0.0060430183</td><td>0.0061277912</td><td>0.0070133132</td><td>0.0056750897</td><td>0.0074992519</td><td>0.0052400027</td><td>0.0062825231</td><td>⋯</td><td>0.0050414279</td><td>0.0053118288</td><td>0.0069934309</td><td>0.0076590222</td><td>0.0048547517</td><td>0.0069399628</td><td>5.694146e-03</td><td>0.0046115878</td><td>4.904583e-03</td><td>0.0062477162</td></tr>\n",
       "\t<tr><td>29251231</td><td>0.0084712583</td><td>0.0065733516</td><td>0.0099892468</td><td>0.0106299668</td><td>0.0108114467</td><td>0.0084385398</td><td>0.0085479569</td><td>0.0084844277</td><td>0.0098454950</td><td>⋯</td><td>0.0071879150</td><td>0.0092495662</td><td>0.0095970386</td><td>0.0066029102</td><td>0.0061757808</td><td>0.0067283578</td><td>8.297597e-03</td><td>0.0075295835</td><td>9.584266e-03</td><td>0.0092602407</td></tr>\n",
       "\t<tr><td>29255740</td><td>0.0002867599</td><td>0.0002767331</td><td>0.0002377083</td><td>0.0002823631</td><td>0.0002464475</td><td>0.0002970773</td><td>0.0002646630</td><td>0.0003229133</td><td>0.0002405900</td><td>⋯</td><td>0.0003111758</td><td>0.0003187258</td><td>0.0003024042</td><td>0.0003333055</td><td>0.0002987162</td><td>0.0002964456</td><td>2.664892e-04</td><td>0.0002927472</td><td>2.377779e-04</td><td>0.0003402305</td></tr>\n",
       "\t<tr><td>29257551</td><td>0.0004035163</td><td>0.0003374813</td><td>0.0003173774</td><td>0.0004486181</td><td>0.0003892747</td><td>0.0003827852</td><td>0.0004707883</td><td>0.0003556297</td><td>0.0004309306</td><td>⋯</td><td>0.0004037435</td><td>0.0003323814</td><td>0.0003538159</td><td>0.0003565927</td><td>0.0004246419</td><td>0.0005154047</td><td>3.596281e-04</td><td>0.0004933132</td><td>3.365570e-04</td><td>0.0003824838</td></tr>\n",
       "\t<tr><td>29257790</td><td>0.0002803050</td><td>0.0002659920</td><td>0.0002859679</td><td>0.0002895216</td><td>0.0002474409</td><td>0.0002610996</td><td>0.0002788290</td><td>0.0002747142</td><td>0.0003126080</td><td>⋯</td><td>0.0002580887</td><td>0.0002808996</td><td>0.0003179364</td><td>0.0002824079</td><td>0.0003314695</td><td>0.0002517669</td><td>2.958334e-04</td><td>0.0002301081</td><td>2.722651e-04</td><td>0.0002911930</td></tr>\n",
       "\t<tr><td>29267141</td><td>0.0009463755</td><td>0.0006744073</td><td>0.0010672886</td><td>0.0009135921</td><td>0.0006694493</td><td>0.0011325338</td><td>0.0014704850</td><td>0.0010737518</td><td>0.0010513434</td><td>⋯</td><td>0.0009486936</td><td>0.0007911062</td><td>0.0007076986</td><td>0.0008398342</td><td>0.0010031548</td><td>0.0009706530</td><td>8.064684e-04</td><td>0.0009389547</td><td>9.940591e-04</td><td>0.0009568776</td></tr>\n",
       "\t<tr><td>29274460</td><td>0.0037958093</td><td>0.0045623273</td><td>0.0045928442</td><td>0.0033708626</td><td>0.0038392714</td><td>0.0036825122</td><td>0.0043501455</td><td>0.0035963808</td><td>0.0037942778</td><td>⋯</td><td>0.0033277282</td><td>0.0027975626</td><td>0.0032057623</td><td>0.0041131564</td><td>0.0032867718</td><td>0.0042022164</td><td>3.736913e-03</td><td>0.0035117122</td><td>4.004401e-03</td><td>0.0045239595</td></tr>\n",
       "\t<tr><td>29277081</td><td>0.0032119394</td><td>0.0034386118</td><td>0.0032936653</td><td>0.0029874942</td><td>0.0038131651</td><td>0.0026855974</td><td>0.0031196537</td><td>0.0031503589</td><td>0.0029804941</td><td>⋯</td><td>0.0034244942</td><td>0.0029032799</td><td>0.0034720842</td><td>0.0031326851</td><td>0.0034236820</td><td>0.0028097845</td><td>2.814211e-03</td><td>0.0034031215</td><td>2.965960e-03</td><td>0.0032422186</td></tr>\n",
       "\t<tr><td>29280480</td><td>0.0084820544</td><td>0.0077258669</td><td>0.0092759304</td><td>0.0094119773</td><td>0.0077541713</td><td>0.0069373210</td><td>0.0089052360</td><td>0.0085204872</td><td>0.0074955040</td><td>⋯</td><td>0.0089152580</td><td>0.0094471574</td><td>0.0104493764</td><td>0.0074787359</td><td>0.0076526649</td><td>0.0070397895</td><td>9.651061e-03</td><td>0.0084314583</td><td>8.252671e-03</td><td>0.0078724670</td></tr>\n",
       "\t<tr><td>29280890</td><td>0.3473743929</td><td>0.3496515353</td><td>0.3392310871</td><td>0.3119986758</td><td>0.3736412352</td><td>0.3446017045</td><td>0.3511918178</td><td>0.3488305369</td><td>0.2905613981</td><td>⋯</td><td>0.3723735991</td><td>0.3799960372</td><td>0.3274804094</td><td>0.3516677398</td><td>0.3720339667</td><td>0.3659570241</td><td>3.765448e-01</td><td>0.3333742748</td><td>3.475647e-01</td><td>0.3404139113</td></tr>\n",
       "\t<tr><td>⋮</td><td>⋮</td><td>⋮</td><td>⋮</td><td>⋮</td><td>⋮</td><td>⋮</td><td>⋮</td><td>⋮</td><td>⋮</td><td>⋱</td><td>⋮</td><td>⋮</td><td>⋮</td><td>⋮</td><td>⋮</td><td>⋮</td><td>⋮</td><td>⋮</td><td>⋮</td><td>⋮</td></tr>\n",
       "\t<tr><td>187531190</td><td>0.022823457</td><td>0.0241167702</td><td>0.021893524</td><td>0.028272425</td><td>0.0199559154</td><td>0.022458722</td><td>0.020822584</td><td>0.0243654473</td><td>0.023554210</td><td>⋯</td><td>0.0227765150</td><td>0.0236346802</td><td>0.0223147526</td><td>0.025544525</td><td>0.0234195808</td><td>0.022247699</td><td>0.023544354</td><td>0.0214529776</td><td>0.022281260</td><td>0.027270872</td></tr>\n",
       "\t<tr><td>187562010</td><td>0.001810916</td><td>0.0012461884</td><td>0.001539972</td><td>0.001920147</td><td>0.0018187912</td><td>0.001849968</td><td>0.001657701</td><td>0.0021883121</td><td>0.002257105</td><td>⋯</td><td>0.0015905917</td><td>0.0014981632</td><td>0.0014669410</td><td>0.001973310</td><td>0.0018185386</td><td>0.002075264</td><td>0.002326113</td><td>0.0012769525</td><td>0.001816924</td><td>0.001549784</td></tr>\n",
       "\t<tr><td>187564290</td><td>0.010776229</td><td>0.0108911257</td><td>0.011429758</td><td>0.011476364</td><td>0.0096055037</td><td>0.011251251</td><td>0.009079227</td><td>0.0119034091</td><td>0.011507011</td><td>⋯</td><td>0.0109196032</td><td>0.0098533870</td><td>0.0099673438</td><td>0.011463573</td><td>0.0095368564</td><td>0.011507576</td><td>0.012207204</td><td>0.0090039790</td><td>0.012408396</td><td>0.009430290</td></tr>\n",
       "\t<tr><td>187565870</td><td>0.001241796</td><td>0.0009544942</td><td>0.001210768</td><td>0.001527123</td><td>0.0009644806</td><td>0.001338351</td><td>0.001292461</td><td>0.0011503312</td><td>0.001248799</td><td>⋯</td><td>0.0011241200</td><td>0.0011924542</td><td>0.0011588800</td><td>0.001349731</td><td>0.0010590636</td><td>0.001410046</td><td>0.001265865</td><td>0.0012577512</td><td>0.001204264</td><td>0.001584022</td></tr>\n",
       "\t<tr><td>187577510</td><td>0.008368785</td><td>0.0080025776</td><td>0.008054451</td><td>0.008477526</td><td>0.0078048336</td><td>0.007687381</td><td>0.009410974</td><td>0.0083295042</td><td>0.008882137</td><td>⋯</td><td>0.0092904974</td><td>0.0089165808</td><td>0.0088570787</td><td>0.008627314</td><td>0.0081917288</td><td>0.007419852</td><td>0.008973582</td><td>0.0078679094</td><td>0.007116068</td><td>0.009741456</td></tr>\n",
       "\t<tr><td>187594641</td><td>0.004019309</td><td>0.0034302640</td><td>0.003611257</td><td>0.004815905</td><td>0.0039446698</td><td>0.003959878</td><td>0.004206203</td><td>0.0043437300</td><td>0.005057601</td><td>⋯</td><td>0.0047755456</td><td>0.0030561310</td><td>0.0031001543</td><td>0.004327066</td><td>0.0039187704</td><td>0.003479927</td><td>0.005399449</td><td>0.0033857530</td><td>0.003746913</td><td>0.004107335</td></tr>\n",
       "\t<tr><td>187604521</td><td>0.011380218</td><td>0.0112150490</td><td>0.009363204</td><td>0.011774277</td><td>0.0099488786</td><td>0.013675943</td><td>0.012314951</td><td>0.0131340068</td><td>0.011968488</td><td>⋯</td><td>0.0111244558</td><td>0.0124192392</td><td>0.0108750895</td><td>0.011257521</td><td>0.0140170236</td><td>0.009884367</td><td>0.011247790</td><td>0.0096468769</td><td>0.011612758</td><td>0.012253521</td></tr>\n",
       "\t<tr><td>187626041</td><td>0.013692895</td><td>0.0120590025</td><td>0.014880849</td><td>0.012921375</td><td>0.0126902355</td><td>0.014005806</td><td>0.011293276</td><td>0.0165209755</td><td>0.017431540</td><td>⋯</td><td>0.0118516795</td><td>0.0154176700</td><td>0.0138090997</td><td>0.014333009</td><td>0.0136740318</td><td>0.013495718</td><td>0.014375383</td><td>0.0134799962</td><td>0.015049246</td><td>0.014074426</td></tr>\n",
       "\t<tr><td>187634060</td><td>0.001061275</td><td>0.0008947242</td><td>0.001107943</td><td>0.001314985</td><td>0.0010472098</td><td>0.001090313</td><td>0.001194846</td><td>0.0009863045</td><td>0.001129349</td><td>⋯</td><td>0.0009638201</td><td>0.0009982168</td><td>0.0008806948</td><td>0.001171454</td><td>0.0009663734</td><td>0.001042361</td><td>0.001026445</td><td>0.0009339531</td><td>0.001266871</td><td>0.001154877</td></tr>\n",
       "\t<tr><td>187636041</td><td>0.003368569</td><td>0.0033381934</td><td>0.003015978</td><td>0.004415425</td><td>0.0024577771</td><td>0.002661276</td><td>0.003603773</td><td>0.0035987338</td><td>0.003010025</td><td>⋯</td><td>0.0037425652</td><td>0.0044198585</td><td>0.0020264113</td><td>0.002953364</td><td>0.0028896470</td><td>0.003601296</td><td>0.002484661</td><td>0.0028764301</td><td>0.003799967</td><td>0.006174174</td></tr>\n",
       "\t<tr><td>187733830</td><td>0.005776098</td><td>0.0047424972</td><td>0.005015142</td><td>0.005522777</td><td>0.0040463479</td><td>0.008074043</td><td>0.005664164</td><td>0.0057429498</td><td>0.006057849</td><td>⋯</td><td>0.0055625396</td><td>0.0071083869</td><td>0.0063192868</td><td>0.006228041</td><td>0.0062559958</td><td>0.005376373</td><td>0.007621000</td><td>0.0056594941</td><td>0.005299737</td><td>0.005142228</td></tr>\n",
       "\t<tr><td>187766810</td><td>0.001392126</td><td>0.0011063288</td><td>0.001161751</td><td>0.001646262</td><td>0.0011767272</td><td>0.001592563</td><td>0.001396309</td><td>0.0015576148</td><td>0.001393006</td><td>⋯</td><td>0.0012415791</td><td>0.0011528626</td><td>0.0012756130</td><td>0.001414311</td><td>0.0012134006</td><td>0.001548469</td><td>0.001438213</td><td>0.0012818152</td><td>0.001562289</td><td>0.001849451</td></tr>\n",
       "\t<tr><td>187768040</td><td>0.018370597</td><td>0.0190120284</td><td>0.018150556</td><td>0.020545327</td><td>0.0175595352</td><td>0.018642448</td><td>0.016179213</td><td>0.0207390331</td><td>0.019460821</td><td>⋯</td><td>0.0194926792</td><td>0.0188998822</td><td>0.0180404528</td><td>0.020797743</td><td>0.0188704749</td><td>0.016948944</td><td>0.019156041</td><td>0.0169724320</td><td>0.018222466</td><td>0.018126598</td></tr>\n",
       "\t<tr><td>187774590</td><td>0.007468451</td><td>0.0076410443</td><td>0.006251744</td><td>0.009253700</td><td>0.0056888635</td><td>0.008585087</td><td>0.008063128</td><td>0.0062150513</td><td>0.007976375</td><td>⋯</td><td>0.0082300561</td><td>0.0071672771</td><td>0.0066009952</td><td>0.008053396</td><td>0.0080103477</td><td>0.006198244</td><td>0.008623624</td><td>0.0066541138</td><td>0.007639679</td><td>0.008812409</td></tr>\n",
       "\t<tr><td>187775060</td><td>0.003457416</td><td>0.0026500118</td><td>0.002951695</td><td>0.002056310</td><td>0.0035774790</td><td>0.004117474</td><td>0.002840915</td><td>0.0047064150</td><td>0.005434236</td><td>⋯</td><td>0.0024829218</td><td>0.0032637788</td><td>0.0030142418</td><td>0.003291124</td><td>0.0038274634</td><td>0.004351866</td><td>0.004215546</td><td>0.0039111572</td><td>0.003238137</td><td>0.003299382</td></tr>\n",
       "\t<tr><td>187816050</td><td>0.010228009</td><td>0.0100346013</td><td>0.010028437</td><td>0.011618836</td><td>0.0090003703</td><td>0.011390639</td><td>0.009073550</td><td>0.0120876737</td><td>0.011237125</td><td>⋯</td><td>0.0083026525</td><td>0.0117777223</td><td>0.0110343719</td><td>0.011881705</td><td>0.0103875104</td><td>0.009650251</td><td>0.009929585</td><td>0.0087327858</td><td>0.011079191</td><td>0.009528710</td></tr>\n",
       "\t<tr><td>187827511</td><td>0.005897591</td><td>0.0062563650</td><td>0.005126957</td><td>0.005640018</td><td>0.0061011847</td><td>0.006371806</td><td>0.005412163</td><td>0.0050907148</td><td>0.005987133</td><td>⋯</td><td>0.0048996953</td><td>0.0058072824</td><td>0.0054519238</td><td>0.007487461</td><td>0.0068095544</td><td>0.006365722</td><td>0.005630261</td><td>0.0057456162</td><td>0.006316075</td><td>0.005958342</td></tr>\n",
       "\t<tr><td>187828510</td><td>0.017416926</td><td>0.0159841327</td><td>0.018205702</td><td>0.018746002</td><td>0.0168227981</td><td>0.018884630</td><td>0.015544974</td><td>0.0172580795</td><td>0.016197464</td><td>⋯</td><td>0.0190113897</td><td>0.0175882444</td><td>0.0170388574</td><td>0.016016462</td><td>0.0193295748</td><td>0.019283186</td><td>0.017730477</td><td>0.0171986431</td><td>0.019594703</td><td>0.017650717</td></tr>\n",
       "\t<tr><td>187838971</td><td>0.017157221</td><td>0.0154045267</td><td>0.018762442</td><td>0.019619218</td><td>0.0158336929</td><td>0.017437863</td><td>0.016552343</td><td>0.0166267468</td><td>0.015749078</td><td>⋯</td><td>0.0192804930</td><td>0.0170512172</td><td>0.0161549827</td><td>0.016907436</td><td>0.0193487682</td><td>0.017237325</td><td>0.016633055</td><td>0.0162977191</td><td>0.019502343</td><td>0.016934556</td></tr>\n",
       "\t<tr><td>187845820</td><td>0.022707544</td><td>0.0212495353</td><td>0.023436883</td><td>0.022878367</td><td>0.0214847189</td><td>0.022630995</td><td>0.021681982</td><td>0.0194306172</td><td>0.026564608</td><td>⋯</td><td>0.0220981067</td><td>0.0218845336</td><td>0.0228405044</td><td>0.022146131</td><td>0.0240563425</td><td>0.021880296</td><td>0.024887058</td><td>0.0188789466</td><td>0.027585372</td><td>0.024364747</td></tr>\n",
       "\t<tr><td>187902361</td><td>0.025406885</td><td>0.0233130075</td><td>0.025076397</td><td>0.025848398</td><td>0.0231949686</td><td>0.027739319</td><td>0.024367994</td><td>0.0205483736</td><td>0.029548062</td><td>⋯</td><td>0.0260364910</td><td>0.0237711906</td><td>0.0267887581</td><td>0.023823253</td><td>0.0261337504</td><td>0.023322698</td><td>0.029076065</td><td>0.0211361053</td><td>0.030866991</td><td>0.027951762</td></tr>\n",
       "\t<tr><td>187903010</td><td>0.020220081</td><td>0.0185601543</td><td>0.023265816</td><td>0.022207920</td><td>0.0203598395</td><td>0.019615217</td><td>0.019587228</td><td>0.0195354343</td><td>0.019343586</td><td>⋯</td><td>0.0226522738</td><td>0.0206975825</td><td>0.0196633421</td><td>0.020144724</td><td>0.0224620200</td><td>0.020030874</td><td>0.018206924</td><td>0.0186888287</td><td>0.021189231</td><td>0.020636817</td></tr>\n",
       "\t<tr><td>187956461</td><td>0.035217660</td><td>0.0393227796</td><td>0.034606855</td><td>0.042384376</td><td>0.0400859438</td><td>0.029627803</td><td>0.038826260</td><td>0.0291282415</td><td>0.034403255</td><td>⋯</td><td>0.0433137874</td><td>0.0334666153</td><td>0.0340184192</td><td>0.037706685</td><td>0.0414725118</td><td>0.036058759</td><td>0.031482663</td><td>0.0268362461</td><td>0.032536994</td><td>0.030326401</td></tr>\n",
       "\t<tr><td>187964701</td><td>0.022227891</td><td>0.0200796640</td><td>0.025761289</td><td>0.026378752</td><td>0.0221949016</td><td>0.022078392</td><td>0.020871057</td><td>0.0214731912</td><td>0.020383175</td><td>⋯</td><td>0.0251460370</td><td>0.0219418913</td><td>0.0217445531</td><td>0.022000921</td><td>0.0240298567</td><td>0.022072135</td><td>0.020673931</td><td>0.0203644862</td><td>0.023870942</td><td>0.022634873</td></tr>\n",
       "\t<tr><td>187969270</td><td>0.017702443</td><td>0.0157840515</td><td>0.019405271</td><td>0.020271435</td><td>0.0161644964</td><td>0.018319710</td><td>0.016906784</td><td>0.0171923164</td><td>0.016631188</td><td>⋯</td><td>0.0194136680</td><td>0.0179813138</td><td>0.0164002977</td><td>0.017075346</td><td>0.0195043447</td><td>0.018191918</td><td>0.016975699</td><td>0.0169453707</td><td>0.020229939</td><td>0.017535913</td></tr>\n",
       "\t<tr><td>187989740</td><td>0.020181829</td><td>0.0192636549</td><td>0.023029166</td><td>0.023386596</td><td>0.0182249080</td><td>0.019831769</td><td>0.019161418</td><td>0.0194488743</td><td>0.017753831</td><td>⋯</td><td>0.0231867905</td><td>0.0199915583</td><td>0.0198018792</td><td>0.019350435</td><td>0.0228933133</td><td>0.019185508</td><td>0.018951679</td><td>0.0180955587</td><td>0.022139483</td><td>0.020502977</td></tr>\n",
       "\t<tr><td>188009390</td><td>0.020919096</td><td>0.0178769469</td><td>0.021985951</td><td>0.024428091</td><td>0.0212557489</td><td>0.021047541</td><td>0.020219352</td><td>0.0206220442</td><td>0.018944733</td><td>⋯</td><td>0.0214923135</td><td>0.0203394865</td><td>0.0194241485</td><td>0.020982851</td><td>0.0226103706</td><td>0.020772885</td><td>0.020306842</td><td>0.0191695072</td><td>0.023932802</td><td>0.024696591</td></tr>\n",
       "\t<tr><td>188042080</td><td>0.019835067</td><td>0.0187875406</td><td>0.020782785</td><td>0.021369133</td><td>0.0201818655</td><td>0.019510735</td><td>0.019486114</td><td>0.0184496700</td><td>0.019552227</td><td>⋯</td><td>0.0216271196</td><td>0.0205444469</td><td>0.0188025779</td><td>0.018635909</td><td>0.0221001248</td><td>0.020924335</td><td>0.019521670</td><td>0.0180395441</td><td>0.021972186</td><td>0.019263530</td></tr>\n",
       "\t<tr><td>188115120</td><td>0.017411171</td><td>0.0170410968</td><td>0.018830875</td><td>0.015949718</td><td>0.0155853319</td><td>0.016731755</td><td>0.014521584</td><td>0.0199572132</td><td>0.021894844</td><td>⋯</td><td>0.0165419636</td><td>0.0179621759</td><td>0.0194566876</td><td>0.015564303</td><td>0.0184629451</td><td>0.018176037</td><td>0.018649864</td><td>0.0162577394</td><td>0.016477704</td><td>0.018191976</td></tr>\n",
       "\t<tr><td>188116871</td><td>0.001768369</td><td>0.0017857644</td><td>0.001564993</td><td>0.001796273</td><td>0.0017200974</td><td>0.001788803</td><td>0.001473489</td><td>0.0016678434</td><td>0.001919914</td><td>⋯</td><td>0.0015662099</td><td>0.0018015281</td><td>0.0018979616</td><td>0.001827303</td><td>0.0019666750</td><td>0.002211285</td><td>0.001495631</td><td>0.0015696451</td><td>0.001869835</td><td>0.002036158</td></tr>\n",
       "</tbody>\n",
       "</table>\n"
      ],
      "text/latex": [
       "A data.table: 33094 × 22\n",
       "\\begin{tabular}{lllllllllllllllllllll}\n",
       " numero\\_de\\_cliente & prob & prob\\_1 & prob\\_2 & prob\\_3 & prob\\_4 & prob\\_5 & prob\\_6 & prob\\_7 & prob\\_8 & ⋯ & prob\\_11 & prob\\_12 & prob\\_13 & prob\\_14 & prob\\_15 & prob\\_16 & prob\\_17 & prob\\_18 & prob\\_19 & prob\\_20\\\\\n",
       " <int> & <dbl> & <dbl> & <dbl> & <dbl> & <dbl> & <dbl> & <dbl> & <dbl> & <dbl> & ⋯ & <dbl> & <dbl> & <dbl> & <dbl> & <dbl> & <dbl> & <dbl> & <dbl> & <dbl> & <dbl>\\\\\n",
       "\\hline\n",
       "\t 29186441 & 0.0014399932 & 0.0013913343 & 0.0016599631 & 0.0011416735 & 0.0013012665 & 0.0015167213 & 0.0014476383 & 0.0014740846 & 0.0012759120 & ⋯ & 0.0018167931 & 0.0012599845 & 0.0012799865 & 0.0016630030 & 0.0015643806 & 0.0016625495 & 1.511279e-03 & 0.0015399344 & 1.564171e-03 & 0.0010772615\\\\\n",
       "\t 29187730 & 0.0003225847 & 0.0003455120 & 0.0002708392 & 0.0003624873 & 0.0002516304 & 0.0002708674 & 0.0003509250 & 0.0003182133 & 0.0003184386 & ⋯ & 0.0002971863 & 0.0003088992 & 0.0003161094 & 0.0004408312 & 0.0003349258 & 0.0003556092 & 2.120765e-04 & 0.0003183228 & 3.560553e-04 & 0.0003211705\\\\\n",
       "\t 29187961 & 0.0018245424 & 0.0018125185 & 0.0022524221 & 0.0022983995 & 0.0013149787 & 0.0014725475 & 0.0020650892 & 0.0019305962 & 0.0015667493 & ⋯ & 0.0017920075 & 0.0018495411 & 0.0016957570 & 0.0017865177 & 0.0021527256 & 0.0017737964 & 2.018330e-03 & 0.0018384441 & 1.742316e-03 & 0.0019531392\\\\\n",
       "\t 29193101 & 0.0004787530 & 0.0004545528 & 0.0005400424 & 0.0006161813 & 0.0005250889 & 0.0004915197 & 0.0004307528 & 0.0005748957 & 0.0004412289 & ⋯ & 0.0004030491 & 0.0004754830 & 0.0004347346 & 0.0004381273 & 0.0005466449 & 0.0005115025 & 4.325808e-04 & 0.0004187798 & 4.419583e-04 & 0.0005215441\\\\\n",
       "\t 29193281 & 0.0007251824 & 0.0006060588 & 0.0006437478 & 0.0006586358 & 0.0007205255 & 0.0008174601 & 0.0007082007 & 0.0006504329 & 0.0012871027 & ⋯ & 0.0006599756 & 0.0006241963 & 0.0007168716 & 0.0007865607 & 0.0008144867 & 0.0007319280 & 6.927174e-04 & 0.0006198003 & 8.024320e-04 & 0.0005314469\\\\\n",
       "\t 29198891 & 0.0009268414 & 0.0012569776 & 0.0009895930 & 0.0007979259 & 0.0006811363 & 0.0010644189 & 0.0007278089 & 0.0007993632 & 0.0007351704 & ⋯ & 0.0008484317 & 0.0007869625 & 0.0011041526 & 0.0008428205 & 0.0010331952 & 0.0009051355 & 1.067672e-03 & 0.0008870254 & 1.042093e-03 & 0.0010031927\\\\\n",
       "\t 29200651 & 0.0162376773 & 0.0161511969 & 0.0136231189 & 0.0141621262 & 0.0143693199 & 0.0183003763 & 0.0165067595 & 0.0217874191 & 0.0150976115 & ⋯ & 0.0147833250 & 0.0183511698 & 0.0162181329 & 0.0136912022 & 0.0166885860 & 0.0193372131 & 1.746140e-02 & 0.0128955432 & 1.599483e-02 & 0.0155028532\\\\\n",
       "\t 29200770 & 0.0001439586 & 0.0001494687 & 0.0001347470 & 0.0001657924 & 0.0001224950 & 0.0001262426 & 0.0001445371 & 0.0001346464 & 0.0001388233 & ⋯ & 0.0001505826 & 0.0001569382 & 0.0001454611 & 0.0001411944 & 0.0001608207 & 0.0001242358 & 1.694988e-04 & 0.0001653810 & 1.394800e-04 & 0.0001288118\\\\\n",
       "\t 29201701 & 0.0005924317 & 0.0005572752 & 0.0006525586 & 0.0005210445 & 0.0007248694 & 0.0006643767 & 0.0006041150 & 0.0005531619 & 0.0007917974 & ⋯ & 0.0005667980 & 0.0005406244 & 0.0005640574 & 0.0005533213 & 0.0005809204 & 0.0006451090 & 5.943579e-04 & 0.0005120577 & 6.171063e-04 & 0.0005359635\\\\\n",
       "\t 29205441 & 0.1987500446 & 0.1797980557 & 0.2386330025 & 0.1886089446 & 0.1840692766 & 0.1889533432 & 0.2126067099 & 0.1744427074 & 0.2248465230 & ⋯ & 0.1694207679 & 0.1810124565 & 0.2235062902 & 0.2269210697 & 0.1961550508 & 0.1699855641 & 1.852834e-01 & 0.1901774613 & 2.071170e-01 & 0.2292918199\\\\\n",
       "\t 29207790 & 0.0010699910 & 0.0010526838 & 0.0009495873 & 0.0010896368 & 0.0013772818 & 0.0010083247 & 0.0008026572 & 0.0013267825 & 0.0012825811 & ⋯ & 0.0009741795 & 0.0010533438 & 0.0013531345 & 0.0008477569 & 0.0012261631 & 0.0008127637 & 1.094136e-03 & 0.0008644713 & 1.351151e-03 & 0.0010083812\\\\\n",
       "\t 29207901 & 0.0061462818 & 0.0068620430 & 0.0043745421 & 0.0068835415 & 0.0062813943 & 0.0062675000 & 0.0058789430 & 0.0061974317 & 0.0069793033 & ⋯ & 0.0050572323 & 0.0064288105 & 0.0085903566 & 0.0056797659 & 0.0077887755 & 0.0055504122 & 5.581396e-03 & 0.0064259582 & 5.669525e-03 & 0.0062529009\\\\\n",
       "\t 29215330 & 0.0001191545 & 0.0001151436 & 0.0001039741 & 0.0001221315 & 0.0001291108 & 0.0001055285 & 0.0001525622 & 0.0001487107 & 0.0001211984 & ⋯ & 0.0001291960 & 0.0001177080 & 0.0001254041 & 0.0001442492 & 0.0001345308 & 0.0001159397 & 9.632669e-05 & 0.0001038189 & 8.925995e-05 & 0.0001045125\\\\\n",
       "\t 29217500 & 0.0015921678 & 0.0015937283 & 0.0015187204 & 0.0014358066 & 0.0013983117 & 0.0016088388 & 0.0012203256 & 0.0015862199 & 0.0015564297 & ⋯ & 0.0017367344 & 0.0013909080 & 0.0015186875 & 0.0018695044 & 0.0019387182 & 0.0015336441 & 1.733782e-03 & 0.0014066857 & 1.654160e-03 & 0.0018347014\\\\\n",
       "\t 29218080 & 0.0005071560 & 0.0005245619 & 0.0004443526 & 0.0005760295 & 0.0005003998 & 0.0004549376 & 0.0005441795 & 0.0005471427 & 0.0004878257 & ⋯ & 0.0006652047 & 0.0004126585 & 0.0004624554 & 0.0004485739 & 0.0004589844 & 0.0005470790 & 4.730627e-04 & 0.0005605599 & 5.377857e-04 & 0.0004377133\\\\\n",
       "\t 29219250 & 0.0004844503 & 0.0004602622 & 0.0005300576 & 0.0005322738 & 0.0005284932 & 0.0004989226 & 0.0004110432 & 0.0004728332 & 0.0004812110 & ⋯ & 0.0005387920 & 0.0005028914 & 0.0004247748 & 0.0005056519 & 0.0004620590 & 0.0004947948 & 4.966184e-04 & 0.0004756725 & 5.050332e-04 & 0.0004460859\\\\\n",
       "\t 29226090 & 0.0010677498 & 0.0008403901 & 0.0011281791 & 0.0009325908 & 0.0015226863 & 0.0009971564 & 0.0015401911 & 0.0012467010 & 0.0010698462 & ⋯ & 0.0007553333 & 0.0009122285 & 0.0008341099 & 0.0009778889 & 0.0014406557 & 0.0007635215 & 1.048320e-03 & 0.0008912614 & 1.444043e-03 & 0.0007098094\\\\\n",
       "\t 29229250 & 0.0063722579 & 0.0071353228 & 0.0073331081 & 0.0049407703 & 0.0079212354 & 0.0069611152 & 0.0065887098 & 0.0068320925 & 0.0060479243 & ⋯ & 0.0069675984 & 0.0053693143 & 0.0060703604 & 0.0072971904 & 0.0062589397 & 0.0067783188 & 5.874588e-03 & 0.0067584466 & 4.376448e-03 & 0.0060225378\\\\\n",
       "\t 29236620 & 0.0003241553 & 0.0003132857 & 0.0003181554 & 0.0003616684 & 0.0003997163 & 0.0003183354 & 0.0003492099 & 0.0003065631 & 0.0002764522 & ⋯ & 0.0003144077 & 0.0003501098 & 0.0003223892 & 0.0003102340 & 0.0003617667 & 0.0003167949 & 3.557767e-04 & 0.0003326600 & 3.208038e-04 & 0.0002731703\\\\\n",
       "\t 29243631 & 0.0003282965 & 0.0002914949 & 0.0003929475 & 0.0003249147 & 0.0003461593 & 0.0003437015 & 0.0002725728 & 0.0002960093 & 0.0003172131 & ⋯ & 0.0003587444 & 0.0003660775 & 0.0003418081 & 0.0003056276 & 0.0003836920 & 0.0003453711 & 2.877058e-04 & 0.0003053008 & 3.224844e-04 & 0.0002921525\\\\\n",
       "\t 29247850 & 0.0060085304 & 0.0067611882 & 0.0060430183 & 0.0061277912 & 0.0070133132 & 0.0056750897 & 0.0074992519 & 0.0052400027 & 0.0062825231 & ⋯ & 0.0050414279 & 0.0053118288 & 0.0069934309 & 0.0076590222 & 0.0048547517 & 0.0069399628 & 5.694146e-03 & 0.0046115878 & 4.904583e-03 & 0.0062477162\\\\\n",
       "\t 29251231 & 0.0084712583 & 0.0065733516 & 0.0099892468 & 0.0106299668 & 0.0108114467 & 0.0084385398 & 0.0085479569 & 0.0084844277 & 0.0098454950 & ⋯ & 0.0071879150 & 0.0092495662 & 0.0095970386 & 0.0066029102 & 0.0061757808 & 0.0067283578 & 8.297597e-03 & 0.0075295835 & 9.584266e-03 & 0.0092602407\\\\\n",
       "\t 29255740 & 0.0002867599 & 0.0002767331 & 0.0002377083 & 0.0002823631 & 0.0002464475 & 0.0002970773 & 0.0002646630 & 0.0003229133 & 0.0002405900 & ⋯ & 0.0003111758 & 0.0003187258 & 0.0003024042 & 0.0003333055 & 0.0002987162 & 0.0002964456 & 2.664892e-04 & 0.0002927472 & 2.377779e-04 & 0.0003402305\\\\\n",
       "\t 29257551 & 0.0004035163 & 0.0003374813 & 0.0003173774 & 0.0004486181 & 0.0003892747 & 0.0003827852 & 0.0004707883 & 0.0003556297 & 0.0004309306 & ⋯ & 0.0004037435 & 0.0003323814 & 0.0003538159 & 0.0003565927 & 0.0004246419 & 0.0005154047 & 3.596281e-04 & 0.0004933132 & 3.365570e-04 & 0.0003824838\\\\\n",
       "\t 29257790 & 0.0002803050 & 0.0002659920 & 0.0002859679 & 0.0002895216 & 0.0002474409 & 0.0002610996 & 0.0002788290 & 0.0002747142 & 0.0003126080 & ⋯ & 0.0002580887 & 0.0002808996 & 0.0003179364 & 0.0002824079 & 0.0003314695 & 0.0002517669 & 2.958334e-04 & 0.0002301081 & 2.722651e-04 & 0.0002911930\\\\\n",
       "\t 29267141 & 0.0009463755 & 0.0006744073 & 0.0010672886 & 0.0009135921 & 0.0006694493 & 0.0011325338 & 0.0014704850 & 0.0010737518 & 0.0010513434 & ⋯ & 0.0009486936 & 0.0007911062 & 0.0007076986 & 0.0008398342 & 0.0010031548 & 0.0009706530 & 8.064684e-04 & 0.0009389547 & 9.940591e-04 & 0.0009568776\\\\\n",
       "\t 29274460 & 0.0037958093 & 0.0045623273 & 0.0045928442 & 0.0033708626 & 0.0038392714 & 0.0036825122 & 0.0043501455 & 0.0035963808 & 0.0037942778 & ⋯ & 0.0033277282 & 0.0027975626 & 0.0032057623 & 0.0041131564 & 0.0032867718 & 0.0042022164 & 3.736913e-03 & 0.0035117122 & 4.004401e-03 & 0.0045239595\\\\\n",
       "\t 29277081 & 0.0032119394 & 0.0034386118 & 0.0032936653 & 0.0029874942 & 0.0038131651 & 0.0026855974 & 0.0031196537 & 0.0031503589 & 0.0029804941 & ⋯ & 0.0034244942 & 0.0029032799 & 0.0034720842 & 0.0031326851 & 0.0034236820 & 0.0028097845 & 2.814211e-03 & 0.0034031215 & 2.965960e-03 & 0.0032422186\\\\\n",
       "\t 29280480 & 0.0084820544 & 0.0077258669 & 0.0092759304 & 0.0094119773 & 0.0077541713 & 0.0069373210 & 0.0089052360 & 0.0085204872 & 0.0074955040 & ⋯ & 0.0089152580 & 0.0094471574 & 0.0104493764 & 0.0074787359 & 0.0076526649 & 0.0070397895 & 9.651061e-03 & 0.0084314583 & 8.252671e-03 & 0.0078724670\\\\\n",
       "\t 29280890 & 0.3473743929 & 0.3496515353 & 0.3392310871 & 0.3119986758 & 0.3736412352 & 0.3446017045 & 0.3511918178 & 0.3488305369 & 0.2905613981 & ⋯ & 0.3723735991 & 0.3799960372 & 0.3274804094 & 0.3516677398 & 0.3720339667 & 0.3659570241 & 3.765448e-01 & 0.3333742748 & 3.475647e-01 & 0.3404139113\\\\\n",
       "\t ⋮ & ⋮ & ⋮ & ⋮ & ⋮ & ⋮ & ⋮ & ⋮ & ⋮ & ⋮ & ⋱ & ⋮ & ⋮ & ⋮ & ⋮ & ⋮ & ⋮ & ⋮ & ⋮ & ⋮ & ⋮\\\\\n",
       "\t 187531190 & 0.022823457 & 0.0241167702 & 0.021893524 & 0.028272425 & 0.0199559154 & 0.022458722 & 0.020822584 & 0.0243654473 & 0.023554210 & ⋯ & 0.0227765150 & 0.0236346802 & 0.0223147526 & 0.025544525 & 0.0234195808 & 0.022247699 & 0.023544354 & 0.0214529776 & 0.022281260 & 0.027270872\\\\\n",
       "\t 187562010 & 0.001810916 & 0.0012461884 & 0.001539972 & 0.001920147 & 0.0018187912 & 0.001849968 & 0.001657701 & 0.0021883121 & 0.002257105 & ⋯ & 0.0015905917 & 0.0014981632 & 0.0014669410 & 0.001973310 & 0.0018185386 & 0.002075264 & 0.002326113 & 0.0012769525 & 0.001816924 & 0.001549784\\\\\n",
       "\t 187564290 & 0.010776229 & 0.0108911257 & 0.011429758 & 0.011476364 & 0.0096055037 & 0.011251251 & 0.009079227 & 0.0119034091 & 0.011507011 & ⋯ & 0.0109196032 & 0.0098533870 & 0.0099673438 & 0.011463573 & 0.0095368564 & 0.011507576 & 0.012207204 & 0.0090039790 & 0.012408396 & 0.009430290\\\\\n",
       "\t 187565870 & 0.001241796 & 0.0009544942 & 0.001210768 & 0.001527123 & 0.0009644806 & 0.001338351 & 0.001292461 & 0.0011503312 & 0.001248799 & ⋯ & 0.0011241200 & 0.0011924542 & 0.0011588800 & 0.001349731 & 0.0010590636 & 0.001410046 & 0.001265865 & 0.0012577512 & 0.001204264 & 0.001584022\\\\\n",
       "\t 187577510 & 0.008368785 & 0.0080025776 & 0.008054451 & 0.008477526 & 0.0078048336 & 0.007687381 & 0.009410974 & 0.0083295042 & 0.008882137 & ⋯ & 0.0092904974 & 0.0089165808 & 0.0088570787 & 0.008627314 & 0.0081917288 & 0.007419852 & 0.008973582 & 0.0078679094 & 0.007116068 & 0.009741456\\\\\n",
       "\t 187594641 & 0.004019309 & 0.0034302640 & 0.003611257 & 0.004815905 & 0.0039446698 & 0.003959878 & 0.004206203 & 0.0043437300 & 0.005057601 & ⋯ & 0.0047755456 & 0.0030561310 & 0.0031001543 & 0.004327066 & 0.0039187704 & 0.003479927 & 0.005399449 & 0.0033857530 & 0.003746913 & 0.004107335\\\\\n",
       "\t 187604521 & 0.011380218 & 0.0112150490 & 0.009363204 & 0.011774277 & 0.0099488786 & 0.013675943 & 0.012314951 & 0.0131340068 & 0.011968488 & ⋯ & 0.0111244558 & 0.0124192392 & 0.0108750895 & 0.011257521 & 0.0140170236 & 0.009884367 & 0.011247790 & 0.0096468769 & 0.011612758 & 0.012253521\\\\\n",
       "\t 187626041 & 0.013692895 & 0.0120590025 & 0.014880849 & 0.012921375 & 0.0126902355 & 0.014005806 & 0.011293276 & 0.0165209755 & 0.017431540 & ⋯ & 0.0118516795 & 0.0154176700 & 0.0138090997 & 0.014333009 & 0.0136740318 & 0.013495718 & 0.014375383 & 0.0134799962 & 0.015049246 & 0.014074426\\\\\n",
       "\t 187634060 & 0.001061275 & 0.0008947242 & 0.001107943 & 0.001314985 & 0.0010472098 & 0.001090313 & 0.001194846 & 0.0009863045 & 0.001129349 & ⋯ & 0.0009638201 & 0.0009982168 & 0.0008806948 & 0.001171454 & 0.0009663734 & 0.001042361 & 0.001026445 & 0.0009339531 & 0.001266871 & 0.001154877\\\\\n",
       "\t 187636041 & 0.003368569 & 0.0033381934 & 0.003015978 & 0.004415425 & 0.0024577771 & 0.002661276 & 0.003603773 & 0.0035987338 & 0.003010025 & ⋯ & 0.0037425652 & 0.0044198585 & 0.0020264113 & 0.002953364 & 0.0028896470 & 0.003601296 & 0.002484661 & 0.0028764301 & 0.003799967 & 0.006174174\\\\\n",
       "\t 187733830 & 0.005776098 & 0.0047424972 & 0.005015142 & 0.005522777 & 0.0040463479 & 0.008074043 & 0.005664164 & 0.0057429498 & 0.006057849 & ⋯ & 0.0055625396 & 0.0071083869 & 0.0063192868 & 0.006228041 & 0.0062559958 & 0.005376373 & 0.007621000 & 0.0056594941 & 0.005299737 & 0.005142228\\\\\n",
       "\t 187766810 & 0.001392126 & 0.0011063288 & 0.001161751 & 0.001646262 & 0.0011767272 & 0.001592563 & 0.001396309 & 0.0015576148 & 0.001393006 & ⋯ & 0.0012415791 & 0.0011528626 & 0.0012756130 & 0.001414311 & 0.0012134006 & 0.001548469 & 0.001438213 & 0.0012818152 & 0.001562289 & 0.001849451\\\\\n",
       "\t 187768040 & 0.018370597 & 0.0190120284 & 0.018150556 & 0.020545327 & 0.0175595352 & 0.018642448 & 0.016179213 & 0.0207390331 & 0.019460821 & ⋯ & 0.0194926792 & 0.0188998822 & 0.0180404528 & 0.020797743 & 0.0188704749 & 0.016948944 & 0.019156041 & 0.0169724320 & 0.018222466 & 0.018126598\\\\\n",
       "\t 187774590 & 0.007468451 & 0.0076410443 & 0.006251744 & 0.009253700 & 0.0056888635 & 0.008585087 & 0.008063128 & 0.0062150513 & 0.007976375 & ⋯ & 0.0082300561 & 0.0071672771 & 0.0066009952 & 0.008053396 & 0.0080103477 & 0.006198244 & 0.008623624 & 0.0066541138 & 0.007639679 & 0.008812409\\\\\n",
       "\t 187775060 & 0.003457416 & 0.0026500118 & 0.002951695 & 0.002056310 & 0.0035774790 & 0.004117474 & 0.002840915 & 0.0047064150 & 0.005434236 & ⋯ & 0.0024829218 & 0.0032637788 & 0.0030142418 & 0.003291124 & 0.0038274634 & 0.004351866 & 0.004215546 & 0.0039111572 & 0.003238137 & 0.003299382\\\\\n",
       "\t 187816050 & 0.010228009 & 0.0100346013 & 0.010028437 & 0.011618836 & 0.0090003703 & 0.011390639 & 0.009073550 & 0.0120876737 & 0.011237125 & ⋯ & 0.0083026525 & 0.0117777223 & 0.0110343719 & 0.011881705 & 0.0103875104 & 0.009650251 & 0.009929585 & 0.0087327858 & 0.011079191 & 0.009528710\\\\\n",
       "\t 187827511 & 0.005897591 & 0.0062563650 & 0.005126957 & 0.005640018 & 0.0061011847 & 0.006371806 & 0.005412163 & 0.0050907148 & 0.005987133 & ⋯ & 0.0048996953 & 0.0058072824 & 0.0054519238 & 0.007487461 & 0.0068095544 & 0.006365722 & 0.005630261 & 0.0057456162 & 0.006316075 & 0.005958342\\\\\n",
       "\t 187828510 & 0.017416926 & 0.0159841327 & 0.018205702 & 0.018746002 & 0.0168227981 & 0.018884630 & 0.015544974 & 0.0172580795 & 0.016197464 & ⋯ & 0.0190113897 & 0.0175882444 & 0.0170388574 & 0.016016462 & 0.0193295748 & 0.019283186 & 0.017730477 & 0.0171986431 & 0.019594703 & 0.017650717\\\\\n",
       "\t 187838971 & 0.017157221 & 0.0154045267 & 0.018762442 & 0.019619218 & 0.0158336929 & 0.017437863 & 0.016552343 & 0.0166267468 & 0.015749078 & ⋯ & 0.0192804930 & 0.0170512172 & 0.0161549827 & 0.016907436 & 0.0193487682 & 0.017237325 & 0.016633055 & 0.0162977191 & 0.019502343 & 0.016934556\\\\\n",
       "\t 187845820 & 0.022707544 & 0.0212495353 & 0.023436883 & 0.022878367 & 0.0214847189 & 0.022630995 & 0.021681982 & 0.0194306172 & 0.026564608 & ⋯ & 0.0220981067 & 0.0218845336 & 0.0228405044 & 0.022146131 & 0.0240563425 & 0.021880296 & 0.024887058 & 0.0188789466 & 0.027585372 & 0.024364747\\\\\n",
       "\t 187902361 & 0.025406885 & 0.0233130075 & 0.025076397 & 0.025848398 & 0.0231949686 & 0.027739319 & 0.024367994 & 0.0205483736 & 0.029548062 & ⋯ & 0.0260364910 & 0.0237711906 & 0.0267887581 & 0.023823253 & 0.0261337504 & 0.023322698 & 0.029076065 & 0.0211361053 & 0.030866991 & 0.027951762\\\\\n",
       "\t 187903010 & 0.020220081 & 0.0185601543 & 0.023265816 & 0.022207920 & 0.0203598395 & 0.019615217 & 0.019587228 & 0.0195354343 & 0.019343586 & ⋯ & 0.0226522738 & 0.0206975825 & 0.0196633421 & 0.020144724 & 0.0224620200 & 0.020030874 & 0.018206924 & 0.0186888287 & 0.021189231 & 0.020636817\\\\\n",
       "\t 187956461 & 0.035217660 & 0.0393227796 & 0.034606855 & 0.042384376 & 0.0400859438 & 0.029627803 & 0.038826260 & 0.0291282415 & 0.034403255 & ⋯ & 0.0433137874 & 0.0334666153 & 0.0340184192 & 0.037706685 & 0.0414725118 & 0.036058759 & 0.031482663 & 0.0268362461 & 0.032536994 & 0.030326401\\\\\n",
       "\t 187964701 & 0.022227891 & 0.0200796640 & 0.025761289 & 0.026378752 & 0.0221949016 & 0.022078392 & 0.020871057 & 0.0214731912 & 0.020383175 & ⋯ & 0.0251460370 & 0.0219418913 & 0.0217445531 & 0.022000921 & 0.0240298567 & 0.022072135 & 0.020673931 & 0.0203644862 & 0.023870942 & 0.022634873\\\\\n",
       "\t 187969270 & 0.017702443 & 0.0157840515 & 0.019405271 & 0.020271435 & 0.0161644964 & 0.018319710 & 0.016906784 & 0.0171923164 & 0.016631188 & ⋯ & 0.0194136680 & 0.0179813138 & 0.0164002977 & 0.017075346 & 0.0195043447 & 0.018191918 & 0.016975699 & 0.0169453707 & 0.020229939 & 0.017535913\\\\\n",
       "\t 187989740 & 0.020181829 & 0.0192636549 & 0.023029166 & 0.023386596 & 0.0182249080 & 0.019831769 & 0.019161418 & 0.0194488743 & 0.017753831 & ⋯ & 0.0231867905 & 0.0199915583 & 0.0198018792 & 0.019350435 & 0.0228933133 & 0.019185508 & 0.018951679 & 0.0180955587 & 0.022139483 & 0.020502977\\\\\n",
       "\t 188009390 & 0.020919096 & 0.0178769469 & 0.021985951 & 0.024428091 & 0.0212557489 & 0.021047541 & 0.020219352 & 0.0206220442 & 0.018944733 & ⋯ & 0.0214923135 & 0.0203394865 & 0.0194241485 & 0.020982851 & 0.0226103706 & 0.020772885 & 0.020306842 & 0.0191695072 & 0.023932802 & 0.024696591\\\\\n",
       "\t 188042080 & 0.019835067 & 0.0187875406 & 0.020782785 & 0.021369133 & 0.0201818655 & 0.019510735 & 0.019486114 & 0.0184496700 & 0.019552227 & ⋯ & 0.0216271196 & 0.0205444469 & 0.0188025779 & 0.018635909 & 0.0221001248 & 0.020924335 & 0.019521670 & 0.0180395441 & 0.021972186 & 0.019263530\\\\\n",
       "\t 188115120 & 0.017411171 & 0.0170410968 & 0.018830875 & 0.015949718 & 0.0155853319 & 0.016731755 & 0.014521584 & 0.0199572132 & 0.021894844 & ⋯ & 0.0165419636 & 0.0179621759 & 0.0194566876 & 0.015564303 & 0.0184629451 & 0.018176037 & 0.018649864 & 0.0162577394 & 0.016477704 & 0.018191976\\\\\n",
       "\t 188116871 & 0.001768369 & 0.0017857644 & 0.001564993 & 0.001796273 & 0.0017200974 & 0.001788803 & 0.001473489 & 0.0016678434 & 0.001919914 & ⋯ & 0.0015662099 & 0.0018015281 & 0.0018979616 & 0.001827303 & 0.0019666750 & 0.002211285 & 0.001495631 & 0.0015696451 & 0.001869835 & 0.002036158\\\\\n",
       "\\end{tabular}\n"
      ],
      "text/markdown": [
       "\n",
       "A data.table: 33094 × 22\n",
       "\n",
       "| numero_de_cliente &lt;int&gt; | prob &lt;dbl&gt; | prob_1 &lt;dbl&gt; | prob_2 &lt;dbl&gt; | prob_3 &lt;dbl&gt; | prob_4 &lt;dbl&gt; | prob_5 &lt;dbl&gt; | prob_6 &lt;dbl&gt; | prob_7 &lt;dbl&gt; | prob_8 &lt;dbl&gt; | ⋯ ⋯ | prob_11 &lt;dbl&gt; | prob_12 &lt;dbl&gt; | prob_13 &lt;dbl&gt; | prob_14 &lt;dbl&gt; | prob_15 &lt;dbl&gt; | prob_16 &lt;dbl&gt; | prob_17 &lt;dbl&gt; | prob_18 &lt;dbl&gt; | prob_19 &lt;dbl&gt; | prob_20 &lt;dbl&gt; |\n",
       "|---|---|---|---|---|---|---|---|---|---|---|---|---|---|---|---|---|---|---|---|---|\n",
       "| 29186441 | 0.0014399932 | 0.0013913343 | 0.0016599631 | 0.0011416735 | 0.0013012665 | 0.0015167213 | 0.0014476383 | 0.0014740846 | 0.0012759120 | ⋯ | 0.0018167931 | 0.0012599845 | 0.0012799865 | 0.0016630030 | 0.0015643806 | 0.0016625495 | 1.511279e-03 | 0.0015399344 | 1.564171e-03 | 0.0010772615 |\n",
       "| 29187730 | 0.0003225847 | 0.0003455120 | 0.0002708392 | 0.0003624873 | 0.0002516304 | 0.0002708674 | 0.0003509250 | 0.0003182133 | 0.0003184386 | ⋯ | 0.0002971863 | 0.0003088992 | 0.0003161094 | 0.0004408312 | 0.0003349258 | 0.0003556092 | 2.120765e-04 | 0.0003183228 | 3.560553e-04 | 0.0003211705 |\n",
       "| 29187961 | 0.0018245424 | 0.0018125185 | 0.0022524221 | 0.0022983995 | 0.0013149787 | 0.0014725475 | 0.0020650892 | 0.0019305962 | 0.0015667493 | ⋯ | 0.0017920075 | 0.0018495411 | 0.0016957570 | 0.0017865177 | 0.0021527256 | 0.0017737964 | 2.018330e-03 | 0.0018384441 | 1.742316e-03 | 0.0019531392 |\n",
       "| 29193101 | 0.0004787530 | 0.0004545528 | 0.0005400424 | 0.0006161813 | 0.0005250889 | 0.0004915197 | 0.0004307528 | 0.0005748957 | 0.0004412289 | ⋯ | 0.0004030491 | 0.0004754830 | 0.0004347346 | 0.0004381273 | 0.0005466449 | 0.0005115025 | 4.325808e-04 | 0.0004187798 | 4.419583e-04 | 0.0005215441 |\n",
       "| 29193281 | 0.0007251824 | 0.0006060588 | 0.0006437478 | 0.0006586358 | 0.0007205255 | 0.0008174601 | 0.0007082007 | 0.0006504329 | 0.0012871027 | ⋯ | 0.0006599756 | 0.0006241963 | 0.0007168716 | 0.0007865607 | 0.0008144867 | 0.0007319280 | 6.927174e-04 | 0.0006198003 | 8.024320e-04 | 0.0005314469 |\n",
       "| 29198891 | 0.0009268414 | 0.0012569776 | 0.0009895930 | 0.0007979259 | 0.0006811363 | 0.0010644189 | 0.0007278089 | 0.0007993632 | 0.0007351704 | ⋯ | 0.0008484317 | 0.0007869625 | 0.0011041526 | 0.0008428205 | 0.0010331952 | 0.0009051355 | 1.067672e-03 | 0.0008870254 | 1.042093e-03 | 0.0010031927 |\n",
       "| 29200651 | 0.0162376773 | 0.0161511969 | 0.0136231189 | 0.0141621262 | 0.0143693199 | 0.0183003763 | 0.0165067595 | 0.0217874191 | 0.0150976115 | ⋯ | 0.0147833250 | 0.0183511698 | 0.0162181329 | 0.0136912022 | 0.0166885860 | 0.0193372131 | 1.746140e-02 | 0.0128955432 | 1.599483e-02 | 0.0155028532 |\n",
       "| 29200770 | 0.0001439586 | 0.0001494687 | 0.0001347470 | 0.0001657924 | 0.0001224950 | 0.0001262426 | 0.0001445371 | 0.0001346464 | 0.0001388233 | ⋯ | 0.0001505826 | 0.0001569382 | 0.0001454611 | 0.0001411944 | 0.0001608207 | 0.0001242358 | 1.694988e-04 | 0.0001653810 | 1.394800e-04 | 0.0001288118 |\n",
       "| 29201701 | 0.0005924317 | 0.0005572752 | 0.0006525586 | 0.0005210445 | 0.0007248694 | 0.0006643767 | 0.0006041150 | 0.0005531619 | 0.0007917974 | ⋯ | 0.0005667980 | 0.0005406244 | 0.0005640574 | 0.0005533213 | 0.0005809204 | 0.0006451090 | 5.943579e-04 | 0.0005120577 | 6.171063e-04 | 0.0005359635 |\n",
       "| 29205441 | 0.1987500446 | 0.1797980557 | 0.2386330025 | 0.1886089446 | 0.1840692766 | 0.1889533432 | 0.2126067099 | 0.1744427074 | 0.2248465230 | ⋯ | 0.1694207679 | 0.1810124565 | 0.2235062902 | 0.2269210697 | 0.1961550508 | 0.1699855641 | 1.852834e-01 | 0.1901774613 | 2.071170e-01 | 0.2292918199 |\n",
       "| 29207790 | 0.0010699910 | 0.0010526838 | 0.0009495873 | 0.0010896368 | 0.0013772818 | 0.0010083247 | 0.0008026572 | 0.0013267825 | 0.0012825811 | ⋯ | 0.0009741795 | 0.0010533438 | 0.0013531345 | 0.0008477569 | 0.0012261631 | 0.0008127637 | 1.094136e-03 | 0.0008644713 | 1.351151e-03 | 0.0010083812 |\n",
       "| 29207901 | 0.0061462818 | 0.0068620430 | 0.0043745421 | 0.0068835415 | 0.0062813943 | 0.0062675000 | 0.0058789430 | 0.0061974317 | 0.0069793033 | ⋯ | 0.0050572323 | 0.0064288105 | 0.0085903566 | 0.0056797659 | 0.0077887755 | 0.0055504122 | 5.581396e-03 | 0.0064259582 | 5.669525e-03 | 0.0062529009 |\n",
       "| 29215330 | 0.0001191545 | 0.0001151436 | 0.0001039741 | 0.0001221315 | 0.0001291108 | 0.0001055285 | 0.0001525622 | 0.0001487107 | 0.0001211984 | ⋯ | 0.0001291960 | 0.0001177080 | 0.0001254041 | 0.0001442492 | 0.0001345308 | 0.0001159397 | 9.632669e-05 | 0.0001038189 | 8.925995e-05 | 0.0001045125 |\n",
       "| 29217500 | 0.0015921678 | 0.0015937283 | 0.0015187204 | 0.0014358066 | 0.0013983117 | 0.0016088388 | 0.0012203256 | 0.0015862199 | 0.0015564297 | ⋯ | 0.0017367344 | 0.0013909080 | 0.0015186875 | 0.0018695044 | 0.0019387182 | 0.0015336441 | 1.733782e-03 | 0.0014066857 | 1.654160e-03 | 0.0018347014 |\n",
       "| 29218080 | 0.0005071560 | 0.0005245619 | 0.0004443526 | 0.0005760295 | 0.0005003998 | 0.0004549376 | 0.0005441795 | 0.0005471427 | 0.0004878257 | ⋯ | 0.0006652047 | 0.0004126585 | 0.0004624554 | 0.0004485739 | 0.0004589844 | 0.0005470790 | 4.730627e-04 | 0.0005605599 | 5.377857e-04 | 0.0004377133 |\n",
       "| 29219250 | 0.0004844503 | 0.0004602622 | 0.0005300576 | 0.0005322738 | 0.0005284932 | 0.0004989226 | 0.0004110432 | 0.0004728332 | 0.0004812110 | ⋯ | 0.0005387920 | 0.0005028914 | 0.0004247748 | 0.0005056519 | 0.0004620590 | 0.0004947948 | 4.966184e-04 | 0.0004756725 | 5.050332e-04 | 0.0004460859 |\n",
       "| 29226090 | 0.0010677498 | 0.0008403901 | 0.0011281791 | 0.0009325908 | 0.0015226863 | 0.0009971564 | 0.0015401911 | 0.0012467010 | 0.0010698462 | ⋯ | 0.0007553333 | 0.0009122285 | 0.0008341099 | 0.0009778889 | 0.0014406557 | 0.0007635215 | 1.048320e-03 | 0.0008912614 | 1.444043e-03 | 0.0007098094 |\n",
       "| 29229250 | 0.0063722579 | 0.0071353228 | 0.0073331081 | 0.0049407703 | 0.0079212354 | 0.0069611152 | 0.0065887098 | 0.0068320925 | 0.0060479243 | ⋯ | 0.0069675984 | 0.0053693143 | 0.0060703604 | 0.0072971904 | 0.0062589397 | 0.0067783188 | 5.874588e-03 | 0.0067584466 | 4.376448e-03 | 0.0060225378 |\n",
       "| 29236620 | 0.0003241553 | 0.0003132857 | 0.0003181554 | 0.0003616684 | 0.0003997163 | 0.0003183354 | 0.0003492099 | 0.0003065631 | 0.0002764522 | ⋯ | 0.0003144077 | 0.0003501098 | 0.0003223892 | 0.0003102340 | 0.0003617667 | 0.0003167949 | 3.557767e-04 | 0.0003326600 | 3.208038e-04 | 0.0002731703 |\n",
       "| 29243631 | 0.0003282965 | 0.0002914949 | 0.0003929475 | 0.0003249147 | 0.0003461593 | 0.0003437015 | 0.0002725728 | 0.0002960093 | 0.0003172131 | ⋯ | 0.0003587444 | 0.0003660775 | 0.0003418081 | 0.0003056276 | 0.0003836920 | 0.0003453711 | 2.877058e-04 | 0.0003053008 | 3.224844e-04 | 0.0002921525 |\n",
       "| 29247850 | 0.0060085304 | 0.0067611882 | 0.0060430183 | 0.0061277912 | 0.0070133132 | 0.0056750897 | 0.0074992519 | 0.0052400027 | 0.0062825231 | ⋯ | 0.0050414279 | 0.0053118288 | 0.0069934309 | 0.0076590222 | 0.0048547517 | 0.0069399628 | 5.694146e-03 | 0.0046115878 | 4.904583e-03 | 0.0062477162 |\n",
       "| 29251231 | 0.0084712583 | 0.0065733516 | 0.0099892468 | 0.0106299668 | 0.0108114467 | 0.0084385398 | 0.0085479569 | 0.0084844277 | 0.0098454950 | ⋯ | 0.0071879150 | 0.0092495662 | 0.0095970386 | 0.0066029102 | 0.0061757808 | 0.0067283578 | 8.297597e-03 | 0.0075295835 | 9.584266e-03 | 0.0092602407 |\n",
       "| 29255740 | 0.0002867599 | 0.0002767331 | 0.0002377083 | 0.0002823631 | 0.0002464475 | 0.0002970773 | 0.0002646630 | 0.0003229133 | 0.0002405900 | ⋯ | 0.0003111758 | 0.0003187258 | 0.0003024042 | 0.0003333055 | 0.0002987162 | 0.0002964456 | 2.664892e-04 | 0.0002927472 | 2.377779e-04 | 0.0003402305 |\n",
       "| 29257551 | 0.0004035163 | 0.0003374813 | 0.0003173774 | 0.0004486181 | 0.0003892747 | 0.0003827852 | 0.0004707883 | 0.0003556297 | 0.0004309306 | ⋯ | 0.0004037435 | 0.0003323814 | 0.0003538159 | 0.0003565927 | 0.0004246419 | 0.0005154047 | 3.596281e-04 | 0.0004933132 | 3.365570e-04 | 0.0003824838 |\n",
       "| 29257790 | 0.0002803050 | 0.0002659920 | 0.0002859679 | 0.0002895216 | 0.0002474409 | 0.0002610996 | 0.0002788290 | 0.0002747142 | 0.0003126080 | ⋯ | 0.0002580887 | 0.0002808996 | 0.0003179364 | 0.0002824079 | 0.0003314695 | 0.0002517669 | 2.958334e-04 | 0.0002301081 | 2.722651e-04 | 0.0002911930 |\n",
       "| 29267141 | 0.0009463755 | 0.0006744073 | 0.0010672886 | 0.0009135921 | 0.0006694493 | 0.0011325338 | 0.0014704850 | 0.0010737518 | 0.0010513434 | ⋯ | 0.0009486936 | 0.0007911062 | 0.0007076986 | 0.0008398342 | 0.0010031548 | 0.0009706530 | 8.064684e-04 | 0.0009389547 | 9.940591e-04 | 0.0009568776 |\n",
       "| 29274460 | 0.0037958093 | 0.0045623273 | 0.0045928442 | 0.0033708626 | 0.0038392714 | 0.0036825122 | 0.0043501455 | 0.0035963808 | 0.0037942778 | ⋯ | 0.0033277282 | 0.0027975626 | 0.0032057623 | 0.0041131564 | 0.0032867718 | 0.0042022164 | 3.736913e-03 | 0.0035117122 | 4.004401e-03 | 0.0045239595 |\n",
       "| 29277081 | 0.0032119394 | 0.0034386118 | 0.0032936653 | 0.0029874942 | 0.0038131651 | 0.0026855974 | 0.0031196537 | 0.0031503589 | 0.0029804941 | ⋯ | 0.0034244942 | 0.0029032799 | 0.0034720842 | 0.0031326851 | 0.0034236820 | 0.0028097845 | 2.814211e-03 | 0.0034031215 | 2.965960e-03 | 0.0032422186 |\n",
       "| 29280480 | 0.0084820544 | 0.0077258669 | 0.0092759304 | 0.0094119773 | 0.0077541713 | 0.0069373210 | 0.0089052360 | 0.0085204872 | 0.0074955040 | ⋯ | 0.0089152580 | 0.0094471574 | 0.0104493764 | 0.0074787359 | 0.0076526649 | 0.0070397895 | 9.651061e-03 | 0.0084314583 | 8.252671e-03 | 0.0078724670 |\n",
       "| 29280890 | 0.3473743929 | 0.3496515353 | 0.3392310871 | 0.3119986758 | 0.3736412352 | 0.3446017045 | 0.3511918178 | 0.3488305369 | 0.2905613981 | ⋯ | 0.3723735991 | 0.3799960372 | 0.3274804094 | 0.3516677398 | 0.3720339667 | 0.3659570241 | 3.765448e-01 | 0.3333742748 | 3.475647e-01 | 0.3404139113 |\n",
       "| ⋮ | ⋮ | ⋮ | ⋮ | ⋮ | ⋮ | ⋮ | ⋮ | ⋮ | ⋮ | ⋱ | ⋮ | ⋮ | ⋮ | ⋮ | ⋮ | ⋮ | ⋮ | ⋮ | ⋮ | ⋮ |\n",
       "| 187531190 | 0.022823457 | 0.0241167702 | 0.021893524 | 0.028272425 | 0.0199559154 | 0.022458722 | 0.020822584 | 0.0243654473 | 0.023554210 | ⋯ | 0.0227765150 | 0.0236346802 | 0.0223147526 | 0.025544525 | 0.0234195808 | 0.022247699 | 0.023544354 | 0.0214529776 | 0.022281260 | 0.027270872 |\n",
       "| 187562010 | 0.001810916 | 0.0012461884 | 0.001539972 | 0.001920147 | 0.0018187912 | 0.001849968 | 0.001657701 | 0.0021883121 | 0.002257105 | ⋯ | 0.0015905917 | 0.0014981632 | 0.0014669410 | 0.001973310 | 0.0018185386 | 0.002075264 | 0.002326113 | 0.0012769525 | 0.001816924 | 0.001549784 |\n",
       "| 187564290 | 0.010776229 | 0.0108911257 | 0.011429758 | 0.011476364 | 0.0096055037 | 0.011251251 | 0.009079227 | 0.0119034091 | 0.011507011 | ⋯ | 0.0109196032 | 0.0098533870 | 0.0099673438 | 0.011463573 | 0.0095368564 | 0.011507576 | 0.012207204 | 0.0090039790 | 0.012408396 | 0.009430290 |\n",
       "| 187565870 | 0.001241796 | 0.0009544942 | 0.001210768 | 0.001527123 | 0.0009644806 | 0.001338351 | 0.001292461 | 0.0011503312 | 0.001248799 | ⋯ | 0.0011241200 | 0.0011924542 | 0.0011588800 | 0.001349731 | 0.0010590636 | 0.001410046 | 0.001265865 | 0.0012577512 | 0.001204264 | 0.001584022 |\n",
       "| 187577510 | 0.008368785 | 0.0080025776 | 0.008054451 | 0.008477526 | 0.0078048336 | 0.007687381 | 0.009410974 | 0.0083295042 | 0.008882137 | ⋯ | 0.0092904974 | 0.0089165808 | 0.0088570787 | 0.008627314 | 0.0081917288 | 0.007419852 | 0.008973582 | 0.0078679094 | 0.007116068 | 0.009741456 |\n",
       "| 187594641 | 0.004019309 | 0.0034302640 | 0.003611257 | 0.004815905 | 0.0039446698 | 0.003959878 | 0.004206203 | 0.0043437300 | 0.005057601 | ⋯ | 0.0047755456 | 0.0030561310 | 0.0031001543 | 0.004327066 | 0.0039187704 | 0.003479927 | 0.005399449 | 0.0033857530 | 0.003746913 | 0.004107335 |\n",
       "| 187604521 | 0.011380218 | 0.0112150490 | 0.009363204 | 0.011774277 | 0.0099488786 | 0.013675943 | 0.012314951 | 0.0131340068 | 0.011968488 | ⋯ | 0.0111244558 | 0.0124192392 | 0.0108750895 | 0.011257521 | 0.0140170236 | 0.009884367 | 0.011247790 | 0.0096468769 | 0.011612758 | 0.012253521 |\n",
       "| 187626041 | 0.013692895 | 0.0120590025 | 0.014880849 | 0.012921375 | 0.0126902355 | 0.014005806 | 0.011293276 | 0.0165209755 | 0.017431540 | ⋯ | 0.0118516795 | 0.0154176700 | 0.0138090997 | 0.014333009 | 0.0136740318 | 0.013495718 | 0.014375383 | 0.0134799962 | 0.015049246 | 0.014074426 |\n",
       "| 187634060 | 0.001061275 | 0.0008947242 | 0.001107943 | 0.001314985 | 0.0010472098 | 0.001090313 | 0.001194846 | 0.0009863045 | 0.001129349 | ⋯ | 0.0009638201 | 0.0009982168 | 0.0008806948 | 0.001171454 | 0.0009663734 | 0.001042361 | 0.001026445 | 0.0009339531 | 0.001266871 | 0.001154877 |\n",
       "| 187636041 | 0.003368569 | 0.0033381934 | 0.003015978 | 0.004415425 | 0.0024577771 | 0.002661276 | 0.003603773 | 0.0035987338 | 0.003010025 | ⋯ | 0.0037425652 | 0.0044198585 | 0.0020264113 | 0.002953364 | 0.0028896470 | 0.003601296 | 0.002484661 | 0.0028764301 | 0.003799967 | 0.006174174 |\n",
       "| 187733830 | 0.005776098 | 0.0047424972 | 0.005015142 | 0.005522777 | 0.0040463479 | 0.008074043 | 0.005664164 | 0.0057429498 | 0.006057849 | ⋯ | 0.0055625396 | 0.0071083869 | 0.0063192868 | 0.006228041 | 0.0062559958 | 0.005376373 | 0.007621000 | 0.0056594941 | 0.005299737 | 0.005142228 |\n",
       "| 187766810 | 0.001392126 | 0.0011063288 | 0.001161751 | 0.001646262 | 0.0011767272 | 0.001592563 | 0.001396309 | 0.0015576148 | 0.001393006 | ⋯ | 0.0012415791 | 0.0011528626 | 0.0012756130 | 0.001414311 | 0.0012134006 | 0.001548469 | 0.001438213 | 0.0012818152 | 0.001562289 | 0.001849451 |\n",
       "| 187768040 | 0.018370597 | 0.0190120284 | 0.018150556 | 0.020545327 | 0.0175595352 | 0.018642448 | 0.016179213 | 0.0207390331 | 0.019460821 | ⋯ | 0.0194926792 | 0.0188998822 | 0.0180404528 | 0.020797743 | 0.0188704749 | 0.016948944 | 0.019156041 | 0.0169724320 | 0.018222466 | 0.018126598 |\n",
       "| 187774590 | 0.007468451 | 0.0076410443 | 0.006251744 | 0.009253700 | 0.0056888635 | 0.008585087 | 0.008063128 | 0.0062150513 | 0.007976375 | ⋯ | 0.0082300561 | 0.0071672771 | 0.0066009952 | 0.008053396 | 0.0080103477 | 0.006198244 | 0.008623624 | 0.0066541138 | 0.007639679 | 0.008812409 |\n",
       "| 187775060 | 0.003457416 | 0.0026500118 | 0.002951695 | 0.002056310 | 0.0035774790 | 0.004117474 | 0.002840915 | 0.0047064150 | 0.005434236 | ⋯ | 0.0024829218 | 0.0032637788 | 0.0030142418 | 0.003291124 | 0.0038274634 | 0.004351866 | 0.004215546 | 0.0039111572 | 0.003238137 | 0.003299382 |\n",
       "| 187816050 | 0.010228009 | 0.0100346013 | 0.010028437 | 0.011618836 | 0.0090003703 | 0.011390639 | 0.009073550 | 0.0120876737 | 0.011237125 | ⋯ | 0.0083026525 | 0.0117777223 | 0.0110343719 | 0.011881705 | 0.0103875104 | 0.009650251 | 0.009929585 | 0.0087327858 | 0.011079191 | 0.009528710 |\n",
       "| 187827511 | 0.005897591 | 0.0062563650 | 0.005126957 | 0.005640018 | 0.0061011847 | 0.006371806 | 0.005412163 | 0.0050907148 | 0.005987133 | ⋯ | 0.0048996953 | 0.0058072824 | 0.0054519238 | 0.007487461 | 0.0068095544 | 0.006365722 | 0.005630261 | 0.0057456162 | 0.006316075 | 0.005958342 |\n",
       "| 187828510 | 0.017416926 | 0.0159841327 | 0.018205702 | 0.018746002 | 0.0168227981 | 0.018884630 | 0.015544974 | 0.0172580795 | 0.016197464 | ⋯ | 0.0190113897 | 0.0175882444 | 0.0170388574 | 0.016016462 | 0.0193295748 | 0.019283186 | 0.017730477 | 0.0171986431 | 0.019594703 | 0.017650717 |\n",
       "| 187838971 | 0.017157221 | 0.0154045267 | 0.018762442 | 0.019619218 | 0.0158336929 | 0.017437863 | 0.016552343 | 0.0166267468 | 0.015749078 | ⋯ | 0.0192804930 | 0.0170512172 | 0.0161549827 | 0.016907436 | 0.0193487682 | 0.017237325 | 0.016633055 | 0.0162977191 | 0.019502343 | 0.016934556 |\n",
       "| 187845820 | 0.022707544 | 0.0212495353 | 0.023436883 | 0.022878367 | 0.0214847189 | 0.022630995 | 0.021681982 | 0.0194306172 | 0.026564608 | ⋯ | 0.0220981067 | 0.0218845336 | 0.0228405044 | 0.022146131 | 0.0240563425 | 0.021880296 | 0.024887058 | 0.0188789466 | 0.027585372 | 0.024364747 |\n",
       "| 187902361 | 0.025406885 | 0.0233130075 | 0.025076397 | 0.025848398 | 0.0231949686 | 0.027739319 | 0.024367994 | 0.0205483736 | 0.029548062 | ⋯ | 0.0260364910 | 0.0237711906 | 0.0267887581 | 0.023823253 | 0.0261337504 | 0.023322698 | 0.029076065 | 0.0211361053 | 0.030866991 | 0.027951762 |\n",
       "| 187903010 | 0.020220081 | 0.0185601543 | 0.023265816 | 0.022207920 | 0.0203598395 | 0.019615217 | 0.019587228 | 0.0195354343 | 0.019343586 | ⋯ | 0.0226522738 | 0.0206975825 | 0.0196633421 | 0.020144724 | 0.0224620200 | 0.020030874 | 0.018206924 | 0.0186888287 | 0.021189231 | 0.020636817 |\n",
       "| 187956461 | 0.035217660 | 0.0393227796 | 0.034606855 | 0.042384376 | 0.0400859438 | 0.029627803 | 0.038826260 | 0.0291282415 | 0.034403255 | ⋯ | 0.0433137874 | 0.0334666153 | 0.0340184192 | 0.037706685 | 0.0414725118 | 0.036058759 | 0.031482663 | 0.0268362461 | 0.032536994 | 0.030326401 |\n",
       "| 187964701 | 0.022227891 | 0.0200796640 | 0.025761289 | 0.026378752 | 0.0221949016 | 0.022078392 | 0.020871057 | 0.0214731912 | 0.020383175 | ⋯ | 0.0251460370 | 0.0219418913 | 0.0217445531 | 0.022000921 | 0.0240298567 | 0.022072135 | 0.020673931 | 0.0203644862 | 0.023870942 | 0.022634873 |\n",
       "| 187969270 | 0.017702443 | 0.0157840515 | 0.019405271 | 0.020271435 | 0.0161644964 | 0.018319710 | 0.016906784 | 0.0171923164 | 0.016631188 | ⋯ | 0.0194136680 | 0.0179813138 | 0.0164002977 | 0.017075346 | 0.0195043447 | 0.018191918 | 0.016975699 | 0.0169453707 | 0.020229939 | 0.017535913 |\n",
       "| 187989740 | 0.020181829 | 0.0192636549 | 0.023029166 | 0.023386596 | 0.0182249080 | 0.019831769 | 0.019161418 | 0.0194488743 | 0.017753831 | ⋯ | 0.0231867905 | 0.0199915583 | 0.0198018792 | 0.019350435 | 0.0228933133 | 0.019185508 | 0.018951679 | 0.0180955587 | 0.022139483 | 0.020502977 |\n",
       "| 188009390 | 0.020919096 | 0.0178769469 | 0.021985951 | 0.024428091 | 0.0212557489 | 0.021047541 | 0.020219352 | 0.0206220442 | 0.018944733 | ⋯ | 0.0214923135 | 0.0203394865 | 0.0194241485 | 0.020982851 | 0.0226103706 | 0.020772885 | 0.020306842 | 0.0191695072 | 0.023932802 | 0.024696591 |\n",
       "| 188042080 | 0.019835067 | 0.0187875406 | 0.020782785 | 0.021369133 | 0.0201818655 | 0.019510735 | 0.019486114 | 0.0184496700 | 0.019552227 | ⋯ | 0.0216271196 | 0.0205444469 | 0.0188025779 | 0.018635909 | 0.0221001248 | 0.020924335 | 0.019521670 | 0.0180395441 | 0.021972186 | 0.019263530 |\n",
       "| 188115120 | 0.017411171 | 0.0170410968 | 0.018830875 | 0.015949718 | 0.0155853319 | 0.016731755 | 0.014521584 | 0.0199572132 | 0.021894844 | ⋯ | 0.0165419636 | 0.0179621759 | 0.0194566876 | 0.015564303 | 0.0184629451 | 0.018176037 | 0.018649864 | 0.0162577394 | 0.016477704 | 0.018191976 |\n",
       "| 188116871 | 0.001768369 | 0.0017857644 | 0.001564993 | 0.001796273 | 0.0017200974 | 0.001788803 | 0.001473489 | 0.0016678434 | 0.001919914 | ⋯ | 0.0015662099 | 0.0018015281 | 0.0018979616 | 0.001827303 | 0.0019666750 | 0.002211285 | 0.001495631 | 0.0015696451 | 0.001869835 | 0.002036158 |\n",
       "\n"
      ],
      "text/plain": [
       "      numero_de_cliente prob         prob_1       prob_2       prob_3      \n",
       "1     29186441          0.0014399932 0.0013913343 0.0016599631 0.0011416735\n",
       "2     29187730          0.0003225847 0.0003455120 0.0002708392 0.0003624873\n",
       "3     29187961          0.0018245424 0.0018125185 0.0022524221 0.0022983995\n",
       "4     29193101          0.0004787530 0.0004545528 0.0005400424 0.0006161813\n",
       "5     29193281          0.0007251824 0.0006060588 0.0006437478 0.0006586358\n",
       "6     29198891          0.0009268414 0.0012569776 0.0009895930 0.0007979259\n",
       "7     29200651          0.0162376773 0.0161511969 0.0136231189 0.0141621262\n",
       "8     29200770          0.0001439586 0.0001494687 0.0001347470 0.0001657924\n",
       "9     29201701          0.0005924317 0.0005572752 0.0006525586 0.0005210445\n",
       "10    29205441          0.1987500446 0.1797980557 0.2386330025 0.1886089446\n",
       "11    29207790          0.0010699910 0.0010526838 0.0009495873 0.0010896368\n",
       "12    29207901          0.0061462818 0.0068620430 0.0043745421 0.0068835415\n",
       "13    29215330          0.0001191545 0.0001151436 0.0001039741 0.0001221315\n",
       "14    29217500          0.0015921678 0.0015937283 0.0015187204 0.0014358066\n",
       "15    29218080          0.0005071560 0.0005245619 0.0004443526 0.0005760295\n",
       "16    29219250          0.0004844503 0.0004602622 0.0005300576 0.0005322738\n",
       "17    29226090          0.0010677498 0.0008403901 0.0011281791 0.0009325908\n",
       "18    29229250          0.0063722579 0.0071353228 0.0073331081 0.0049407703\n",
       "19    29236620          0.0003241553 0.0003132857 0.0003181554 0.0003616684\n",
       "20    29243631          0.0003282965 0.0002914949 0.0003929475 0.0003249147\n",
       "21    29247850          0.0060085304 0.0067611882 0.0060430183 0.0061277912\n",
       "22    29251231          0.0084712583 0.0065733516 0.0099892468 0.0106299668\n",
       "23    29255740          0.0002867599 0.0002767331 0.0002377083 0.0002823631\n",
       "24    29257551          0.0004035163 0.0003374813 0.0003173774 0.0004486181\n",
       "25    29257790          0.0002803050 0.0002659920 0.0002859679 0.0002895216\n",
       "26    29267141          0.0009463755 0.0006744073 0.0010672886 0.0009135921\n",
       "27    29274460          0.0037958093 0.0045623273 0.0045928442 0.0033708626\n",
       "28    29277081          0.0032119394 0.0034386118 0.0032936653 0.0029874942\n",
       "29    29280480          0.0084820544 0.0077258669 0.0092759304 0.0094119773\n",
       "30    29280890          0.3473743929 0.3496515353 0.3392310871 0.3119986758\n",
       "⋮     ⋮                 ⋮            ⋮            ⋮            ⋮           \n",
       "33065 187531190         0.022823457  0.0241167702 0.021893524  0.028272425 \n",
       "33066 187562010         0.001810916  0.0012461884 0.001539972  0.001920147 \n",
       "33067 187564290         0.010776229  0.0108911257 0.011429758  0.011476364 \n",
       "33068 187565870         0.001241796  0.0009544942 0.001210768  0.001527123 \n",
       "33069 187577510         0.008368785  0.0080025776 0.008054451  0.008477526 \n",
       "33070 187594641         0.004019309  0.0034302640 0.003611257  0.004815905 \n",
       "33071 187604521         0.011380218  0.0112150490 0.009363204  0.011774277 \n",
       "33072 187626041         0.013692895  0.0120590025 0.014880849  0.012921375 \n",
       "33073 187634060         0.001061275  0.0008947242 0.001107943  0.001314985 \n",
       "33074 187636041         0.003368569  0.0033381934 0.003015978  0.004415425 \n",
       "33075 187733830         0.005776098  0.0047424972 0.005015142  0.005522777 \n",
       "33076 187766810         0.001392126  0.0011063288 0.001161751  0.001646262 \n",
       "33077 187768040         0.018370597  0.0190120284 0.018150556  0.020545327 \n",
       "33078 187774590         0.007468451  0.0076410443 0.006251744  0.009253700 \n",
       "33079 187775060         0.003457416  0.0026500118 0.002951695  0.002056310 \n",
       "33080 187816050         0.010228009  0.0100346013 0.010028437  0.011618836 \n",
       "33081 187827511         0.005897591  0.0062563650 0.005126957  0.005640018 \n",
       "33082 187828510         0.017416926  0.0159841327 0.018205702  0.018746002 \n",
       "33083 187838971         0.017157221  0.0154045267 0.018762442  0.019619218 \n",
       "33084 187845820         0.022707544  0.0212495353 0.023436883  0.022878367 \n",
       "33085 187902361         0.025406885  0.0233130075 0.025076397  0.025848398 \n",
       "33086 187903010         0.020220081  0.0185601543 0.023265816  0.022207920 \n",
       "33087 187956461         0.035217660  0.0393227796 0.034606855  0.042384376 \n",
       "33088 187964701         0.022227891  0.0200796640 0.025761289  0.026378752 \n",
       "33089 187969270         0.017702443  0.0157840515 0.019405271  0.020271435 \n",
       "33090 187989740         0.020181829  0.0192636549 0.023029166  0.023386596 \n",
       "33091 188009390         0.020919096  0.0178769469 0.021985951  0.024428091 \n",
       "33092 188042080         0.019835067  0.0187875406 0.020782785  0.021369133 \n",
       "33093 188115120         0.017411171  0.0170410968 0.018830875  0.015949718 \n",
       "33094 188116871         0.001768369  0.0017857644 0.001564993  0.001796273 \n",
       "      prob_4       prob_5       prob_6       prob_7       prob_8       ⋯\n",
       "1     0.0013012665 0.0015167213 0.0014476383 0.0014740846 0.0012759120 ⋯\n",
       "2     0.0002516304 0.0002708674 0.0003509250 0.0003182133 0.0003184386 ⋯\n",
       "3     0.0013149787 0.0014725475 0.0020650892 0.0019305962 0.0015667493 ⋯\n",
       "4     0.0005250889 0.0004915197 0.0004307528 0.0005748957 0.0004412289 ⋯\n",
       "5     0.0007205255 0.0008174601 0.0007082007 0.0006504329 0.0012871027 ⋯\n",
       "6     0.0006811363 0.0010644189 0.0007278089 0.0007993632 0.0007351704 ⋯\n",
       "7     0.0143693199 0.0183003763 0.0165067595 0.0217874191 0.0150976115 ⋯\n",
       "8     0.0001224950 0.0001262426 0.0001445371 0.0001346464 0.0001388233 ⋯\n",
       "9     0.0007248694 0.0006643767 0.0006041150 0.0005531619 0.0007917974 ⋯\n",
       "10    0.1840692766 0.1889533432 0.2126067099 0.1744427074 0.2248465230 ⋯\n",
       "11    0.0013772818 0.0010083247 0.0008026572 0.0013267825 0.0012825811 ⋯\n",
       "12    0.0062813943 0.0062675000 0.0058789430 0.0061974317 0.0069793033 ⋯\n",
       "13    0.0001291108 0.0001055285 0.0001525622 0.0001487107 0.0001211984 ⋯\n",
       "14    0.0013983117 0.0016088388 0.0012203256 0.0015862199 0.0015564297 ⋯\n",
       "15    0.0005003998 0.0004549376 0.0005441795 0.0005471427 0.0004878257 ⋯\n",
       "16    0.0005284932 0.0004989226 0.0004110432 0.0004728332 0.0004812110 ⋯\n",
       "17    0.0015226863 0.0009971564 0.0015401911 0.0012467010 0.0010698462 ⋯\n",
       "18    0.0079212354 0.0069611152 0.0065887098 0.0068320925 0.0060479243 ⋯\n",
       "19    0.0003997163 0.0003183354 0.0003492099 0.0003065631 0.0002764522 ⋯\n",
       "20    0.0003461593 0.0003437015 0.0002725728 0.0002960093 0.0003172131 ⋯\n",
       "21    0.0070133132 0.0056750897 0.0074992519 0.0052400027 0.0062825231 ⋯\n",
       "22    0.0108114467 0.0084385398 0.0085479569 0.0084844277 0.0098454950 ⋯\n",
       "23    0.0002464475 0.0002970773 0.0002646630 0.0003229133 0.0002405900 ⋯\n",
       "24    0.0003892747 0.0003827852 0.0004707883 0.0003556297 0.0004309306 ⋯\n",
       "25    0.0002474409 0.0002610996 0.0002788290 0.0002747142 0.0003126080 ⋯\n",
       "26    0.0006694493 0.0011325338 0.0014704850 0.0010737518 0.0010513434 ⋯\n",
       "27    0.0038392714 0.0036825122 0.0043501455 0.0035963808 0.0037942778 ⋯\n",
       "28    0.0038131651 0.0026855974 0.0031196537 0.0031503589 0.0029804941 ⋯\n",
       "29    0.0077541713 0.0069373210 0.0089052360 0.0085204872 0.0074955040 ⋯\n",
       "30    0.3736412352 0.3446017045 0.3511918178 0.3488305369 0.2905613981 ⋯\n",
       "⋮     ⋮            ⋮            ⋮            ⋮            ⋮            ⋱\n",
       "33065 0.0199559154 0.022458722  0.020822584  0.0243654473 0.023554210  ⋯\n",
       "33066 0.0018187912 0.001849968  0.001657701  0.0021883121 0.002257105  ⋯\n",
       "33067 0.0096055037 0.011251251  0.009079227  0.0119034091 0.011507011  ⋯\n",
       "33068 0.0009644806 0.001338351  0.001292461  0.0011503312 0.001248799  ⋯\n",
       "33069 0.0078048336 0.007687381  0.009410974  0.0083295042 0.008882137  ⋯\n",
       "33070 0.0039446698 0.003959878  0.004206203  0.0043437300 0.005057601  ⋯\n",
       "33071 0.0099488786 0.013675943  0.012314951  0.0131340068 0.011968488  ⋯\n",
       "33072 0.0126902355 0.014005806  0.011293276  0.0165209755 0.017431540  ⋯\n",
       "33073 0.0010472098 0.001090313  0.001194846  0.0009863045 0.001129349  ⋯\n",
       "33074 0.0024577771 0.002661276  0.003603773  0.0035987338 0.003010025  ⋯\n",
       "33075 0.0040463479 0.008074043  0.005664164  0.0057429498 0.006057849  ⋯\n",
       "33076 0.0011767272 0.001592563  0.001396309  0.0015576148 0.001393006  ⋯\n",
       "33077 0.0175595352 0.018642448  0.016179213  0.0207390331 0.019460821  ⋯\n",
       "33078 0.0056888635 0.008585087  0.008063128  0.0062150513 0.007976375  ⋯\n",
       "33079 0.0035774790 0.004117474  0.002840915  0.0047064150 0.005434236  ⋯\n",
       "33080 0.0090003703 0.011390639  0.009073550  0.0120876737 0.011237125  ⋯\n",
       "33081 0.0061011847 0.006371806  0.005412163  0.0050907148 0.005987133  ⋯\n",
       "33082 0.0168227981 0.018884630  0.015544974  0.0172580795 0.016197464  ⋯\n",
       "33083 0.0158336929 0.017437863  0.016552343  0.0166267468 0.015749078  ⋯\n",
       "33084 0.0214847189 0.022630995  0.021681982  0.0194306172 0.026564608  ⋯\n",
       "33085 0.0231949686 0.027739319  0.024367994  0.0205483736 0.029548062  ⋯\n",
       "33086 0.0203598395 0.019615217  0.019587228  0.0195354343 0.019343586  ⋯\n",
       "33087 0.0400859438 0.029627803  0.038826260  0.0291282415 0.034403255  ⋯\n",
       "33088 0.0221949016 0.022078392  0.020871057  0.0214731912 0.020383175  ⋯\n",
       "33089 0.0161644964 0.018319710  0.016906784  0.0171923164 0.016631188  ⋯\n",
       "33090 0.0182249080 0.019831769  0.019161418  0.0194488743 0.017753831  ⋯\n",
       "33091 0.0212557489 0.021047541  0.020219352  0.0206220442 0.018944733  ⋯\n",
       "33092 0.0201818655 0.019510735  0.019486114  0.0184496700 0.019552227  ⋯\n",
       "33093 0.0155853319 0.016731755  0.014521584  0.0199572132 0.021894844  ⋯\n",
       "33094 0.0017200974 0.001788803  0.001473489  0.0016678434 0.001919914  ⋯\n",
       "      prob_11      prob_12      prob_13      prob_14      prob_15     \n",
       "1     0.0018167931 0.0012599845 0.0012799865 0.0016630030 0.0015643806\n",
       "2     0.0002971863 0.0003088992 0.0003161094 0.0004408312 0.0003349258\n",
       "3     0.0017920075 0.0018495411 0.0016957570 0.0017865177 0.0021527256\n",
       "4     0.0004030491 0.0004754830 0.0004347346 0.0004381273 0.0005466449\n",
       "5     0.0006599756 0.0006241963 0.0007168716 0.0007865607 0.0008144867\n",
       "6     0.0008484317 0.0007869625 0.0011041526 0.0008428205 0.0010331952\n",
       "7     0.0147833250 0.0183511698 0.0162181329 0.0136912022 0.0166885860\n",
       "8     0.0001505826 0.0001569382 0.0001454611 0.0001411944 0.0001608207\n",
       "9     0.0005667980 0.0005406244 0.0005640574 0.0005533213 0.0005809204\n",
       "10    0.1694207679 0.1810124565 0.2235062902 0.2269210697 0.1961550508\n",
       "11    0.0009741795 0.0010533438 0.0013531345 0.0008477569 0.0012261631\n",
       "12    0.0050572323 0.0064288105 0.0085903566 0.0056797659 0.0077887755\n",
       "13    0.0001291960 0.0001177080 0.0001254041 0.0001442492 0.0001345308\n",
       "14    0.0017367344 0.0013909080 0.0015186875 0.0018695044 0.0019387182\n",
       "15    0.0006652047 0.0004126585 0.0004624554 0.0004485739 0.0004589844\n",
       "16    0.0005387920 0.0005028914 0.0004247748 0.0005056519 0.0004620590\n",
       "17    0.0007553333 0.0009122285 0.0008341099 0.0009778889 0.0014406557\n",
       "18    0.0069675984 0.0053693143 0.0060703604 0.0072971904 0.0062589397\n",
       "19    0.0003144077 0.0003501098 0.0003223892 0.0003102340 0.0003617667\n",
       "20    0.0003587444 0.0003660775 0.0003418081 0.0003056276 0.0003836920\n",
       "21    0.0050414279 0.0053118288 0.0069934309 0.0076590222 0.0048547517\n",
       "22    0.0071879150 0.0092495662 0.0095970386 0.0066029102 0.0061757808\n",
       "23    0.0003111758 0.0003187258 0.0003024042 0.0003333055 0.0002987162\n",
       "24    0.0004037435 0.0003323814 0.0003538159 0.0003565927 0.0004246419\n",
       "25    0.0002580887 0.0002808996 0.0003179364 0.0002824079 0.0003314695\n",
       "26    0.0009486936 0.0007911062 0.0007076986 0.0008398342 0.0010031548\n",
       "27    0.0033277282 0.0027975626 0.0032057623 0.0041131564 0.0032867718\n",
       "28    0.0034244942 0.0029032799 0.0034720842 0.0031326851 0.0034236820\n",
       "29    0.0089152580 0.0094471574 0.0104493764 0.0074787359 0.0076526649\n",
       "30    0.3723735991 0.3799960372 0.3274804094 0.3516677398 0.3720339667\n",
       "⋮     ⋮            ⋮            ⋮            ⋮            ⋮           \n",
       "33065 0.0227765150 0.0236346802 0.0223147526 0.025544525  0.0234195808\n",
       "33066 0.0015905917 0.0014981632 0.0014669410 0.001973310  0.0018185386\n",
       "33067 0.0109196032 0.0098533870 0.0099673438 0.011463573  0.0095368564\n",
       "33068 0.0011241200 0.0011924542 0.0011588800 0.001349731  0.0010590636\n",
       "33069 0.0092904974 0.0089165808 0.0088570787 0.008627314  0.0081917288\n",
       "33070 0.0047755456 0.0030561310 0.0031001543 0.004327066  0.0039187704\n",
       "33071 0.0111244558 0.0124192392 0.0108750895 0.011257521  0.0140170236\n",
       "33072 0.0118516795 0.0154176700 0.0138090997 0.014333009  0.0136740318\n",
       "33073 0.0009638201 0.0009982168 0.0008806948 0.001171454  0.0009663734\n",
       "33074 0.0037425652 0.0044198585 0.0020264113 0.002953364  0.0028896470\n",
       "33075 0.0055625396 0.0071083869 0.0063192868 0.006228041  0.0062559958\n",
       "33076 0.0012415791 0.0011528626 0.0012756130 0.001414311  0.0012134006\n",
       "33077 0.0194926792 0.0188998822 0.0180404528 0.020797743  0.0188704749\n",
       "33078 0.0082300561 0.0071672771 0.0066009952 0.008053396  0.0080103477\n",
       "33079 0.0024829218 0.0032637788 0.0030142418 0.003291124  0.0038274634\n",
       "33080 0.0083026525 0.0117777223 0.0110343719 0.011881705  0.0103875104\n",
       "33081 0.0048996953 0.0058072824 0.0054519238 0.007487461  0.0068095544\n",
       "33082 0.0190113897 0.0175882444 0.0170388574 0.016016462  0.0193295748\n",
       "33083 0.0192804930 0.0170512172 0.0161549827 0.016907436  0.0193487682\n",
       "33084 0.0220981067 0.0218845336 0.0228405044 0.022146131  0.0240563425\n",
       "33085 0.0260364910 0.0237711906 0.0267887581 0.023823253  0.0261337504\n",
       "33086 0.0226522738 0.0206975825 0.0196633421 0.020144724  0.0224620200\n",
       "33087 0.0433137874 0.0334666153 0.0340184192 0.037706685  0.0414725118\n",
       "33088 0.0251460370 0.0219418913 0.0217445531 0.022000921  0.0240298567\n",
       "33089 0.0194136680 0.0179813138 0.0164002977 0.017075346  0.0195043447\n",
       "33090 0.0231867905 0.0199915583 0.0198018792 0.019350435  0.0228933133\n",
       "33091 0.0214923135 0.0203394865 0.0194241485 0.020982851  0.0226103706\n",
       "33092 0.0216271196 0.0205444469 0.0188025779 0.018635909  0.0221001248\n",
       "33093 0.0165419636 0.0179621759 0.0194566876 0.015564303  0.0184629451\n",
       "33094 0.0015662099 0.0018015281 0.0018979616 0.001827303  0.0019666750\n",
       "      prob_16      prob_17      prob_18      prob_19      prob_20     \n",
       "1     0.0016625495 1.511279e-03 0.0015399344 1.564171e-03 0.0010772615\n",
       "2     0.0003556092 2.120765e-04 0.0003183228 3.560553e-04 0.0003211705\n",
       "3     0.0017737964 2.018330e-03 0.0018384441 1.742316e-03 0.0019531392\n",
       "4     0.0005115025 4.325808e-04 0.0004187798 4.419583e-04 0.0005215441\n",
       "5     0.0007319280 6.927174e-04 0.0006198003 8.024320e-04 0.0005314469\n",
       "6     0.0009051355 1.067672e-03 0.0008870254 1.042093e-03 0.0010031927\n",
       "7     0.0193372131 1.746140e-02 0.0128955432 1.599483e-02 0.0155028532\n",
       "8     0.0001242358 1.694988e-04 0.0001653810 1.394800e-04 0.0001288118\n",
       "9     0.0006451090 5.943579e-04 0.0005120577 6.171063e-04 0.0005359635\n",
       "10    0.1699855641 1.852834e-01 0.1901774613 2.071170e-01 0.2292918199\n",
       "11    0.0008127637 1.094136e-03 0.0008644713 1.351151e-03 0.0010083812\n",
       "12    0.0055504122 5.581396e-03 0.0064259582 5.669525e-03 0.0062529009\n",
       "13    0.0001159397 9.632669e-05 0.0001038189 8.925995e-05 0.0001045125\n",
       "14    0.0015336441 1.733782e-03 0.0014066857 1.654160e-03 0.0018347014\n",
       "15    0.0005470790 4.730627e-04 0.0005605599 5.377857e-04 0.0004377133\n",
       "16    0.0004947948 4.966184e-04 0.0004756725 5.050332e-04 0.0004460859\n",
       "17    0.0007635215 1.048320e-03 0.0008912614 1.444043e-03 0.0007098094\n",
       "18    0.0067783188 5.874588e-03 0.0067584466 4.376448e-03 0.0060225378\n",
       "19    0.0003167949 3.557767e-04 0.0003326600 3.208038e-04 0.0002731703\n",
       "20    0.0003453711 2.877058e-04 0.0003053008 3.224844e-04 0.0002921525\n",
       "21    0.0069399628 5.694146e-03 0.0046115878 4.904583e-03 0.0062477162\n",
       "22    0.0067283578 8.297597e-03 0.0075295835 9.584266e-03 0.0092602407\n",
       "23    0.0002964456 2.664892e-04 0.0002927472 2.377779e-04 0.0003402305\n",
       "24    0.0005154047 3.596281e-04 0.0004933132 3.365570e-04 0.0003824838\n",
       "25    0.0002517669 2.958334e-04 0.0002301081 2.722651e-04 0.0002911930\n",
       "26    0.0009706530 8.064684e-04 0.0009389547 9.940591e-04 0.0009568776\n",
       "27    0.0042022164 3.736913e-03 0.0035117122 4.004401e-03 0.0045239595\n",
       "28    0.0028097845 2.814211e-03 0.0034031215 2.965960e-03 0.0032422186\n",
       "29    0.0070397895 9.651061e-03 0.0084314583 8.252671e-03 0.0078724670\n",
       "30    0.3659570241 3.765448e-01 0.3333742748 3.475647e-01 0.3404139113\n",
       "⋮     ⋮            ⋮            ⋮            ⋮            ⋮           \n",
       "33065 0.022247699  0.023544354  0.0214529776 0.022281260  0.027270872 \n",
       "33066 0.002075264  0.002326113  0.0012769525 0.001816924  0.001549784 \n",
       "33067 0.011507576  0.012207204  0.0090039790 0.012408396  0.009430290 \n",
       "33068 0.001410046  0.001265865  0.0012577512 0.001204264  0.001584022 \n",
       "33069 0.007419852  0.008973582  0.0078679094 0.007116068  0.009741456 \n",
       "33070 0.003479927  0.005399449  0.0033857530 0.003746913  0.004107335 \n",
       "33071 0.009884367  0.011247790  0.0096468769 0.011612758  0.012253521 \n",
       "33072 0.013495718  0.014375383  0.0134799962 0.015049246  0.014074426 \n",
       "33073 0.001042361  0.001026445  0.0009339531 0.001266871  0.001154877 \n",
       "33074 0.003601296  0.002484661  0.0028764301 0.003799967  0.006174174 \n",
       "33075 0.005376373  0.007621000  0.0056594941 0.005299737  0.005142228 \n",
       "33076 0.001548469  0.001438213  0.0012818152 0.001562289  0.001849451 \n",
       "33077 0.016948944  0.019156041  0.0169724320 0.018222466  0.018126598 \n",
       "33078 0.006198244  0.008623624  0.0066541138 0.007639679  0.008812409 \n",
       "33079 0.004351866  0.004215546  0.0039111572 0.003238137  0.003299382 \n",
       "33080 0.009650251  0.009929585  0.0087327858 0.011079191  0.009528710 \n",
       "33081 0.006365722  0.005630261  0.0057456162 0.006316075  0.005958342 \n",
       "33082 0.019283186  0.017730477  0.0171986431 0.019594703  0.017650717 \n",
       "33083 0.017237325  0.016633055  0.0162977191 0.019502343  0.016934556 \n",
       "33084 0.021880296  0.024887058  0.0188789466 0.027585372  0.024364747 \n",
       "33085 0.023322698  0.029076065  0.0211361053 0.030866991  0.027951762 \n",
       "33086 0.020030874  0.018206924  0.0186888287 0.021189231  0.020636817 \n",
       "33087 0.036058759  0.031482663  0.0268362461 0.032536994  0.030326401 \n",
       "33088 0.022072135  0.020673931  0.0203644862 0.023870942  0.022634873 \n",
       "33089 0.018191918  0.016975699  0.0169453707 0.020229939  0.017535913 \n",
       "33090 0.019185508  0.018951679  0.0180955587 0.022139483  0.020502977 \n",
       "33091 0.020772885  0.020306842  0.0191695072 0.023932802  0.024696591 \n",
       "33092 0.020924335  0.019521670  0.0180395441 0.021972186  0.019263530 \n",
       "33093 0.018176037  0.018649864  0.0162577394 0.016477704  0.018191976 \n",
       "33094 0.002211285  0.001495631  0.0015696451 0.001869835  0.002036158 "
      ]
     },
     "metadata": {},
     "output_type": "display_data"
    }
   ],
   "source": [
    "tb_prediccion"
   ]
  },
  {
   "cell_type": "code",
   "execution_count": 136,
   "id": "a057b0a6-7eb4-41a1-bcee-8af9ae96b9b1",
   "metadata": {
    "vscode": {
     "languageId": "r"
    }
   },
   "outputs": [],
   "source": [
    "# grabo las probabilidad del modelo\n",
    "#  me va a ser util para hacer Ensembles de modelos\n",
    "fwrite(tb_prediccion,\n",
    "       \n",
    "  file= \"prediccion.txt\",\n",
    "  sep= \"\\t\"\n",
    ")"
   ]
  },
  {
   "cell_type": "markdown",
   "id": "3ea80a8a-e641-4f89-ac7a-41560f0d08d4",
   "metadata": {},
   "source": [
    "#### Kaggle Competition Submit Semillerio"
   ]
  },
  {
   "cell_type": "code",
   "execution_count": 137,
   "id": "c58aa14f-3660-46f7-aaac-ee65787e47f3",
   "metadata": {
    "vscode": {
     "languageId": "r"
    }
   },
   "outputs": [
    {
     "name": "stderr",
     "output_type": "stream",
     "text": [
      "Warning message in dir.create(\"kaggle\"):\n",
      "“'kaggle' already exists”\n"
     ]
    },
    {
     "name": "stdout",
     "output_type": "stream",
     "text": [
      "Successfully submitted to Data Mining, Analista Jr 2025A \n",
      "Successfully submitted to Data Mining, Analista Jr 2025A \n",
      "Successfully submitted to Data Mining, Analista Jr 2025A \n",
      "Successfully submitted to Data Mining, Analista Jr 2025A \n",
      "Successfully submitted to Data Mining, Analista Jr 2025A \n",
      "Successfully submitted to Data Mining, Analista Jr 2025A \n",
      "Successfully submitted to Data Mining, Analista Jr 2025A \n"
     ]
    }
   ],
   "source": [
    "# genero archivos con los  \"envios\" mejores\n",
    "# suba TODOS los archivos a Kaggle\n",
    "\n",
    "PARAM$kaggle$competencia <- \"data-mining-analista-jr-2025-a\"\n",
    "PARAM$kaggle$cortes <- seq(1800, 2400, by = 100)\n",
    "\n",
    "# ordeno por probabilidad descendente\n",
    "setorder(tb_prediccion, -prob)\n",
    "\n",
    "dir.create(\"kaggle\")\n",
    "\n",
    "for (envios in PARAM$kaggle$cortes) {\n",
    "\n",
    "  tb_prediccion[, Predicted := 0L] # seteo inicial a 0\n",
    "  tb_prediccion[1:envios, Predicted := 1L] # marclo los primeros\n",
    "\n",
    "  archivo_kaggle <- paste0(\n",
    "    \"./kaggle/KA\",\n",
    "    PARAM$experimento, \"_\",\n",
    "    \"s\", length(PARAM$FT$semillas), \"_\",\n",
    "    envios, \".csv\")\n",
    "\n",
    "  # grabo el archivo\n",
    "  fwrite(tb_prediccion[, list(numero_de_cliente, Predicted)],\n",
    "    file= archivo_kaggle,\n",
    "    sep= \",\"\n",
    "  )\n",
    "\n",
    "  # subida a Kaggle, armo la linea de comando\n",
    "  comando <- \"kaggle competitions submit\"\n",
    "  competencia <- paste(\"-c\", PARAM$kaggle$competencia)\n",
    "  arch <- paste( \"-f\", archivo_kaggle)\n",
    "\n",
    "  mensaje <- paste0(\"-m 'envios=\", envios,\n",
    "  \"  semilla=\", PARAM$semilla_primigenia,\n",
    "    \"'\" )\n",
    "\n",
    "  linea <- paste( comando, competencia, arch, mensaje)\n",
    "\n",
    "  salida <- system(linea, intern=TRUE) # el submit a Kaggle\n",
    "  cat(salida, \"\\n\")\n",
    "}"
   ]
  },
  {
   "cell_type": "code",
   "execution_count": 138,
   "id": "c4393730-1d98-4b82-8426-121db6a9f390",
   "metadata": {
    "vscode": {
     "languageId": "r"
    }
   },
   "outputs": [],
   "source": [
    "# grabo los parametros\n",
    "if( !require(\"yaml\")) install.packages(\"yaml\")\n",
    "require(\"yaml\")\n",
    "\n",
    "write_yaml( PARAM, file=\"PARAM.yml\")"
   ]
  },
  {
   "cell_type": "markdown",
   "id": "d80c7271-d998-47e6-8963-97863166a91a",
   "metadata": {},
   "source": [
    "#### Comparando modelos"
   ]
  },
  {
   "cell_type": "code",
   "execution_count": null,
   "id": "c065d0b6-6c44-4cc0-aaac-a368320c8eed",
   "metadata": {
    "vscode": {
     "languageId": "r"
    }
   },
   "outputs": [],
   "source": [
    "# Instalar y cargar paquetes si no están instalados\n",
    "install.packages(\"tidyverse\")\n",
    "library(tidyverse)\n"
   ]
  },
  {
   "cell_type": "code",
   "execution_count": null,
   "id": "66647c24-eda6-46e2-ad85-ca5192cfa104",
   "metadata": {
    "vscode": {
     "languageId": "r"
    }
   },
   "outputs": [],
   "source": [
    "#Ingreso los resultados de los experimentos como un dataframe\n",
    "\n",
    "datos <- data.frame(\n",
    "  Experimento = c(\"S1\", \"S3\", \"S3_20\", \"S5\", \"S5_20\", \"O1\", \"O2\", \"O3\", \"O4\"),\n",
    "  `1800` = c(6445, 6815, 6525, 6805, 6155, 6455, 5404, 5504, 6625),\n",
    "  `1900` = c(6535, 6545, 6575, 6915, 7386, 6135, 5534, 5594, 6345),\n",
    "  `2000` = c(6675, 7105, 6665, 7085, 7055, 6215, 5284, 5304, 7306),\n",
    "  `2100` = c(6395, 7215, 7506, 6805, 6765, 5874, 5354, 5764, 7025),\n",
    "  `2200` = c(6024, 7296, 7245, 6955, 7266, 5594, 5084, 6295, 6735),\n",
    "  `2300` = c(6155, 7005, 7296, 6695, 6985, 5334, 5604, 6705, 6735),\n",
    "  `2400` = c(5934, 6695, 7005, 7165, 7025, 5464, 5794, 6325, 6445)\n",
    ")\n",
    "\n",
    "# Mostrar la tabla\n",
    "print(datos)"
   ]
  },
  {
   "cell_type": "code",
   "execution_count": null,
   "id": "b06e7d57-a6aa-4205-af6e-ba0458153eb9",
   "metadata": {
    "vscode": {
     "languageId": "r"
    }
   },
   "outputs": [],
   "source": [
    "#Trasponemos los datos\n",
    "\n",
    "datos <- datos %>%\n",
    "  mutate(ID = paste0(Experimento, \"_\", row_number()))\n",
    "\n",
    "datos_largos <- datos %>%\n",
    "  pivot_longer(cols = starts_with(\"X\") | matches(\"^\\\\d{4}$\"), names_to = \"Envio\", values_to = \"Ganancia\") %>%\n",
    "  mutate(Envio = as.numeric(gsub(\"X\", \"\", Envio)))  # Limpieza si es necesario\n",
    "\n",
    "datos_largos"
   ]
  },
  {
   "cell_type": "code",
   "execution_count": null,
   "id": "08612aa5-359c-4c9c-ace5-118469e59edd",
   "metadata": {
    "vscode": {
     "languageId": "r"
    }
   },
   "outputs": [],
   "source": [
    "options(repr.plot.width = 15, repr.plot.height = 8)  # ancho x alto en pulgadas\n",
    "\n",
    "ggplot(datos_largos, aes(x = Envio, y = Ganancia, color = Experimento, group = ID)) +\n",
    "  geom_line(size = 1) +\n",
    "  geom_point(size = 2) +\n",
    "  geom_text(aes(label = Ganancia), vjust = -0.7, size = 5) +\n",
    "  labs(title = \"Evolución de valores por experimento\",\n",
    "       x = \"Envios\",\n",
    "       y = \"Ganancia\",\n",
    "       color = \"Experimento\") +\n",
    "  theme_minimal() +\n",
    " theme(\n",
    "    plot.title = element_text(size = 20, face = \"bold\"),   # tamaño del título\n",
    "    axis.text = element_text(size = 14),               # tamaño título eje X\n",
    "    legend.text  = element_text(size = 14)                # tamaño texto leyenda\n",
    "  )"
   ]
  },
  {
   "cell_type": "code",
   "execution_count": null,
   "id": "4b8292d6-53be-486b-993a-9ac8694a4f8c",
   "metadata": {
    "vscode": {
     "languageId": "r"
    }
   },
   "outputs": [],
   "source": [
    "options(repr.plot.width = 15, repr.plot.height = 8)  # ancho x alto en pulgadas\n",
    "\n",
    "ggplot(datos_largos_ss, aes(x = Envio, y = Ganancia, color = Experimento, group = ID)) +\n",
    "  geom_line(size = 1) +\n",
    "  geom_point(size = 2) +\n",
    "  geom_text(aes(label = Ganancia), vjust = -0.7, size = 5) +\n",
    "  labs(title = \"Evolución de valores por experimento\",\n",
    "       x = \"Envios\",\n",
    "       y = \"Ganancia\",\n",
    "       color = \"Experimento\") +\n",
    "  theme_minimal() +\n",
    " theme(\n",
    "    plot.title = element_text(size = 20, face = \"bold\"),   # tamaño del título\n",
    "    axis.text = element_text(size = 14),               # tamaño título eje X\n",
    "    legend.text  = element_text(size = 14)                # tamaño texto leyenda\n",
    "  )"
   ]
  },
  {
   "cell_type": "code",
   "execution_count": null,
   "id": "deed0702-bb70-4146-91cb-25850fd0c594",
   "metadata": {
    "vscode": {
     "languageId": "r"
    }
   },
   "outputs": [],
   "source": [
    "#Extraigo la ganancia original\n",
    "ganancia_S1 <- datos %>%\n",
    "  filter(Experimento == \"S1\") %>%\n",
    "  select(where(is.numeric)) %>%\n",
    "  unlist(use.names = FALSE) %>%\n",
    "  as.numeric() %>%\n",
    "  na.omit()\n",
    "\n",
    "ganancia_O1 <- datos %>%\n",
    "  filter(Experimento == \"O1\") %>%\n",
    "  select(where(is.numeric)) %>%\n",
    "  unlist(use.names = FALSE) %>%\n",
    "  as.numeric() %>%\n",
    "  na.omit()\n",
    "\n",
    "ganancia_S1\n",
    "ganancia_O1"
   ]
  },
  {
   "cell_type": "code",
   "execution_count": null,
   "id": "aa7440c0-9175-4cab-ab38-c8d95acaedfe",
   "metadata": {
    "vscode": {
     "languageId": "r"
    }
   },
   "outputs": [],
   "source": [
    "#S1 vs O1\n",
    "\n",
    "wilcox.test(ganancia_S1, ganancia_O1, paired = TRUE)"
   ]
  },
  {
   "cell_type": "code",
   "execution_count": null,
   "id": "ba546ade-e118-42a8-a315-7a56d968e7e2",
   "metadata": {
    "vscode": {
     "languageId": "r"
    }
   },
   "outputs": [],
   "source": [
    "\n",
    "\n",
    "# Crear vector de experimentos únicos (excepto S1 y O1)\n",
    "otros_experimentos <- datos_ss %>%\n",
    "  filter(!(Experimento %in% c(\"S1\", \"O1\"))) %>%\n",
    "  pull(Experimento)\n",
    "\n",
    "otros_experimentos <- unique(otros_experimentos)\n",
    "\n",
    "# Inicializar lista para resultados\n",
    "resultados <- data.frame(Experimento = character(), p_valor = numeric())\n",
    "\n",
    "for (exp in otros_experimentos) {\n",
    "  ganancia_exp <- datos %>%\n",
    "    filter(Experimento == exp) %>%\n",
    "    select(where(is.numeric)) %>%\n",
    "    unlist() %>%\n",
    "    as.numeric()\n",
    "  \n",
    "  test <- wilcox.test(ganancia_S1, ganancia_exp, paired = TRUE)\n",
    "  \n",
    "  resultados <- rbind(resultados, data.frame(Experimento = exp, p_valor = test$p.value))\n",
    "}\n"
   ]
  },
  {
   "cell_type": "code",
   "execution_count": null,
   "id": "dc1710c0-fd07-4d17-92d6-ffff6143005a",
   "metadata": {
    "vscode": {
     "languageId": "r"
    }
   },
   "outputs": [],
   "source": [
    "# Graficar\n",
    "options(repr.plot.width = 10, repr.plot.height = 6)  # ancho x alto en pulgadas\n",
    "ggplot(resultados, aes(x = Experimento, y = p_valor, fill = Experimento)) +\n",
    "  geom_bar(stat = \"identity\", width = 0.6) +\n",
    "  geom_text(aes(label = round(p_valor, 3)), vjust = -0.5, size = 6) +\n",
    "  geom_hline(yintercept = 0.05, linetype = \"dashed\", color = \"red\") +\n",
    "  labs(title = \"Test de Wilcoxon: Comparación con Experimento Original\",\n",
    "       x = \"Experimento\",\n",
    "       y = \"Valor p\") +\n",
    "  theme_minimal() +\n",
    " theme(\n",
    "    plot.title = element_text(size = 20, face = \"bold\"),   # tamaño del título\n",
    "    axis.text = element_text(size = 14),               # tamaño título eje X\n",
    "    legend.text  = element_text(size = 14)                # tamaño texto leyenda\n",
    "  )"
   ]
  }
 ],
 "metadata": {
  "colab": {
   "provenance": []
  },
  "kernelspec": {
   "display_name": "R",
   "language": "R",
   "name": "ir"
  },
  "language_info": {
   "codemirror_mode": "r",
   "file_extension": ".r",
   "mimetype": "text/x-r-source",
   "name": "R",
   "pygments_lexer": "r",
   "version": "4.4.3"
  }
 },
 "nbformat": 4,
 "nbformat_minor": 5
}
